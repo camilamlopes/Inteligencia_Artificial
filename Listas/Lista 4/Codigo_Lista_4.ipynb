{
 "cells": [
  {
   "cell_type": "code",
   "execution_count": 1,
   "metadata": {
    "id": "BjOBIO1cZqU7"
   },
   "outputs": [],
   "source": [
    "#System\n",
    "import sys\n",
    "\n",
    "# Data processing\n",
    "import numpy as np\n",
    "import pandas as pd\n",
    "from sklearn.preprocessing import LabelEncoder\n",
    "from sklearn.preprocessing import OneHotEncoder\n",
    "\n",
    "# Data visualization\n",
    "import pickle\n",
    "import seaborn as sns\n",
    "import plotly.express as px\n",
    "import matplotlib.pyplot as plt\n",
    "\n",
    "# Model and performance\n",
    "from sklearn import tree\n",
    "from sklearn.naive_bayes import GaussianNB\n",
    "from sklearn.compose import ColumnTransformer\n",
    "from sklearn.tree import DecisionTreeClassifier\n",
    "from sklearn.model_selection import GridSearchCV\n",
    "from yellowbrick.classifier import ConfusionMatrix\n",
    "from sklearn.ensemble import RandomForestClassifier\n",
    "from sklearn.model_selection import train_test_split\n",
    "from sklearn.metrics import accuracy_score, confusion_matrix, classification_report\n",
    "\n",
    "# Oversampling and under sampling\n",
    "from imblearn.under_sampling import TomekLinks\n",
    "from imblearn.over_sampling import SMOTE\n",
    "\n",
    "#Impute missing\n",
    "from sklearn.impute import SimpleImputer"
   ]
  },
  {
   "cell_type": "markdown",
   "metadata": {
    "id": "HH6SNpW6Tdrc"
   },
   "source": [
    "### Abrindo aqruivo do csv"
   ]
  },
  {
   "cell_type": "code",
   "execution_count": 2,
   "metadata": {
    "colab": {
     "base_uri": "https://localhost:8080/",
     "height": 458
    },
    "id": "oSlFWI2EYAOo",
    "outputId": "bb125133-88d2-414a-81aa-6bc510a9eddf"
   },
   "outputs": [
    {
     "name": "stderr",
     "output_type": "stream",
     "text": [
      "C:\\Users\\camil\\AppData\\Local\\Temp\\ipykernel_564\\176346885.py:1: FutureWarning: In a future version of pandas all arguments of read_csv except for the argument 'filepath_or_buffer' will be keyword-only.\n",
      "  base = pd.read_csv('breast-cancer.csv', ',')\n"
     ]
    },
    {
     "data": {
      "text/html": [
       "<div>\n",
       "<style scoped>\n",
       "    .dataframe tbody tr th:only-of-type {\n",
       "        vertical-align: middle;\n",
       "    }\n",
       "\n",
       "    .dataframe tbody tr th {\n",
       "        vertical-align: top;\n",
       "    }\n",
       "\n",
       "    .dataframe thead th {\n",
       "        text-align: right;\n",
       "    }\n",
       "</style>\n",
       "<table border=\"1\" class=\"dataframe\">\n",
       "  <thead>\n",
       "    <tr style=\"text-align: right;\">\n",
       "      <th></th>\n",
       "      <th>age</th>\n",
       "      <th>menopause</th>\n",
       "      <th>tumor-size</th>\n",
       "      <th>inv-nodes</th>\n",
       "      <th>node-caps</th>\n",
       "      <th>deg-malig</th>\n",
       "      <th>breast</th>\n",
       "      <th>breast-quad</th>\n",
       "      <th>irradiat</th>\n",
       "      <th>Class</th>\n",
       "    </tr>\n",
       "  </thead>\n",
       "  <tbody>\n",
       "    <tr>\n",
       "      <th>0</th>\n",
       "      <td>40-49</td>\n",
       "      <td>premeno</td>\n",
       "      <td>15-19</td>\n",
       "      <td>0-2</td>\n",
       "      <td>yes</td>\n",
       "      <td>3</td>\n",
       "      <td>right</td>\n",
       "      <td>left_up</td>\n",
       "      <td>no</td>\n",
       "      <td>recurrence-events</td>\n",
       "    </tr>\n",
       "    <tr>\n",
       "      <th>1</th>\n",
       "      <td>50-59</td>\n",
       "      <td>ge40</td>\n",
       "      <td>15-19</td>\n",
       "      <td>0-2</td>\n",
       "      <td>no</td>\n",
       "      <td>1</td>\n",
       "      <td>right</td>\n",
       "      <td>central</td>\n",
       "      <td>no</td>\n",
       "      <td>no-recurrence-events</td>\n",
       "    </tr>\n",
       "    <tr>\n",
       "      <th>2</th>\n",
       "      <td>50-59</td>\n",
       "      <td>ge40</td>\n",
       "      <td>35-39</td>\n",
       "      <td>0-2</td>\n",
       "      <td>no</td>\n",
       "      <td>2</td>\n",
       "      <td>left</td>\n",
       "      <td>left_low</td>\n",
       "      <td>no</td>\n",
       "      <td>recurrence-events</td>\n",
       "    </tr>\n",
       "    <tr>\n",
       "      <th>3</th>\n",
       "      <td>40-49</td>\n",
       "      <td>premeno</td>\n",
       "      <td>35-39</td>\n",
       "      <td>0-2</td>\n",
       "      <td>yes</td>\n",
       "      <td>3</td>\n",
       "      <td>right</td>\n",
       "      <td>left_low</td>\n",
       "      <td>yes</td>\n",
       "      <td>no-recurrence-events</td>\n",
       "    </tr>\n",
       "    <tr>\n",
       "      <th>4</th>\n",
       "      <td>40-49</td>\n",
       "      <td>premeno</td>\n",
       "      <td>30-34</td>\n",
       "      <td>3-5</td>\n",
       "      <td>yes</td>\n",
       "      <td>2</td>\n",
       "      <td>left</td>\n",
       "      <td>right_up</td>\n",
       "      <td>no</td>\n",
       "      <td>recurrence-events</td>\n",
       "    </tr>\n",
       "    <tr>\n",
       "      <th>...</th>\n",
       "      <td>...</td>\n",
       "      <td>...</td>\n",
       "      <td>...</td>\n",
       "      <td>...</td>\n",
       "      <td>...</td>\n",
       "      <td>...</td>\n",
       "      <td>...</td>\n",
       "      <td>...</td>\n",
       "      <td>...</td>\n",
       "      <td>...</td>\n",
       "    </tr>\n",
       "    <tr>\n",
       "      <th>281</th>\n",
       "      <td>50-59</td>\n",
       "      <td>ge40</td>\n",
       "      <td>30-34</td>\n",
       "      <td>6-8</td>\n",
       "      <td>yes</td>\n",
       "      <td>2</td>\n",
       "      <td>left</td>\n",
       "      <td>left_low</td>\n",
       "      <td>no</td>\n",
       "      <td>no-recurrence-events</td>\n",
       "    </tr>\n",
       "    <tr>\n",
       "      <th>282</th>\n",
       "      <td>50-59</td>\n",
       "      <td>premeno</td>\n",
       "      <td>25-29</td>\n",
       "      <td>3-5</td>\n",
       "      <td>yes</td>\n",
       "      <td>2</td>\n",
       "      <td>left</td>\n",
       "      <td>left_low</td>\n",
       "      <td>yes</td>\n",
       "      <td>no-recurrence-events</td>\n",
       "    </tr>\n",
       "    <tr>\n",
       "      <th>283</th>\n",
       "      <td>30-39</td>\n",
       "      <td>premeno</td>\n",
       "      <td>30-34</td>\n",
       "      <td>6-8</td>\n",
       "      <td>yes</td>\n",
       "      <td>2</td>\n",
       "      <td>right</td>\n",
       "      <td>right_up</td>\n",
       "      <td>no</td>\n",
       "      <td>no-recurrence-events</td>\n",
       "    </tr>\n",
       "    <tr>\n",
       "      <th>284</th>\n",
       "      <td>50-59</td>\n",
       "      <td>premeno</td>\n",
       "      <td>15-19</td>\n",
       "      <td>0-2</td>\n",
       "      <td>no</td>\n",
       "      <td>2</td>\n",
       "      <td>right</td>\n",
       "      <td>left_low</td>\n",
       "      <td>no</td>\n",
       "      <td>no-recurrence-events</td>\n",
       "    </tr>\n",
       "    <tr>\n",
       "      <th>285</th>\n",
       "      <td>50-59</td>\n",
       "      <td>ge40</td>\n",
       "      <td>40-44</td>\n",
       "      <td>0-2</td>\n",
       "      <td>no</td>\n",
       "      <td>3</td>\n",
       "      <td>left</td>\n",
       "      <td>right_up</td>\n",
       "      <td>no</td>\n",
       "      <td>no-recurrence-events</td>\n",
       "    </tr>\n",
       "  </tbody>\n",
       "</table>\n",
       "<p>286 rows × 10 columns</p>\n",
       "</div>"
      ],
      "text/plain": [
       "       age menopause tumor-size inv-nodes node-caps  deg-malig breast  \\\n",
       "0    40-49   premeno      15-19       0-2       yes          3  right   \n",
       "1    50-59      ge40      15-19       0-2        no          1  right   \n",
       "2    50-59      ge40      35-39       0-2        no          2   left   \n",
       "3    40-49   premeno      35-39       0-2       yes          3  right   \n",
       "4    40-49   premeno      30-34       3-5       yes          2   left   \n",
       "..     ...       ...        ...       ...       ...        ...    ...   \n",
       "281  50-59      ge40      30-34       6-8       yes          2   left   \n",
       "282  50-59   premeno      25-29       3-5       yes          2   left   \n",
       "283  30-39   premeno      30-34       6-8       yes          2  right   \n",
       "284  50-59   premeno      15-19       0-2        no          2  right   \n",
       "285  50-59      ge40      40-44       0-2        no          3   left   \n",
       "\n",
       "    breast-quad irradiat                 Class  \n",
       "0       left_up       no     recurrence-events  \n",
       "1       central       no  no-recurrence-events  \n",
       "2      left_low       no     recurrence-events  \n",
       "3      left_low      yes  no-recurrence-events  \n",
       "4      right_up       no     recurrence-events  \n",
       "..          ...      ...                   ...  \n",
       "281    left_low       no  no-recurrence-events  \n",
       "282    left_low      yes  no-recurrence-events  \n",
       "283    right_up       no  no-recurrence-events  \n",
       "284    left_low       no  no-recurrence-events  \n",
       "285    right_up       no  no-recurrence-events  \n",
       "\n",
       "[286 rows x 10 columns]"
      ]
     },
     "execution_count": 2,
     "metadata": {},
     "output_type": "execute_result"
    }
   ],
   "source": [
    "base = pd.read_csv('breast-cancer.csv', ',')\n",
    "base"
   ]
  },
  {
   "cell_type": "code",
   "execution_count": 3,
   "metadata": {
    "colab": {
     "base_uri": "https://localhost:8080/",
     "height": 423
    },
    "id": "_SThxM5BvScX",
    "outputId": "8e2a32f4-47f3-4cc0-a554-712e223a6630"
   },
   "outputs": [
    {
     "data": {
      "text/html": [
       "<div>\n",
       "<style scoped>\n",
       "    .dataframe tbody tr th:only-of-type {\n",
       "        vertical-align: middle;\n",
       "    }\n",
       "\n",
       "    .dataframe tbody tr th {\n",
       "        vertical-align: top;\n",
       "    }\n",
       "\n",
       "    .dataframe thead th {\n",
       "        text-align: right;\n",
       "    }\n",
       "</style>\n",
       "<table border=\"1\" class=\"dataframe\">\n",
       "  <thead>\n",
       "    <tr style=\"text-align: right;\">\n",
       "      <th></th>\n",
       "      <th>age</th>\n",
       "      <th>menopause</th>\n",
       "      <th>tumorsize</th>\n",
       "      <th>invnodes</th>\n",
       "      <th>nodecaps</th>\n",
       "      <th>degmalig</th>\n",
       "      <th>breast</th>\n",
       "      <th>breastquad</th>\n",
       "      <th>irradiat</th>\n",
       "      <th>Class</th>\n",
       "    </tr>\n",
       "  </thead>\n",
       "  <tbody>\n",
       "    <tr>\n",
       "      <th>0</th>\n",
       "      <td>40-49</td>\n",
       "      <td>premeno</td>\n",
       "      <td>15-19</td>\n",
       "      <td>0-2</td>\n",
       "      <td>yes</td>\n",
       "      <td>3</td>\n",
       "      <td>right</td>\n",
       "      <td>left_up</td>\n",
       "      <td>no</td>\n",
       "      <td>recurrence-events</td>\n",
       "    </tr>\n",
       "    <tr>\n",
       "      <th>1</th>\n",
       "      <td>50-59</td>\n",
       "      <td>ge40</td>\n",
       "      <td>15-19</td>\n",
       "      <td>0-2</td>\n",
       "      <td>no</td>\n",
       "      <td>1</td>\n",
       "      <td>right</td>\n",
       "      <td>central</td>\n",
       "      <td>no</td>\n",
       "      <td>no-recurrence-events</td>\n",
       "    </tr>\n",
       "    <tr>\n",
       "      <th>2</th>\n",
       "      <td>50-59</td>\n",
       "      <td>ge40</td>\n",
       "      <td>35-39</td>\n",
       "      <td>0-2</td>\n",
       "      <td>no</td>\n",
       "      <td>2</td>\n",
       "      <td>left</td>\n",
       "      <td>left_low</td>\n",
       "      <td>no</td>\n",
       "      <td>recurrence-events</td>\n",
       "    </tr>\n",
       "    <tr>\n",
       "      <th>3</th>\n",
       "      <td>40-49</td>\n",
       "      <td>premeno</td>\n",
       "      <td>35-39</td>\n",
       "      <td>0-2</td>\n",
       "      <td>yes</td>\n",
       "      <td>3</td>\n",
       "      <td>right</td>\n",
       "      <td>left_low</td>\n",
       "      <td>yes</td>\n",
       "      <td>no-recurrence-events</td>\n",
       "    </tr>\n",
       "    <tr>\n",
       "      <th>4</th>\n",
       "      <td>40-49</td>\n",
       "      <td>premeno</td>\n",
       "      <td>30-34</td>\n",
       "      <td>3-5</td>\n",
       "      <td>yes</td>\n",
       "      <td>2</td>\n",
       "      <td>left</td>\n",
       "      <td>right_up</td>\n",
       "      <td>no</td>\n",
       "      <td>recurrence-events</td>\n",
       "    </tr>\n",
       "    <tr>\n",
       "      <th>...</th>\n",
       "      <td>...</td>\n",
       "      <td>...</td>\n",
       "      <td>...</td>\n",
       "      <td>...</td>\n",
       "      <td>...</td>\n",
       "      <td>...</td>\n",
       "      <td>...</td>\n",
       "      <td>...</td>\n",
       "      <td>...</td>\n",
       "      <td>...</td>\n",
       "    </tr>\n",
       "    <tr>\n",
       "      <th>281</th>\n",
       "      <td>50-59</td>\n",
       "      <td>ge40</td>\n",
       "      <td>30-34</td>\n",
       "      <td>6-8</td>\n",
       "      <td>yes</td>\n",
       "      <td>2</td>\n",
       "      <td>left</td>\n",
       "      <td>left_low</td>\n",
       "      <td>no</td>\n",
       "      <td>no-recurrence-events</td>\n",
       "    </tr>\n",
       "    <tr>\n",
       "      <th>282</th>\n",
       "      <td>50-59</td>\n",
       "      <td>premeno</td>\n",
       "      <td>25-29</td>\n",
       "      <td>3-5</td>\n",
       "      <td>yes</td>\n",
       "      <td>2</td>\n",
       "      <td>left</td>\n",
       "      <td>left_low</td>\n",
       "      <td>yes</td>\n",
       "      <td>no-recurrence-events</td>\n",
       "    </tr>\n",
       "    <tr>\n",
       "      <th>283</th>\n",
       "      <td>30-39</td>\n",
       "      <td>premeno</td>\n",
       "      <td>30-34</td>\n",
       "      <td>6-8</td>\n",
       "      <td>yes</td>\n",
       "      <td>2</td>\n",
       "      <td>right</td>\n",
       "      <td>right_up</td>\n",
       "      <td>no</td>\n",
       "      <td>no-recurrence-events</td>\n",
       "    </tr>\n",
       "    <tr>\n",
       "      <th>284</th>\n",
       "      <td>50-59</td>\n",
       "      <td>premeno</td>\n",
       "      <td>15-19</td>\n",
       "      <td>0-2</td>\n",
       "      <td>no</td>\n",
       "      <td>2</td>\n",
       "      <td>right</td>\n",
       "      <td>left_low</td>\n",
       "      <td>no</td>\n",
       "      <td>no-recurrence-events</td>\n",
       "    </tr>\n",
       "    <tr>\n",
       "      <th>285</th>\n",
       "      <td>50-59</td>\n",
       "      <td>ge40</td>\n",
       "      <td>40-44</td>\n",
       "      <td>0-2</td>\n",
       "      <td>no</td>\n",
       "      <td>3</td>\n",
       "      <td>left</td>\n",
       "      <td>right_up</td>\n",
       "      <td>no</td>\n",
       "      <td>no-recurrence-events</td>\n",
       "    </tr>\n",
       "  </tbody>\n",
       "</table>\n",
       "<p>286 rows × 10 columns</p>\n",
       "</div>"
      ],
      "text/plain": [
       "       age menopause tumorsize invnodes nodecaps  degmalig breast breastquad  \\\n",
       "0    40-49   premeno     15-19      0-2      yes         3  right    left_up   \n",
       "1    50-59      ge40     15-19      0-2       no         1  right    central   \n",
       "2    50-59      ge40     35-39      0-2       no         2   left   left_low   \n",
       "3    40-49   premeno     35-39      0-2      yes         3  right   left_low   \n",
       "4    40-49   premeno     30-34      3-5      yes         2   left   right_up   \n",
       "..     ...       ...       ...      ...      ...       ...    ...        ...   \n",
       "281  50-59      ge40     30-34      6-8      yes         2   left   left_low   \n",
       "282  50-59   premeno     25-29      3-5      yes         2   left   left_low   \n",
       "283  30-39   premeno     30-34      6-8      yes         2  right   right_up   \n",
       "284  50-59   premeno     15-19      0-2       no         2  right   left_low   \n",
       "285  50-59      ge40     40-44      0-2       no         3   left   right_up   \n",
       "\n",
       "    irradiat                 Class  \n",
       "0         no     recurrence-events  \n",
       "1         no  no-recurrence-events  \n",
       "2         no     recurrence-events  \n",
       "3        yes  no-recurrence-events  \n",
       "4         no     recurrence-events  \n",
       "..       ...                   ...  \n",
       "281       no  no-recurrence-events  \n",
       "282      yes  no-recurrence-events  \n",
       "283       no  no-recurrence-events  \n",
       "284       no  no-recurrence-events  \n",
       "285       no  no-recurrence-events  \n",
       "\n",
       "[286 rows x 10 columns]"
      ]
     },
     "execution_count": 3,
     "metadata": {},
     "output_type": "execute_result"
    }
   ],
   "source": [
    "base.rename(columns={\"tumor-size\": \"tumorsize\"}, inplace=True)\n",
    "base.rename(columns={\"inv-nodes\": \"invnodes\"}, inplace=True)\n",
    "base.rename(columns={\"node-caps\": \"nodecaps\"}, inplace=True)\n",
    "base.rename(columns={\"deg-malig\": \"degmalig\"}, inplace=True)\n",
    "base.rename(columns={\"breast-quad\": \"breastquad\"}, inplace=True)\n",
    "base"
   ]
  },
  {
   "cell_type": "markdown",
   "metadata": {
    "id": "GoE1fs0EcXST"
   },
   "source": [
    "### Contando quantidade de instâncias"
   ]
  },
  {
   "cell_type": "code",
   "execution_count": 4,
   "metadata": {
    "id": "NB2W9BI7bCh7"
   },
   "outputs": [
    {
     "data": {
      "image/png": "[encoded data removed]",
      "text/plain": [
       "<Figure size 800x550 with 1 Axes>"
      ]
     },
     "metadata": {},
     "output_type": "display_data"
    }
   ],
   "source": [
    "np.unique(base['Class'], return_counts=True), sns.countplot(x = base['Class']);"
   ]
  },
  {
   "cell_type": "code",
   "execution_count": 5,
   "metadata": {
    "id": "yV99moB-ptki"
   },
   "outputs": [
    {
     "data": {
      "text/plain": [
       "(array(['20-29', '30-39', '40-49', '50-59', '60-69', '70-79'], dtype=object),\n",
       " array([ 1, 36, 90, 96, 57,  6], dtype=int64))"
      ]
     },
     "execution_count": 5,
     "metadata": {},
     "output_type": "execute_result"
    }
   ],
   "source": [
    "np.unique(base['age'], return_counts=True)#, sns.countplot(x = base['age'])"
   ]
  },
  {
   "cell_type": "code",
   "execution_count": 6,
   "metadata": {
    "id": "s0BKz-ZppwSw"
   },
   "outputs": [
    {
     "data": {
      "text/plain": [
       "(array(['ge40', 'lt40', 'premeno'], dtype=object),\n",
       " array([129,   7, 150], dtype=int64))"
      ]
     },
     "execution_count": 6,
     "metadata": {},
     "output_type": "execute_result"
    }
   ],
   "source": [
    "np.unique(base['menopause'], return_counts=True)#, sns.countplot(x = base['menopause'])"
   ]
  },
  {
   "cell_type": "code",
   "execution_count": 7,
   "metadata": {
    "id": "_q2ZPCabpz7v"
   },
   "outputs": [
    {
     "data": {
      "text/plain": [
       "(array(['0-4', '10-14', '15-19', '20-24', '25-29', '30-34', '35-39',\n",
       "        '40-44', '45-49', '5-9', '50-54'], dtype=object),\n",
       " array([ 8, 28, 30, 50, 54, 60, 19, 22,  3,  4,  8], dtype=int64))"
      ]
     },
     "execution_count": 7,
     "metadata": {},
     "output_type": "execute_result"
    }
   ],
   "source": [
    "np.unique(base['tumorsize'], return_counts=True)#, sns.countplot(x = base['tumorsize'])"
   ]
  },
  {
   "cell_type": "code",
   "execution_count": 8,
   "metadata": {
    "id": "Ra-bS5WAp7Qa"
   },
   "outputs": [
    {
     "data": {
      "text/plain": [
       "(array(['0-2', '12-14', '15-17', '24-26', '3-5', '6-8', '9-11'],\n",
       "       dtype=object),\n",
       " array([213,   3,   6,   1,  36,  17,  10], dtype=int64))"
      ]
     },
     "execution_count": 8,
     "metadata": {},
     "output_type": "execute_result"
    }
   ],
   "source": [
    "np.unique(base['invnodes'], return_counts=True)#, sns.countplot(x = base['invnodes'])"
   ]
  },
  {
   "cell_type": "code",
   "execution_count": 9,
   "metadata": {
    "id": "agshSfBJp9u7"
   },
   "outputs": [
    {
     "data": {
      "text/plain": [
       "((array(['?', 'no', 'yes'], dtype=object),\n",
       "  array([  8, 222,  56], dtype=int64)),\n",
       " <Axes: xlabel='nodecaps', ylabel='count'>)"
      ]
     },
     "execution_count": 9,
     "metadata": {},
     "output_type": "execute_result"
    },
    {
     "data": {
      "image/png": "[encoded data removed]",
      "text/plain": [
       "<Figure size 800x550 with 1 Axes>"
      ]
     },
     "metadata": {},
     "output_type": "display_data"
    }
   ],
   "source": [
    "np.unique(base['nodecaps'], return_counts=True), sns.countplot(x = base['nodecaps'])"
   ]
  },
  {
   "cell_type": "code",
   "execution_count": 10,
   "metadata": {},
   "outputs": [
    {
     "data": {
      "text/plain": [
       "(array([1, 2, 3], dtype=int64), array([ 71, 130,  85], dtype=int64))"
      ]
     },
     "execution_count": 10,
     "metadata": {},
     "output_type": "execute_result"
    }
   ],
   "source": [
    "np.unique(base['degmalig'], return_counts=True)#, sns.countplot(x = base['degmalig'])"
   ]
  },
  {
   "cell_type": "code",
   "execution_count": 11,
   "metadata": {},
   "outputs": [
    {
     "data": {
      "text/plain": [
       "(array(['left', 'right'], dtype=object), array([152, 134], dtype=int64))"
      ]
     },
     "execution_count": 11,
     "metadata": {},
     "output_type": "execute_result"
    }
   ],
   "source": [
    "np.unique(base['breast'], return_counts=True)#, sns.countplot(x = base['breast'])"
   ]
  },
  {
   "cell_type": "code",
   "execution_count": 12,
   "metadata": {},
   "outputs": [
    {
     "data": {
      "text/plain": [
       "((array(['?', 'central', 'left_low', 'left_up', 'right_low', 'right_up'],\n",
       "        dtype=object),\n",
       "  array([  1,  21, 110,  97,  24,  33], dtype=int64)),\n",
       " <Axes: xlabel='breastquad', ylabel='count'>)"
      ]
     },
     "execution_count": 12,
     "metadata": {},
     "output_type": "execute_result"
    },
    {
     "data": {
      "image/png": "[encoded data removed]",
      "text/plain": [
       "<Figure size 800x550 with 1 Axes>"
      ]
     },
     "metadata": {},
     "output_type": "display_data"
    }
   ],
   "source": [
    "np.unique(base['breastquad'], return_counts=True), sns.countplot(x = base['breastquad'])"
   ]
  },
  {
   "cell_type": "code",
   "execution_count": 13,
   "metadata": {},
   "outputs": [
    {
     "data": {
      "text/plain": [
       "(array(['no', 'yes'], dtype=object), array([218,  68], dtype=int64))"
      ]
     },
     "execution_count": 13,
     "metadata": {},
     "output_type": "execute_result"
    }
   ],
   "source": [
    "np.unique(base['irradiat'], return_counts=True)#, sns.countplot(x = base['irradiat'])"
   ]
  },
  {
   "cell_type": "markdown",
   "metadata": {
    "id": "49jV9wD8eDYR"
   },
   "source": [
    "### Tratamento de dados ausentes (imputação de dados)"
   ]
  },
  {
   "cell_type": "code",
   "execution_count": 14,
   "metadata": {},
   "outputs": [
    {
     "data": {
      "text/plain": [
       "age           0\n",
       "menopause     0\n",
       "tumorsize     0\n",
       "invnodes      0\n",
       "nodecaps      8\n",
       "degmalig      0\n",
       "breast        0\n",
       "breastquad    1\n",
       "irradiat      0\n",
       "Class         0\n",
       "dtype: int64"
      ]
     },
     "execution_count": 14,
     "metadata": {},
     "output_type": "execute_result"
    }
   ],
   "source": [
    "base.replace('?', np.nan, inplace = True)\n",
    "base.isnull().sum()"
   ]
  },
  {
   "cell_type": "code",
   "execution_count": 15,
   "metadata": {},
   "outputs": [],
   "source": [
    "imputer = SimpleImputer(missing_values=np.nan, strategy='most_frequent')\n",
    "imputer.fit(base)\n",
    "base = pd.DataFrame(imputer.fit_transform(base), columns = base.columns)"
   ]
  },
  {
   "cell_type": "code",
   "execution_count": 16,
   "metadata": {},
   "outputs": [
    {
     "data": {
      "text/plain": [
       "age           0\n",
       "menopause     0\n",
       "tumorsize     0\n",
       "invnodes      0\n",
       "nodecaps      0\n",
       "degmalig      0\n",
       "breast        0\n",
       "breastquad    0\n",
       "irradiat      0\n",
       "Class         0\n",
       "dtype: int64"
      ]
     },
     "execution_count": 16,
     "metadata": {},
     "output_type": "execute_result"
    }
   ],
   "source": [
    "base.isnull().sum()"
   ]
  },
  {
   "cell_type": "markdown",
   "metadata": {
    "id": "Bzspr-N3cbeJ"
   },
   "source": [
    "### Separando os atributos de entrada e de classe"
   ]
  },
  {
   "cell_type": "code",
   "execution_count": 17,
   "metadata": {
    "colab": {
     "base_uri": "https://localhost:8080/",
     "height": 423
    },
    "id": "-lfV_pl-cbu9",
    "outputId": "e233ae02-2627-4672-e7cd-1bc54342cee0"
   },
   "outputs": [
    {
     "data": {
      "text/html": [
       "<div>\n",
       "<style scoped>\n",
       "    .dataframe tbody tr th:only-of-type {\n",
       "        vertical-align: middle;\n",
       "    }\n",
       "\n",
       "    .dataframe tbody tr th {\n",
       "        vertical-align: top;\n",
       "    }\n",
       "\n",
       "    .dataframe thead th {\n",
       "        text-align: right;\n",
       "    }\n",
       "</style>\n",
       "<table border=\"1\" class=\"dataframe\">\n",
       "  <thead>\n",
       "    <tr style=\"text-align: right;\">\n",
       "      <th></th>\n",
       "      <th>age</th>\n",
       "      <th>menopause</th>\n",
       "      <th>tumorsize</th>\n",
       "      <th>invnodes</th>\n",
       "      <th>nodecaps</th>\n",
       "      <th>degmalig</th>\n",
       "      <th>breast</th>\n",
       "      <th>breastquad</th>\n",
       "      <th>irradiat</th>\n",
       "    </tr>\n",
       "  </thead>\n",
       "  <tbody>\n",
       "    <tr>\n",
       "      <th>0</th>\n",
       "      <td>40-49</td>\n",
       "      <td>premeno</td>\n",
       "      <td>15-19</td>\n",
       "      <td>0-2</td>\n",
       "      <td>yes</td>\n",
       "      <td>3</td>\n",
       "      <td>right</td>\n",
       "      <td>left_up</td>\n",
       "      <td>no</td>\n",
       "    </tr>\n",
       "    <tr>\n",
       "      <th>1</th>\n",
       "      <td>50-59</td>\n",
       "      <td>ge40</td>\n",
       "      <td>15-19</td>\n",
       "      <td>0-2</td>\n",
       "      <td>no</td>\n",
       "      <td>1</td>\n",
       "      <td>right</td>\n",
       "      <td>central</td>\n",
       "      <td>no</td>\n",
       "    </tr>\n",
       "    <tr>\n",
       "      <th>2</th>\n",
       "      <td>50-59</td>\n",
       "      <td>ge40</td>\n",
       "      <td>35-39</td>\n",
       "      <td>0-2</td>\n",
       "      <td>no</td>\n",
       "      <td>2</td>\n",
       "      <td>left</td>\n",
       "      <td>left_low</td>\n",
       "      <td>no</td>\n",
       "    </tr>\n",
       "    <tr>\n",
       "      <th>3</th>\n",
       "      <td>40-49</td>\n",
       "      <td>premeno</td>\n",
       "      <td>35-39</td>\n",
       "      <td>0-2</td>\n",
       "      <td>yes</td>\n",
       "      <td>3</td>\n",
       "      <td>right</td>\n",
       "      <td>left_low</td>\n",
       "      <td>yes</td>\n",
       "    </tr>\n",
       "    <tr>\n",
       "      <th>4</th>\n",
       "      <td>40-49</td>\n",
       "      <td>premeno</td>\n",
       "      <td>30-34</td>\n",
       "      <td>3-5</td>\n",
       "      <td>yes</td>\n",
       "      <td>2</td>\n",
       "      <td>left</td>\n",
       "      <td>right_up</td>\n",
       "      <td>no</td>\n",
       "    </tr>\n",
       "    <tr>\n",
       "      <th>...</th>\n",
       "      <td>...</td>\n",
       "      <td>...</td>\n",
       "      <td>...</td>\n",
       "      <td>...</td>\n",
       "      <td>...</td>\n",
       "      <td>...</td>\n",
       "      <td>...</td>\n",
       "      <td>...</td>\n",
       "      <td>...</td>\n",
       "    </tr>\n",
       "    <tr>\n",
       "      <th>281</th>\n",
       "      <td>50-59</td>\n",
       "      <td>ge40</td>\n",
       "      <td>30-34</td>\n",
       "      <td>6-8</td>\n",
       "      <td>yes</td>\n",
       "      <td>2</td>\n",
       "      <td>left</td>\n",
       "      <td>left_low</td>\n",
       "      <td>no</td>\n",
       "    </tr>\n",
       "    <tr>\n",
       "      <th>282</th>\n",
       "      <td>50-59</td>\n",
       "      <td>premeno</td>\n",
       "      <td>25-29</td>\n",
       "      <td>3-5</td>\n",
       "      <td>yes</td>\n",
       "      <td>2</td>\n",
       "      <td>left</td>\n",
       "      <td>left_low</td>\n",
       "      <td>yes</td>\n",
       "    </tr>\n",
       "    <tr>\n",
       "      <th>283</th>\n",
       "      <td>30-39</td>\n",
       "      <td>premeno</td>\n",
       "      <td>30-34</td>\n",
       "      <td>6-8</td>\n",
       "      <td>yes</td>\n",
       "      <td>2</td>\n",
       "      <td>right</td>\n",
       "      <td>right_up</td>\n",
       "      <td>no</td>\n",
       "    </tr>\n",
       "    <tr>\n",
       "      <th>284</th>\n",
       "      <td>50-59</td>\n",
       "      <td>premeno</td>\n",
       "      <td>15-19</td>\n",
       "      <td>0-2</td>\n",
       "      <td>no</td>\n",
       "      <td>2</td>\n",
       "      <td>right</td>\n",
       "      <td>left_low</td>\n",
       "      <td>no</td>\n",
       "    </tr>\n",
       "    <tr>\n",
       "      <th>285</th>\n",
       "      <td>50-59</td>\n",
       "      <td>ge40</td>\n",
       "      <td>40-44</td>\n",
       "      <td>0-2</td>\n",
       "      <td>no</td>\n",
       "      <td>3</td>\n",
       "      <td>left</td>\n",
       "      <td>right_up</td>\n",
       "      <td>no</td>\n",
       "    </tr>\n",
       "  </tbody>\n",
       "</table>\n",
       "<p>286 rows × 9 columns</p>\n",
       "</div>"
      ],
      "text/plain": [
       "       age menopause tumorsize invnodes nodecaps degmalig breast breastquad  \\\n",
       "0    40-49   premeno     15-19      0-2      yes        3  right    left_up   \n",
       "1    50-59      ge40     15-19      0-2       no        1  right    central   \n",
       "2    50-59      ge40     35-39      0-2       no        2   left   left_low   \n",
       "3    40-49   premeno     35-39      0-2      yes        3  right   left_low   \n",
       "4    40-49   premeno     30-34      3-5      yes        2   left   right_up   \n",
       "..     ...       ...       ...      ...      ...      ...    ...        ...   \n",
       "281  50-59      ge40     30-34      6-8      yes        2   left   left_low   \n",
       "282  50-59   premeno     25-29      3-5      yes        2   left   left_low   \n",
       "283  30-39   premeno     30-34      6-8      yes        2  right   right_up   \n",
       "284  50-59   premeno     15-19      0-2       no        2  right   left_low   \n",
       "285  50-59      ge40     40-44      0-2       no        3   left   right_up   \n",
       "\n",
       "    irradiat  \n",
       "0         no  \n",
       "1         no  \n",
       "2         no  \n",
       "3        yes  \n",
       "4         no  \n",
       "..       ...  \n",
       "281       no  \n",
       "282      yes  \n",
       "283       no  \n",
       "284       no  \n",
       "285       no  \n",
       "\n",
       "[286 rows x 9 columns]"
      ]
     },
     "execution_count": 17,
     "metadata": {},
     "output_type": "execute_result"
    }
   ],
   "source": [
    "X_prev = base.iloc[:, 0:9].values\n",
    "X_prev_label = base.iloc[:, 0:9]\n",
    "X_prev_label"
   ]
  },
  {
   "cell_type": "code",
   "execution_count": 18,
   "metadata": {
    "id": "VuFzKz66cR-q"
   },
   "outputs": [
    {
     "data": {
      "text/plain": [
       "array(['recurrence-events', 'no-recurrence-events', 'recurrence-events',\n",
       "       'no-recurrence-events', 'recurrence-events',\n",
       "       'no-recurrence-events', 'no-recurrence-events',\n",
       "       'no-recurrence-events', 'no-recurrence-events',\n",
       "       'no-recurrence-events', 'no-recurrence-events',\n",
       "       'no-recurrence-events', 'no-recurrence-events',\n",
       "       'no-recurrence-events', 'recurrence-events',\n",
       "       'no-recurrence-events', 'no-recurrence-events',\n",
       "       'no-recurrence-events', 'no-recurrence-events',\n",
       "       'no-recurrence-events', 'recurrence-events',\n",
       "       'no-recurrence-events', 'no-recurrence-events',\n",
       "       'no-recurrence-events', 'recurrence-events',\n",
       "       'no-recurrence-events', 'no-recurrence-events',\n",
       "       'no-recurrence-events', 'no-recurrence-events',\n",
       "       'recurrence-events', 'recurrence-events', 'no-recurrence-events',\n",
       "       'no-recurrence-events', 'no-recurrence-events',\n",
       "       'recurrence-events', 'no-recurrence-events',\n",
       "       'no-recurrence-events', 'no-recurrence-events',\n",
       "       'no-recurrence-events', 'no-recurrence-events',\n",
       "       'recurrence-events', 'no-recurrence-events',\n",
       "       'no-recurrence-events', 'recurrence-events',\n",
       "       'no-recurrence-events', 'recurrence-events',\n",
       "       'no-recurrence-events', 'no-recurrence-events',\n",
       "       'no-recurrence-events', 'no-recurrence-events',\n",
       "       'recurrence-events', 'no-recurrence-events',\n",
       "       'no-recurrence-events', 'no-recurrence-events',\n",
       "       'no-recurrence-events', 'no-recurrence-events',\n",
       "       'no-recurrence-events', 'no-recurrence-events',\n",
       "       'no-recurrence-events', 'recurrence-events', 'recurrence-events',\n",
       "       'no-recurrence-events', 'no-recurrence-events',\n",
       "       'recurrence-events', 'recurrence-events', 'no-recurrence-events',\n",
       "       'no-recurrence-events', 'no-recurrence-events',\n",
       "       'recurrence-events', 'no-recurrence-events', 'recurrence-events',\n",
       "       'no-recurrence-events', 'no-recurrence-events',\n",
       "       'recurrence-events', 'recurrence-events', 'no-recurrence-events',\n",
       "       'no-recurrence-events', 'no-recurrence-events',\n",
       "       'recurrence-events', 'no-recurrence-events',\n",
       "       'no-recurrence-events', 'no-recurrence-events',\n",
       "       'no-recurrence-events', 'no-recurrence-events',\n",
       "       'no-recurrence-events', 'no-recurrence-events',\n",
       "       'no-recurrence-events', 'no-recurrence-events',\n",
       "       'no-recurrence-events', 'no-recurrence-events',\n",
       "       'recurrence-events', 'recurrence-events', 'recurrence-events',\n",
       "       'no-recurrence-events', 'no-recurrence-events',\n",
       "       'no-recurrence-events', 'recurrence-events',\n",
       "       'no-recurrence-events', 'recurrence-events', 'recurrence-events',\n",
       "       'recurrence-events', 'recurrence-events', 'no-recurrence-events',\n",
       "       'no-recurrence-events', 'no-recurrence-events',\n",
       "       'recurrence-events', 'recurrence-events', 'recurrence-events',\n",
       "       'no-recurrence-events', 'no-recurrence-events',\n",
       "       'no-recurrence-events', 'no-recurrence-events',\n",
       "       'no-recurrence-events', 'no-recurrence-events',\n",
       "       'no-recurrence-events', 'no-recurrence-events',\n",
       "       'recurrence-events', 'no-recurrence-events',\n",
       "       'no-recurrence-events', 'no-recurrence-events',\n",
       "       'recurrence-events', 'no-recurrence-events',\n",
       "       'no-recurrence-events', 'recurrence-events',\n",
       "       'no-recurrence-events', 'no-recurrence-events',\n",
       "       'no-recurrence-events', 'no-recurrence-events',\n",
       "       'recurrence-events', 'no-recurrence-events',\n",
       "       'no-recurrence-events', 'no-recurrence-events',\n",
       "       'recurrence-events', 'recurrence-events', 'no-recurrence-events',\n",
       "       'recurrence-events', 'no-recurrence-events',\n",
       "       'no-recurrence-events', 'recurrence-events',\n",
       "       'no-recurrence-events', 'recurrence-events',\n",
       "       'no-recurrence-events', 'recurrence-events',\n",
       "       'no-recurrence-events', 'no-recurrence-events',\n",
       "       'no-recurrence-events', 'recurrence-events',\n",
       "       'no-recurrence-events', 'no-recurrence-events',\n",
       "       'no-recurrence-events', 'recurrence-events',\n",
       "       'no-recurrence-events', 'no-recurrence-events',\n",
       "       'recurrence-events', 'no-recurrence-events',\n",
       "       'no-recurrence-events', 'recurrence-events', 'recurrence-events',\n",
       "       'no-recurrence-events', 'no-recurrence-events',\n",
       "       'no-recurrence-events', 'no-recurrence-events',\n",
       "       'no-recurrence-events', 'no-recurrence-events',\n",
       "       'recurrence-events', 'recurrence-events', 'recurrence-events',\n",
       "       'no-recurrence-events', 'no-recurrence-events',\n",
       "       'no-recurrence-events', 'recurrence-events', 'recurrence-events',\n",
       "       'no-recurrence-events', 'recurrence-events',\n",
       "       'no-recurrence-events', 'no-recurrence-events',\n",
       "       'no-recurrence-events', 'recurrence-events', 'recurrence-events',\n",
       "       'no-recurrence-events', 'no-recurrence-events',\n",
       "       'recurrence-events', 'no-recurrence-events', 'recurrence-events',\n",
       "       'no-recurrence-events', 'no-recurrence-events',\n",
       "       'no-recurrence-events', 'recurrence-events',\n",
       "       'no-recurrence-events', 'no-recurrence-events',\n",
       "       'recurrence-events', 'no-recurrence-events', 'recurrence-events',\n",
       "       'no-recurrence-events', 'no-recurrence-events',\n",
       "       'no-recurrence-events', 'recurrence-events',\n",
       "       'no-recurrence-events', 'no-recurrence-events',\n",
       "       'recurrence-events', 'no-recurrence-events',\n",
       "       'no-recurrence-events', 'no-recurrence-events',\n",
       "       'no-recurrence-events', 'no-recurrence-events',\n",
       "       'recurrence-events', 'no-recurrence-events', 'recurrence-events',\n",
       "       'recurrence-events', 'no-recurrence-events', 'recurrence-events',\n",
       "       'recurrence-events', 'no-recurrence-events',\n",
       "       'no-recurrence-events', 'no-recurrence-events',\n",
       "       'no-recurrence-events', 'recurrence-events',\n",
       "       'no-recurrence-events', 'recurrence-events',\n",
       "       'no-recurrence-events', 'no-recurrence-events',\n",
       "       'no-recurrence-events', 'no-recurrence-events',\n",
       "       'no-recurrence-events', 'recurrence-events',\n",
       "       'no-recurrence-events', 'no-recurrence-events',\n",
       "       'no-recurrence-events', 'no-recurrence-events',\n",
       "       'recurrence-events', 'no-recurrence-events',\n",
       "       'no-recurrence-events', 'no-recurrence-events',\n",
       "       'no-recurrence-events', 'no-recurrence-events',\n",
       "       'recurrence-events', 'no-recurrence-events', 'recurrence-events',\n",
       "       'recurrence-events', 'recurrence-events', 'recurrence-events',\n",
       "       'no-recurrence-events', 'no-recurrence-events',\n",
       "       'no-recurrence-events', 'no-recurrence-events',\n",
       "       'no-recurrence-events', 'no-recurrence-events',\n",
       "       'no-recurrence-events', 'no-recurrence-events',\n",
       "       'no-recurrence-events', 'recurrence-events',\n",
       "       'no-recurrence-events', 'no-recurrence-events',\n",
       "       'no-recurrence-events', 'no-recurrence-events',\n",
       "       'recurrence-events', 'no-recurrence-events', 'recurrence-events',\n",
       "       'no-recurrence-events', 'recurrence-events',\n",
       "       'no-recurrence-events', 'no-recurrence-events',\n",
       "       'no-recurrence-events', 'recurrence-events',\n",
       "       'no-recurrence-events', 'no-recurrence-events',\n",
       "       'no-recurrence-events', 'recurrence-events',\n",
       "       'no-recurrence-events', 'no-recurrence-events',\n",
       "       'recurrence-events', 'recurrence-events', 'no-recurrence-events',\n",
       "       'no-recurrence-events', 'no-recurrence-events',\n",
       "       'no-recurrence-events', 'no-recurrence-events',\n",
       "       'no-recurrence-events', 'no-recurrence-events',\n",
       "       'no-recurrence-events', 'no-recurrence-events',\n",
       "       'no-recurrence-events', 'no-recurrence-events',\n",
       "       'no-recurrence-events', 'no-recurrence-events',\n",
       "       'no-recurrence-events'], dtype=object)"
      ]
     },
     "execution_count": 18,
     "metadata": {},
     "output_type": "execute_result"
    }
   ],
   "source": [
    "y_classe = base.iloc[:, 9].values\n",
    "y_classe"
   ]
  },
  {
   "cell_type": "markdown",
   "metadata": {
    "id": "ggp0KdrEq7m9"
   },
   "source": [
    "### Tratamento de dados categóricos"
   ]
  },
  {
   "cell_type": "code",
   "execution_count": 19,
   "metadata": {
    "id": "Y8VQPLqueDpv"
   },
   "outputs": [],
   "source": [
    "label_encoder = LabelEncoder()"
   ]
  },
  {
   "cell_type": "code",
   "execution_count": 20,
   "metadata": {
    "colab": {
     "base_uri": "https://localhost:8080/",
     "height": 423
    },
    "id": "0X1Ezwg8kJiA",
    "outputId": "cd579877-77ad-4fb9-b9b2-be46f3a76f24"
   },
   "outputs": [
    {
     "data": {
      "text/html": [
       "<div>\n",
       "<style scoped>\n",
       "    .dataframe tbody tr th:only-of-type {\n",
       "        vertical-align: middle;\n",
       "    }\n",
       "\n",
       "    .dataframe tbody tr th {\n",
       "        vertical-align: top;\n",
       "    }\n",
       "\n",
       "    .dataframe thead th {\n",
       "        text-align: right;\n",
       "    }\n",
       "</style>\n",
       "<table border=\"1\" class=\"dataframe\">\n",
       "  <thead>\n",
       "    <tr style=\"text-align: right;\">\n",
       "      <th></th>\n",
       "      <th>age</th>\n",
       "      <th>menopause</th>\n",
       "      <th>tumorsize</th>\n",
       "      <th>invnodes</th>\n",
       "      <th>nodecaps</th>\n",
       "      <th>degmalig</th>\n",
       "      <th>breast</th>\n",
       "      <th>breastquad</th>\n",
       "      <th>irradiat</th>\n",
       "    </tr>\n",
       "  </thead>\n",
       "  <tbody>\n",
       "    <tr>\n",
       "      <th>0</th>\n",
       "      <td>40-49</td>\n",
       "      <td>premeno</td>\n",
       "      <td>15-19</td>\n",
       "      <td>0-2</td>\n",
       "      <td>yes</td>\n",
       "      <td>3</td>\n",
       "      <td>right</td>\n",
       "      <td>left_up</td>\n",
       "      <td>no</td>\n",
       "    </tr>\n",
       "    <tr>\n",
       "      <th>1</th>\n",
       "      <td>50-59</td>\n",
       "      <td>ge40</td>\n",
       "      <td>15-19</td>\n",
       "      <td>0-2</td>\n",
       "      <td>no</td>\n",
       "      <td>1</td>\n",
       "      <td>right</td>\n",
       "      <td>central</td>\n",
       "      <td>no</td>\n",
       "    </tr>\n",
       "    <tr>\n",
       "      <th>2</th>\n",
       "      <td>50-59</td>\n",
       "      <td>ge40</td>\n",
       "      <td>35-39</td>\n",
       "      <td>0-2</td>\n",
       "      <td>no</td>\n",
       "      <td>2</td>\n",
       "      <td>left</td>\n",
       "      <td>left_low</td>\n",
       "      <td>no</td>\n",
       "    </tr>\n",
       "    <tr>\n",
       "      <th>3</th>\n",
       "      <td>40-49</td>\n",
       "      <td>premeno</td>\n",
       "      <td>35-39</td>\n",
       "      <td>0-2</td>\n",
       "      <td>yes</td>\n",
       "      <td>3</td>\n",
       "      <td>right</td>\n",
       "      <td>left_low</td>\n",
       "      <td>yes</td>\n",
       "    </tr>\n",
       "    <tr>\n",
       "      <th>4</th>\n",
       "      <td>40-49</td>\n",
       "      <td>premeno</td>\n",
       "      <td>30-34</td>\n",
       "      <td>3-5</td>\n",
       "      <td>yes</td>\n",
       "      <td>2</td>\n",
       "      <td>left</td>\n",
       "      <td>right_up</td>\n",
       "      <td>no</td>\n",
       "    </tr>\n",
       "    <tr>\n",
       "      <th>...</th>\n",
       "      <td>...</td>\n",
       "      <td>...</td>\n",
       "      <td>...</td>\n",
       "      <td>...</td>\n",
       "      <td>...</td>\n",
       "      <td>...</td>\n",
       "      <td>...</td>\n",
       "      <td>...</td>\n",
       "      <td>...</td>\n",
       "    </tr>\n",
       "    <tr>\n",
       "      <th>281</th>\n",
       "      <td>50-59</td>\n",
       "      <td>ge40</td>\n",
       "      <td>30-34</td>\n",
       "      <td>6-8</td>\n",
       "      <td>yes</td>\n",
       "      <td>2</td>\n",
       "      <td>left</td>\n",
       "      <td>left_low</td>\n",
       "      <td>no</td>\n",
       "    </tr>\n",
       "    <tr>\n",
       "      <th>282</th>\n",
       "      <td>50-59</td>\n",
       "      <td>premeno</td>\n",
       "      <td>25-29</td>\n",
       "      <td>3-5</td>\n",
       "      <td>yes</td>\n",
       "      <td>2</td>\n",
       "      <td>left</td>\n",
       "      <td>left_low</td>\n",
       "      <td>yes</td>\n",
       "    </tr>\n",
       "    <tr>\n",
       "      <th>283</th>\n",
       "      <td>30-39</td>\n",
       "      <td>premeno</td>\n",
       "      <td>30-34</td>\n",
       "      <td>6-8</td>\n",
       "      <td>yes</td>\n",
       "      <td>2</td>\n",
       "      <td>right</td>\n",
       "      <td>right_up</td>\n",
       "      <td>no</td>\n",
       "    </tr>\n",
       "    <tr>\n",
       "      <th>284</th>\n",
       "      <td>50-59</td>\n",
       "      <td>premeno</td>\n",
       "      <td>15-19</td>\n",
       "      <td>0-2</td>\n",
       "      <td>no</td>\n",
       "      <td>2</td>\n",
       "      <td>right</td>\n",
       "      <td>left_low</td>\n",
       "      <td>no</td>\n",
       "    </tr>\n",
       "    <tr>\n",
       "      <th>285</th>\n",
       "      <td>50-59</td>\n",
       "      <td>ge40</td>\n",
       "      <td>40-44</td>\n",
       "      <td>0-2</td>\n",
       "      <td>no</td>\n",
       "      <td>3</td>\n",
       "      <td>left</td>\n",
       "      <td>right_up</td>\n",
       "      <td>no</td>\n",
       "    </tr>\n",
       "  </tbody>\n",
       "</table>\n",
       "<p>286 rows × 9 columns</p>\n",
       "</div>"
      ],
      "text/plain": [
       "       age menopause tumorsize invnodes nodecaps degmalig breast breastquad  \\\n",
       "0    40-49   premeno     15-19      0-2      yes        3  right    left_up   \n",
       "1    50-59      ge40     15-19      0-2       no        1  right    central   \n",
       "2    50-59      ge40     35-39      0-2       no        2   left   left_low   \n",
       "3    40-49   premeno     35-39      0-2      yes        3  right   left_low   \n",
       "4    40-49   premeno     30-34      3-5      yes        2   left   right_up   \n",
       "..     ...       ...       ...      ...      ...      ...    ...        ...   \n",
       "281  50-59      ge40     30-34      6-8      yes        2   left   left_low   \n",
       "282  50-59   premeno     25-29      3-5      yes        2   left   left_low   \n",
       "283  30-39   premeno     30-34      6-8      yes        2  right   right_up   \n",
       "284  50-59   premeno     15-19      0-2       no        2  right   left_low   \n",
       "285  50-59      ge40     40-44      0-2       no        3   left   right_up   \n",
       "\n",
       "    irradiat  \n",
       "0         no  \n",
       "1         no  \n",
       "2         no  \n",
       "3        yes  \n",
       "4         no  \n",
       "..       ...  \n",
       "281       no  \n",
       "282      yes  \n",
       "283       no  \n",
       "284       no  \n",
       "285       no  \n",
       "\n",
       "[286 rows x 9 columns]"
      ]
     },
     "execution_count": 20,
     "metadata": {},
     "output_type": "execute_result"
    }
   ],
   "source": [
    "X_prev_label"
   ]
  },
  {
   "cell_type": "code",
   "execution_count": 21,
   "metadata": {
    "id": "Tr7idSAZkjoI"
   },
   "outputs": [],
   "source": [
    "label_encoder_age = LabelEncoder()\n",
    "label_encoder_menopause = LabelEncoder()\n",
    "label_encoder_tumorsize = LabelEncoder()\n",
    "label_encoder_invnodes = LabelEncoder()\n",
    "label_encoder_nodecaps = LabelEncoder()\n",
    "label_encoder_breast = LabelEncoder()\n",
    "label_encoder_irradiat = LabelEncoder()"
   ]
  },
  {
   "cell_type": "code",
   "execution_count": 22,
   "metadata": {
    "id": "E7_FLb_ntFNB"
   },
   "outputs": [],
   "source": [
    "X_prev[:,0] = label_encoder_age.fit_transform(X_prev[:,0])\n",
    "X_prev[:,1] = label_encoder_menopause.fit_transform(X_prev[:,1])\n",
    "X_prev[:,2] = label_encoder_tumorsize.fit_transform(X_prev[:,2])\n",
    "X_prev[:,3] = label_encoder_invnodes.fit_transform(X_prev[:,3])\n",
    "X_prev[:,4] = label_encoder_nodecaps.fit_transform(X_prev[:,4])\n",
    "X_prev[:,6] = label_encoder_breast.fit_transform(X_prev[:,6])\n",
    "X_prev[:,8] = label_encoder_irradiat.fit_transform(X_prev[:,8])"
   ]
  },
  {
   "cell_type": "code",
   "execution_count": 23,
   "metadata": {
    "id": "LKQKDgSfwyTS"
   },
   "outputs": [
    {
     "data": {
      "text/plain": [
       "array([[2, 2, 2, 0, 1, 3, 1, 'left_up', 0],\n",
       "       [3, 0, 2, 0, 0, 1, 1, 'central', 0],\n",
       "       [3, 0, 6, 0, 0, 2, 0, 'left_low', 0],\n",
       "       [2, 2, 6, 0, 1, 3, 1, 'left_low', 1],\n",
       "       [2, 2, 5, 4, 1, 2, 0, 'right_up', 0],\n",
       "       [3, 2, 4, 4, 0, 2, 1, 'left_up', 1],\n",
       "       [3, 0, 7, 0, 0, 3, 0, 'left_up', 0],\n",
       "       [2, 2, 1, 0, 0, 2, 0, 'left_up', 0],\n",
       "       [2, 2, 0, 0, 0, 2, 1, 'right_low', 0],\n",
       "       [2, 0, 7, 2, 1, 2, 1, 'left_up', 1],\n",
       "       [3, 2, 4, 0, 0, 2, 0, 'left_low', 0],\n",
       "       [4, 0, 2, 0, 0, 2, 1, 'left_up', 0],\n",
       "       [3, 0, 5, 0, 0, 1, 1, 'central', 0],\n",
       "       [3, 0, 4, 0, 0, 2, 1, 'left_up', 0],\n",
       "       [2, 2, 4, 0, 0, 2, 0, 'left_low', 1],\n",
       "       [1, 2, 3, 0, 0, 3, 0, 'central', 0],\n",
       "       [3, 2, 1, 4, 0, 1, 1, 'left_up', 0],\n",
       "       [4, 0, 2, 0, 0, 2, 1, 'left_up', 0],\n",
       "       [3, 2, 7, 0, 0, 2, 0, 'left_up', 0],\n",
       "       [3, 0, 3, 0, 0, 3, 0, 'left_up', 0],\n",
       "       [3, 1, 3, 0, 0, 1, 0, 'left_low', 0],\n",
       "       [4, 0, 7, 4, 0, 2, 1, 'left_up', 1],\n",
       "       [3, 0, 2, 0, 0, 2, 1, 'left_low', 0],\n",
       "       [2, 2, 1, 0, 0, 1, 1, 'left_up', 0],\n",
       "       [1, 2, 2, 5, 1, 3, 0, 'left_low', 1],\n",
       "       [3, 0, 3, 4, 1, 2, 1, 'left_up', 0],\n",
       "       [3, 0, 1, 0, 0, 2, 1, 'left_low', 0],\n",
       "       [2, 2, 1, 0, 0, 1, 1, 'left_up', 0],\n",
       "       [4, 0, 5, 4, 1, 3, 0, 'left_low', 0],\n",
       "       [2, 2, 2, 2, 1, 3, 0, 'left_low', 0],\n",
       "       [4, 0, 5, 0, 0, 3, 1, 'central', 0],\n",
       "       [4, 0, 4, 4, 0, 1, 1, 'left_low', 1],\n",
       "       [3, 0, 4, 0, 0, 3, 0, 'right_up', 0],\n",
       "       [3, 0, 3, 0, 0, 3, 1, 'left_up', 0],\n",
       "       [2, 2, 5, 0, 0, 1, 0, 'left_low', 1],\n",
       "       [1, 2, 2, 0, 0, 1, 0, 'left_low', 0],\n",
       "       [2, 2, 1, 0, 0, 2, 1, 'left_up', 0],\n",
       "       [4, 0, 8, 5, 1, 3, 0, 'central', 0],\n",
       "       [2, 0, 3, 0, 0, 3, 0, 'left_low', 0],\n",
       "       [2, 2, 1, 0, 0, 1, 1, 'right_low', 0],\n",
       "       [1, 2, 6, 0, 0, 3, 0, 'left_low', 0],\n",
       "       [2, 2, 6, 6, 1, 2, 1, 'right_up', 1],\n",
       "       [4, 0, 4, 0, 0, 2, 1, 'left_low', 0],\n",
       "       [3, 0, 3, 4, 1, 3, 1, 'right_up', 0],\n",
       "       [1, 2, 2, 0, 0, 1, 0, 'left_low', 0],\n",
       "       [3, 2, 5, 0, 0, 3, 0, 'right_up', 0],\n",
       "       [4, 0, 1, 0, 0, 2, 1, 'left_up', 1],\n",
       "       [2, 2, 6, 0, 1, 3, 1, 'left_up', 1],\n",
       "       [3, 2, 10, 0, 1, 2, 1, 'left_up', 1],\n",
       "       [3, 0, 7, 0, 0, 3, 1, 'left_up', 0],\n",
       "       [5, 0, 2, 6, 0, 1, 0, 'left_low', 1],\n",
       "       [3, 1, 5, 0, 0, 3, 1, 'left_up', 0],\n",
       "       [2, 2, 0, 0, 0, 3, 0, 'central', 0],\n",
       "       [5, 0, 7, 0, 0, 1, 1, 'right_up', 0],\n",
       "       [2, 2, 4, 0, 0, 2, 0, 'right_low', 1],\n",
       "       [3, 0, 4, 2, 1, 3, 1, 'left_up', 0],\n",
       "       [3, 2, 3, 0, 0, 1, 0, 'left_low', 0],\n",
       "       [3, 0, 6, 2, 0, 3, 0, 'left_low', 0],\n",
       "       [3, 0, 10, 0, 0, 1, 1, 'right_up', 0],\n",
       "       [1, 2, 0, 0, 0, 2, 1, 'central', 0],\n",
       "       [3, 0, 7, 5, 1, 3, 0, 'left_low', 1],\n",
       "       [2, 2, 5, 0, 0, 2, 1, 'right_up', 1],\n",
       "       [2, 0, 3, 0, 0, 3, 0, 'left_up', 0],\n",
       "       [2, 2, 5, 2, 1, 3, 0, 'left_low', 0],\n",
       "       [2, 0, 3, 0, 0, 2, 1, 'left_up', 0],\n",
       "       [3, 0, 2, 0, 0, 1, 1, 'central', 0],\n",
       "       [1, 2, 4, 0, 0, 2, 1, 'left_low', 0],\n",
       "       [4, 0, 2, 0, 0, 2, 0, 'left_low', 0],\n",
       "       [3, 2, 10, 6, 1, 2, 1, 'left_up', 0],\n",
       "       [1, 2, 1, 0, 0, 1, 1, 'left_low', 0],\n",
       "       [3, 2, 4, 4, 1, 3, 0, 'left_low', 1],\n",
       "       [4, 0, 4, 4, 0, 1, 1, 'left_up', 1],\n",
       "       [4, 0, 1, 0, 0, 1, 1, 'left_low', 0],\n",
       "       [3, 0, 5, 5, 1, 3, 0, 'right_low', 0],\n",
       "       [1, 2, 4, 5, 1, 3, 0, 'right_low', 1],\n",
       "       [3, 0, 1, 0, 0, 1, 0, 'left_low', 0],\n",
       "       [3, 2, 2, 0, 0, 1, 0, 'left_low', 0],\n",
       "       [2, 2, 4, 0, 0, 2, 1, 'central', 0],\n",
       "       [2, 2, 4, 0, 0, 3, 0, 'right_up', 0],\n",
       "       [4, 0, 5, 5, 1, 2, 1, 'right_up', 0],\n",
       "       [3, 1, 2, 0, 0, 2, 0, 'left_low', 0],\n",
       "       [2, 2, 4, 0, 0, 2, 1, 'left_low', 0],\n",
       "       [2, 2, 5, 0, 0, 1, 1, 'left_up', 0],\n",
       "       [4, 0, 2, 0, 0, 2, 0, 'left_up', 1],\n",
       "       [1, 2, 0, 0, 0, 2, 1, 'central', 0],\n",
       "       [3, 0, 6, 0, 0, 3, 0, 'left_up', 0],\n",
       "       [2, 2, 7, 0, 0, 1, 1, 'left_up', 0],\n",
       "       [1, 2, 4, 5, 1, 2, 1, 'left_up', 1],\n",
       "       [3, 0, 3, 0, 0, 1, 1, 'left_low', 0],\n",
       "       [3, 0, 5, 0, 0, 1, 0, 'left_up', 0],\n",
       "       [4, 0, 3, 0, 0, 1, 1, 'left_up', 0],\n",
       "       [1, 2, 5, 4, 0, 3, 1, 'left_up', 1],\n",
       "       [3, 1, 3, 0, 0, 1, 0, 'left_up', 0],\n",
       "       [3, 2, 1, 0, 0, 2, 1, 'left_up', 0],\n",
       "       [3, 0, 3, 0, 0, 2, 1, 'left_up', 0],\n",
       "       [2, 2, 8, 0, 0, 2, 0, 'left_low', 1],\n",
       "       [1, 2, 7, 0, 0, 1, 0, 'left_up', 0],\n",
       "       [3, 2, 1, 0, 0, 1, 0, 'left_low', 0],\n",
       "       [4, 0, 5, 0, 0, 3, 1, 'left_up', 1],\n",
       "       [2, 2, 6, 0, 0, 1, 1, 'left_up', 0],\n",
       "       [2, 2, 3, 4, 1, 2, 0, 'left_low', 1],\n",
       "       [3, 2, 2, 0, 0, 2, 0, 'left_low', 0],\n",
       "       [3, 0, 5, 0, 0, 3, 1, 'left_low', 0],\n",
       "       [4, 0, 3, 0, 0, 2, 0, 'left_up', 0],\n",
       "       [2, 2, 3, 0, 0, 1, 0, 'right_low', 0],\n",
       "       [4, 0, 5, 4, 1, 2, 0, 'central', 1],\n",
       "       [4, 0, 3, 4, 0, 2, 0, 'left_low', 1],\n",
       "       [3, 2, 4, 0, 0, 2, 0, 'right_up', 0],\n",
       "       [3, 0, 5, 0, 0, 1, 1, 'right_up', 0],\n",
       "       [2, 2, 3, 0, 0, 2, 0, 'right_low', 0],\n",
       "       [4, 0, 2, 0, 0, 1, 1, 'left_up', 0],\n",
       "       [4, 0, 5, 0, 0, 2, 0, 'left_low', 1],\n",
       "       [1, 2, 5, 0, 0, 2, 0, 'left_up', 0],\n",
       "       [1, 2, 7, 4, 0, 3, 1, 'right_up', 1],\n",
       "       [4, 0, 9, 0, 0, 1, 0, 'central', 0],\n",
       "       [4, 0, 1, 0, 0, 1, 0, 'left_up', 0],\n",
       "       [2, 2, 5, 5, 1, 3, 1, 'left_up', 0],\n",
       "       [4, 0, 1, 0, 0, 1, 0, 'left_up', 0],\n",
       "       [2, 2, 6, 6, 1, 2, 1, 'left_up', 1],\n",
       "       [2, 2, 3, 0, 0, 1, 1, 'left_low', 0],\n",
       "       [2, 2, 5, 0, 1, 3, 1, 'right_up', 0],\n",
       "       [3, 2, 4, 0, 1, 2, 0, 'left_up', 0],\n",
       "       [2, 2, 2, 0, 0, 2, 0, 'left_low', 0],\n",
       "       [1, 2, 6, 6, 1, 3, 0, 'left_low', 0],\n",
       "       [1, 2, 1, 0, 0, 2, 0, 'right_low', 0],\n",
       "       [3, 0, 5, 0, 0, 1, 1, 'left_low', 0],\n",
       "       [4, 0, 5, 0, 0, 2, 0, 'left_up', 0],\n",
       "       [4, 0, 4, 0, 0, 2, 0, 'left_low', 0],\n",
       "       [2, 2, 2, 0, 0, 2, 0, 'left_up', 0],\n",
       "       [4, 0, 2, 0, 0, 2, 1, 'left_low', 0],\n",
       "       [2, 2, 5, 0, 0, 2, 0, 'right_low', 0],\n",
       "       [0, 2, 6, 0, 0, 2, 1, 'right_up', 0],\n",
       "       [2, 2, 5, 0, 0, 3, 1, 'right_up', 0],\n",
       "       [2, 2, 4, 0, 0, 2, 1, 'left_low', 0],\n",
       "       [1, 2, 5, 0, 0, 3, 0, 'left_low', 0],\n",
       "       [1, 2, 2, 0, 0, 1, 1, 'left_low', 0],\n",
       "       [3, 0, 0, 0, 0, 1, 1, 'central', 0],\n",
       "       [3, 0, 0, 0, 0, 1, 0, 'left_low', 0],\n",
       "       [4, 0, 10, 0, 0, 3, 1, 'left_up', 0],\n",
       "       [3, 2, 5, 0, 0, 1, 0, 'central', 0],\n",
       "       [4, 0, 3, 3, 1, 3, 0, 'left_low', 1],\n",
       "       [2, 2, 4, 0, 0, 2, 0, 'left_up', 0],\n",
       "       [2, 2, 5, 4, 0, 2, 1, 'left_up', 0],\n",
       "       [3, 2, 3, 4, 1, 2, 0, 'left_low', 0],\n",
       "       [3, 0, 2, 0, 1, 2, 0, 'central', 1],\n",
       "       [3, 2, 1, 0, 0, 3, 0, 'left_low', 0],\n",
       "       [1, 2, 5, 6, 0, 2, 1, 'left_up', 1],\n",
       "       [4, 0, 1, 0, 0, 1, 0, 'left_low', 0],\n",
       "       [2, 2, 7, 0, 0, 2, 1, 'left_low', 0],\n",
       "       [3, 0, 5, 6, 0, 3, 0, 'left_up', 1],\n",
       "       [2, 2, 10, 0, 0, 2, 1, 'left_low', 1],\n",
       "       [3, 0, 2, 0, 0, 2, 1, 'right_up', 0],\n",
       "       [3, 0, 7, 4, 1, 2, 0, 'left_low', 0],\n",
       "       [1, 2, 4, 4, 1, 3, 0, 'left_low', 1],\n",
       "       [4, 0, 1, 0, 0, 2, 0, 'left_low', 0],\n",
       "       [4, 1, 1, 0, 0, 1, 0, 'right_up', 0],\n",
       "       [1, 2, 5, 0, 0, 2, 0, 'left_up', 0],\n",
       "       [1, 2, 3, 4, 1, 2, 0, 'left_low', 0],\n",
       "       [3, 0, 1, 0, 0, 1, 1, 'left_up', 0],\n",
       "       [4, 0, 4, 0, 0, 3, 1, 'left_up', 0],\n",
       "       [3, 0, 4, 4, 1, 3, 1, 'left_up', 0],\n",
       "       [2, 2, 5, 5, 0, 2, 0, 'left_up', 0],\n",
       "       [4, 0, 10, 0, 0, 2, 0, 'left_low', 0],\n",
       "       [3, 2, 5, 0, 0, 3, 0, 'left_low', 0],\n",
       "       [2, 0, 3, 4, 0, 3, 1, 'left_low', 1],\n",
       "       [3, 0, 5, 5, 1, 2, 0, 'right_low', 1],\n",
       "       [4, 0, 4, 4, 0, 2, 1, 'right_up', 0],\n",
       "       [2, 2, 3, 0, 0, 2, 0, 'central', 0],\n",
       "       [2, 2, 3, 0, 0, 2, 0, 'left_up', 0],\n",
       "       [2, 2, 10, 0, 0, 2, 0, 'left_low', 0],\n",
       "       [3, 0, 3, 0, 0, 2, 1, 'central', 0],\n",
       "       [3, 0, 5, 4, 0, 3, 1, 'left_up', 0],\n",
       "       [2, 0, 4, 0, 0, 2, 0, 'left_low', 0],\n",
       "       [3, 2, 4, 0, 0, 1, 1, 'left_up', 0],\n",
       "       [2, 2, 7, 4, 1, 3, 1, 'left_up', 1],\n",
       "       [2, 2, 3, 0, 0, 2, 1, 'left_up', 0],\n",
       "       [2, 2, 3, 4, 0, 2, 1, 'left_up', 0],\n",
       "       [2, 2, 4, 6, 1, 3, 1, 'left_up', 0],\n",
       "       [2, 2, 4, 0, 0, 2, 1, 'left_low', 0],\n",
       "       [2, 2, 3, 0, 0, 1, 1, 'right_up', 0],\n",
       "       [1, 2, 7, 0, 0, 2, 1, 'right_up', 0],\n",
       "       [4, 0, 1, 5, 1, 3, 0, 'left_up', 1],\n",
       "       [2, 2, 6, 0, 0, 1, 0, 'left_low', 0],\n",
       "       [3, 0, 5, 4, 0, 3, 0, 'left_low', 0],\n",
       "       [2, 2, 9, 0, 0, 1, 0, 'left_low', 1],\n",
       "       [4, 0, 2, 0, 0, 1, 0, 'right_low', 0],\n",
       "       [2, 2, 5, 0, 0, 3, 1, 'right_up', 0],\n",
       "       [2, 2, 4, 0, 0, 3, 0, 'left_up', 0],\n",
       "       [3, 0, 9, 0, 0, 2, 1, 'right_up', 0],\n",
       "       [3, 2, 4, 0, 0, 2, 1, 'right_low', 0],\n",
       "       [3, 2, 4, 0, 0, 2, 0, 'right_up', 0],\n",
       "       [2, 2, 1, 0, 0, 2, 0, 'left_low', 1],\n",
       "       [4, 0, 6, 5, 1, 3, 0, 'left_low', 0],\n",
       "       [4, 0, 10, 0, 0, 2, 1, 'left_up', 1],\n",
       "       [2, 2, 4, 0, 0, 2, 1, 'left_up', 0],\n",
       "       [1, 2, 3, 4, 0, 2, 1, 'central', 0],\n",
       "       [1, 2, 5, 0, 0, 1, 1, 'left_up', 0],\n",
       "       [4, 1, 5, 0, 0, 1, 0, 'left_low', 0],\n",
       "       [2, 2, 2, 1, 0, 3, 1, 'right_low', 1],\n",
       "       [4, 0, 3, 0, 0, 3, 1, 'left_low', 0],\n",
       "       [1, 2, 9, 0, 0, 2, 0, 'right_low', 0],\n",
       "       [2, 2, 5, 0, 0, 3, 0, 'left_up', 0],\n",
       "       [4, 0, 5, 0, 0, 3, 0, 'left_low', 0],\n",
       "       [2, 2, 4, 0, 0, 1, 1, 'right_low', 0],\n",
       "       [2, 2, 4, 0, 0, 1, 0, 'right_low', 0],\n",
       "       [4, 0, 7, 4, 1, 3, 1, 'left_low', 0],\n",
       "       [3, 0, 4, 0, 0, 2, 0, 'left_low', 0],\n",
       "       [3, 2, 5, 0, 0, 3, 1, 'left_up', 1],\n",
       "       [2, 0, 5, 4, 0, 3, 0, 'left_low', 0],\n",
       "       [2, 2, 4, 0, 0, 1, 1, 'left_low', 1],\n",
       "       [2, 0, 4, 1, 1, 3, 0, 'right_low', 1],\n",
       "       [2, 2, 7, 0, 0, 1, 0, 'left_low', 0],\n",
       "       [2, 2, 3, 0, 0, 2, 0, 'left_low', 0],\n",
       "       [3, 0, 4, 0, 0, 1, 0, 'right_low', 0],\n",
       "       [2, 2, 3, 0, 0, 2, 1, 'left_up', 0],\n",
       "       [5, 0, 7, 0, 0, 1, 1, 'left_up', 0],\n",
       "       [4, 0, 4, 0, 0, 3, 0, 'left_up', 0],\n",
       "       [3, 2, 4, 0, 0, 2, 0, 'left_low', 0],\n",
       "       [4, 0, 8, 0, 0, 1, 1, 'right_up', 1],\n",
       "       [3, 0, 3, 0, 1, 2, 1, 'left_up', 0],\n",
       "       [3, 0, 4, 0, 0, 1, 0, 'left_low', 0],\n",
       "       [3, 0, 3, 0, 0, 3, 0, 'left_up', 0],\n",
       "       [2, 2, 3, 4, 0, 2, 1, 'left_low', 0],\n",
       "       [3, 0, 6, 0, 0, 2, 0, 'left_up', 0],\n",
       "       [1, 2, 3, 0, 0, 3, 0, 'left_up', 1],\n",
       "       [4, 0, 5, 0, 0, 1, 1, 'left_up', 0],\n",
       "       [4, 0, 4, 0, 0, 3, 1, 'left_low', 0],\n",
       "       [2, 0, 5, 0, 0, 2, 0, 'left_up', 1],\n",
       "       [1, 2, 4, 0, 0, 2, 0, 'left_low', 0],\n",
       "       [2, 2, 3, 0, 0, 2, 0, 'left_low', 0],\n",
       "       [1, 2, 3, 0, 0, 2, 0, 'right_low', 0],\n",
       "       [2, 2, 1, 0, 0, 2, 1, 'left_low', 0],\n",
       "       [3, 2, 2, 0, 0, 2, 1, 'right_low', 0],\n",
       "       [3, 2, 4, 0, 0, 1, 1, 'left_up', 0],\n",
       "       [4, 0, 3, 0, 0, 2, 1, 'left_up', 0],\n",
       "       [4, 0, 7, 0, 0, 2, 1, 'left_low', 0],\n",
       "       [1, 1, 2, 0, 0, 3, 1, 'left_up', 0],\n",
       "       [2, 2, 5, 1, 1, 3, 0, 'left_up', 1],\n",
       "       [4, 0, 5, 0, 1, 2, 1, 'right_up', 1],\n",
       "       [3, 0, 7, 5, 1, 3, 0, 'left_low', 1],\n",
       "       [3, 0, 5, 0, 0, 3, 0, 'left_low', 0],\n",
       "       [5, 0, 1, 0, 0, 2, 0, 'central', 0],\n",
       "       [1, 2, 7, 0, 0, 2, 0, 'left_low', 1],\n",
       "       [2, 2, 5, 0, 0, 2, 1, 'right_low', 0],\n",
       "       [2, 2, 5, 0, 0, 1, 0, 'left_low', 0],\n",
       "       [4, 0, 2, 0, 0, 2, 0, 'left_low', 0],\n",
       "       [2, 2, 1, 0, 0, 2, 0, 'left_low', 0],\n",
       "       [4, 0, 3, 0, 0, 1, 0, 'left_low', 0],\n",
       "       [3, 0, 1, 0, 0, 1, 0, 'left_up', 0],\n",
       "       [3, 2, 4, 0, 0, 1, 0, 'left_low', 0],\n",
       "       [3, 0, 5, 6, 1, 3, 0, 'right_low', 1],\n",
       "       [3, 0, 1, 0, 0, 2, 0, 'left_low', 0],\n",
       "       [2, 2, 5, 0, 0, 1, 0, 'right_up', 0],\n",
       "       [5, 0, 0, 0, 0, 1, 0, 'right_low', 0],\n",
       "       [2, 2, 4, 0, 0, 3, 1, 'left_up', 1],\n",
       "       [3, 2, 4, 0, 0, 3, 1, 'left_low', 1],\n",
       "       [3, 0, 7, 0, 0, 2, 0, 'left_low', 0],\n",
       "       [4, 0, 4, 0, 0, 3, 0, 'right_low', 1],\n",
       "       [2, 2, 5, 4, 1, 2, 1, 'left_low', 0],\n",
       "       [3, 0, 3, 0, 0, 2, 0, 'left_up', 0],\n",
       "       [5, 0, 3, 0, 0, 3, 0, 'left_up', 0],\n",
       "       [1, 2, 4, 0, 0, 1, 0, 'central', 0],\n",
       "       [4, 0, 5, 0, 0, 2, 0, 'left_low', 0],\n",
       "       [2, 2, 3, 4, 1, 2, 1, 'right_up', 1],\n",
       "       [3, 0, 5, 6, 0, 3, 0, 'left_low', 1],\n",
       "       [3, 0, 0, 0, 0, 2, 0, 'central', 0],\n",
       "       [2, 2, 3, 0, 0, 3, 1, 'left_low', 1],\n",
       "       [1, 2, 6, 0, 0, 3, 0, 'left_low', 0],\n",
       "       [4, 0, 5, 0, 0, 1, 0, 'left_up', 0],\n",
       "       [4, 0, 3, 0, 0, 1, 0, 'left_low', 0],\n",
       "       [3, 0, 4, 5, 0, 3, 0, 'left_low', 1],\n",
       "       [3, 2, 6, 2, 1, 3, 1, 'right_up', 0],\n",
       "       [1, 2, 3, 4, 1, 2, 1, 'left_up', 1],\n",
       "       [2, 2, 3, 5, 0, 2, 1, 'left_low', 1],\n",
       "       [3, 0, 6, 0, 0, 3, 0, 'left_low', 0],\n",
       "       [3, 2, 6, 0, 0, 2, 1, 'left_up', 0],\n",
       "       [2, 2, 4, 0, 0, 2, 0, 'left_up', 1],\n",
       "       [2, 2, 6, 0, 0, 2, 1, 'right_up', 0],\n",
       "       [3, 2, 5, 4, 1, 2, 0, 'left_low', 1],\n",
       "       [2, 2, 3, 0, 0, 2, 1, 'right_up', 0],\n",
       "       [4, 0, 2, 0, 0, 3, 1, 'left_up', 1],\n",
       "       [3, 0, 5, 5, 1, 2, 0, 'left_low', 0],\n",
       "       [3, 2, 4, 4, 1, 2, 0, 'left_low', 1],\n",
       "       [1, 2, 5, 5, 1, 2, 1, 'right_up', 0],\n",
       "       [3, 2, 2, 0, 0, 2, 1, 'left_low', 0],\n",
       "       [3, 0, 7, 0, 0, 3, 0, 'right_up', 0]], dtype=object)"
      ]
     },
     "execution_count": 23,
     "metadata": {},
     "output_type": "execute_result"
    }
   ],
   "source": [
    "np.set_printoptions(threshold=sys.maxsize)\n",
    "X_prev"
   ]
  },
  {
   "cell_type": "markdown",
   "metadata": {
    "id": "lZ5S_DONt5Ch"
   },
   "source": [
    "### Binarizar atributos não ordinais"
   ]
  },
  {
   "cell_type": "code",
   "execution_count": 24,
   "metadata": {
    "id": "A2aCaYbkuOCM"
   },
   "outputs": [],
   "source": [
    "onehotencoder_base = ColumnTransformer(transformers=[('OneHot', OneHotEncoder(), [7])], remainder='passthrough')\n",
    "X_prev= onehotencoder_base.fit_transform(X_prev)"
   ]
  },
  {
   "cell_type": "code",
   "execution_count": 25,
   "metadata": {
    "id": "tfDZbDjNxECf"
   },
   "outputs": [
    {
     "data": {
      "text/plain": [
       "array([[0.0, 0.0, 1.0, 0.0, 0.0, 2, 2, 2, 0, 1, 3, 1, 0],\n",
       "       [1.0, 0.0, 0.0, 0.0, 0.0, 3, 0, 2, 0, 0, 1, 1, 0],\n",
       "       [0.0, 1.0, 0.0, 0.0, 0.0, 3, 0, 6, 0, 0, 2, 0, 0],\n",
       "       [0.0, 1.0, 0.0, 0.0, 0.0, 2, 2, 6, 0, 1, 3, 1, 1],\n",
       "       [0.0, 0.0, 0.0, 0.0, 1.0, 2, 2, 5, 4, 1, 2, 0, 0],\n",
       "       [0.0, 0.0, 1.0, 0.0, 0.0, 3, 2, 4, 4, 0, 2, 1, 1],\n",
       "       [0.0, 0.0, 1.0, 0.0, 0.0, 3, 0, 7, 0, 0, 3, 0, 0],\n",
       "       [0.0, 0.0, 1.0, 0.0, 0.0, 2, 2, 1, 0, 0, 2, 0, 0],\n",
       "       [0.0, 0.0, 0.0, 1.0, 0.0, 2, 2, 0, 0, 0, 2, 1, 0],\n",
       "       [0.0, 0.0, 1.0, 0.0, 0.0, 2, 0, 7, 2, 1, 2, 1, 1],\n",
       "       [0.0, 1.0, 0.0, 0.0, 0.0, 3, 2, 4, 0, 0, 2, 0, 0],\n",
       "       [0.0, 0.0, 1.0, 0.0, 0.0, 4, 0, 2, 0, 0, 2, 1, 0],\n",
       "       [1.0, 0.0, 0.0, 0.0, 0.0, 3, 0, 5, 0, 0, 1, 1, 0],\n",
       "       [0.0, 0.0, 1.0, 0.0, 0.0, 3, 0, 4, 0, 0, 2, 1, 0],\n",
       "       [0.0, 1.0, 0.0, 0.0, 0.0, 2, 2, 4, 0, 0, 2, 0, 1],\n",
       "       [1.0, 0.0, 0.0, 0.0, 0.0, 1, 2, 3, 0, 0, 3, 0, 0],\n",
       "       [0.0, 0.0, 1.0, 0.0, 0.0, 3, 2, 1, 4, 0, 1, 1, 0],\n",
       "       [0.0, 0.0, 1.0, 0.0, 0.0, 4, 0, 2, 0, 0, 2, 1, 0],\n",
       "       [0.0, 0.0, 1.0, 0.0, 0.0, 3, 2, 7, 0, 0, 2, 0, 0],\n",
       "       [0.0, 0.0, 1.0, 0.0, 0.0, 3, 0, 3, 0, 0, 3, 0, 0],\n",
       "       [0.0, 1.0, 0.0, 0.0, 0.0, 3, 1, 3, 0, 0, 1, 0, 0],\n",
       "       [0.0, 0.0, 1.0, 0.0, 0.0, 4, 0, 7, 4, 0, 2, 1, 1],\n",
       "       [0.0, 1.0, 0.0, 0.0, 0.0, 3, 0, 2, 0, 0, 2, 1, 0],\n",
       "       [0.0, 0.0, 1.0, 0.0, 0.0, 2, 2, 1, 0, 0, 1, 1, 0],\n",
       "       [0.0, 1.0, 0.0, 0.0, 0.0, 1, 2, 2, 5, 1, 3, 0, 1],\n",
       "       [0.0, 0.0, 1.0, 0.0, 0.0, 3, 0, 3, 4, 1, 2, 1, 0],\n",
       "       [0.0, 1.0, 0.0, 0.0, 0.0, 3, 0, 1, 0, 0, 2, 1, 0],\n",
       "       [0.0, 0.0, 1.0, 0.0, 0.0, 2, 2, 1, 0, 0, 1, 1, 0],\n",
       "       [0.0, 1.0, 0.0, 0.0, 0.0, 4, 0, 5, 4, 1, 3, 0, 0],\n",
       "       [0.0, 1.0, 0.0, 0.0, 0.0, 2, 2, 2, 2, 1, 3, 0, 0],\n",
       "       [1.0, 0.0, 0.0, 0.0, 0.0, 4, 0, 5, 0, 0, 3, 1, 0],\n",
       "       [0.0, 1.0, 0.0, 0.0, 0.0, 4, 0, 4, 4, 0, 1, 1, 1],\n",
       "       [0.0, 0.0, 0.0, 0.0, 1.0, 3, 0, 4, 0, 0, 3, 0, 0],\n",
       "       [0.0, 0.0, 1.0, 0.0, 0.0, 3, 0, 3, 0, 0, 3, 1, 0],\n",
       "       [0.0, 1.0, 0.0, 0.0, 0.0, 2, 2, 5, 0, 0, 1, 0, 1],\n",
       "       [0.0, 1.0, 0.0, 0.0, 0.0, 1, 2, 2, 0, 0, 1, 0, 0],\n",
       "       [0.0, 0.0, 1.0, 0.0, 0.0, 2, 2, 1, 0, 0, 2, 1, 0],\n",
       "       [1.0, 0.0, 0.0, 0.0, 0.0, 4, 0, 8, 5, 1, 3, 0, 0],\n",
       "       [0.0, 1.0, 0.0, 0.0, 0.0, 2, 0, 3, 0, 0, 3, 0, 0],\n",
       "       [0.0, 0.0, 0.0, 1.0, 0.0, 2, 2, 1, 0, 0, 1, 1, 0],\n",
       "       [0.0, 1.0, 0.0, 0.0, 0.0, 1, 2, 6, 0, 0, 3, 0, 0],\n",
       "       [0.0, 0.0, 0.0, 0.0, 1.0, 2, 2, 6, 6, 1, 2, 1, 1],\n",
       "       [0.0, 1.0, 0.0, 0.0, 0.0, 4, 0, 4, 0, 0, 2, 1, 0],\n",
       "       [0.0, 0.0, 0.0, 0.0, 1.0, 3, 0, 3, 4, 1, 3, 1, 0],\n",
       "       [0.0, 1.0, 0.0, 0.0, 0.0, 1, 2, 2, 0, 0, 1, 0, 0],\n",
       "       [0.0, 0.0, 0.0, 0.0, 1.0, 3, 2, 5, 0, 0, 3, 0, 0],\n",
       "       [0.0, 0.0, 1.0, 0.0, 0.0, 4, 0, 1, 0, 0, 2, 1, 1],\n",
       "       [0.0, 0.0, 1.0, 0.0, 0.0, 2, 2, 6, 0, 1, 3, 1, 1],\n",
       "       [0.0, 0.0, 1.0, 0.0, 0.0, 3, 2, 10, 0, 1, 2, 1, 1],\n",
       "       [0.0, 0.0, 1.0, 0.0, 0.0, 3, 0, 7, 0, 0, 3, 1, 0],\n",
       "       [0.0, 1.0, 0.0, 0.0, 0.0, 5, 0, 2, 6, 0, 1, 0, 1],\n",
       "       [0.0, 0.0, 1.0, 0.0, 0.0, 3, 1, 5, 0, 0, 3, 1, 0],\n",
       "       [1.0, 0.0, 0.0, 0.0, 0.0, 2, 2, 0, 0, 0, 3, 0, 0],\n",
       "       [0.0, 0.0, 0.0, 0.0, 1.0, 5, 0, 7, 0, 0, 1, 1, 0],\n",
       "       [0.0, 0.0, 0.0, 1.0, 0.0, 2, 2, 4, 0, 0, 2, 0, 1],\n",
       "       [0.0, 0.0, 1.0, 0.0, 0.0, 3, 0, 4, 2, 1, 3, 1, 0],\n",
       "       [0.0, 1.0, 0.0, 0.0, 0.0, 3, 2, 3, 0, 0, 1, 0, 0],\n",
       "       [0.0, 1.0, 0.0, 0.0, 0.0, 3, 0, 6, 2, 0, 3, 0, 0],\n",
       "       [0.0, 0.0, 0.0, 0.0, 1.0, 3, 0, 10, 0, 0, 1, 1, 0],\n",
       "       [1.0, 0.0, 0.0, 0.0, 0.0, 1, 2, 0, 0, 0, 2, 1, 0],\n",
       "       [0.0, 1.0, 0.0, 0.0, 0.0, 3, 0, 7, 5, 1, 3, 0, 1],\n",
       "       [0.0, 0.0, 0.0, 0.0, 1.0, 2, 2, 5, 0, 0, 2, 1, 1],\n",
       "       [0.0, 0.0, 1.0, 0.0, 0.0, 2, 0, 3, 0, 0, 3, 0, 0],\n",
       "       [0.0, 1.0, 0.0, 0.0, 0.0, 2, 2, 5, 2, 1, 3, 0, 0],\n",
       "       [0.0, 0.0, 1.0, 0.0, 0.0, 2, 0, 3, 0, 0, 2, 1, 0],\n",
       "       [1.0, 0.0, 0.0, 0.0, 0.0, 3, 0, 2, 0, 0, 1, 1, 0],\n",
       "       [0.0, 1.0, 0.0, 0.0, 0.0, 1, 2, 4, 0, 0, 2, 1, 0],\n",
       "       [0.0, 1.0, 0.0, 0.0, 0.0, 4, 0, 2, 0, 0, 2, 0, 0],\n",
       "       [0.0, 0.0, 1.0, 0.0, 0.0, 3, 2, 10, 6, 1, 2, 1, 0],\n",
       "       [0.0, 1.0, 0.0, 0.0, 0.0, 1, 2, 1, 0, 0, 1, 1, 0],\n",
       "       [0.0, 1.0, 0.0, 0.0, 0.0, 3, 2, 4, 4, 1, 3, 0, 1],\n",
       "       [0.0, 0.0, 1.0, 0.0, 0.0, 4, 0, 4, 4, 0, 1, 1, 1],\n",
       "       [0.0, 1.0, 0.0, 0.0, 0.0, 4, 0, 1, 0, 0, 1, 1, 0],\n",
       "       [0.0, 0.0, 0.0, 1.0, 0.0, 3, 0, 5, 5, 1, 3, 0, 0],\n",
       "       [0.0, 0.0, 0.0, 1.0, 0.0, 1, 2, 4, 5, 1, 3, 0, 1],\n",
       "       [0.0, 1.0, 0.0, 0.0, 0.0, 3, 0, 1, 0, 0, 1, 0, 0],\n",
       "       [0.0, 1.0, 0.0, 0.0, 0.0, 3, 2, 2, 0, 0, 1, 0, 0],\n",
       "       [1.0, 0.0, 0.0, 0.0, 0.0, 2, 2, 4, 0, 0, 2, 1, 0],\n",
       "       [0.0, 0.0, 0.0, 0.0, 1.0, 2, 2, 4, 0, 0, 3, 0, 0],\n",
       "       [0.0, 0.0, 0.0, 0.0, 1.0, 4, 0, 5, 5, 1, 2, 1, 0],\n",
       "       [0.0, 1.0, 0.0, 0.0, 0.0, 3, 1, 2, 0, 0, 2, 0, 0],\n",
       "       [0.0, 1.0, 0.0, 0.0, 0.0, 2, 2, 4, 0, 0, 2, 1, 0],\n",
       "       [0.0, 0.0, 1.0, 0.0, 0.0, 2, 2, 5, 0, 0, 1, 1, 0],\n",
       "       [0.0, 0.0, 1.0, 0.0, 0.0, 4, 0, 2, 0, 0, 2, 0, 1],\n",
       "       [1.0, 0.0, 0.0, 0.0, 0.0, 1, 2, 0, 0, 0, 2, 1, 0],\n",
       "       [0.0, 0.0, 1.0, 0.0, 0.0, 3, 0, 6, 0, 0, 3, 0, 0],\n",
       "       [0.0, 0.0, 1.0, 0.0, 0.0, 2, 2, 7, 0, 0, 1, 1, 0],\n",
       "       [0.0, 0.0, 1.0, 0.0, 0.0, 1, 2, 4, 5, 1, 2, 1, 1],\n",
       "       [0.0, 1.0, 0.0, 0.0, 0.0, 3, 0, 3, 0, 0, 1, 1, 0],\n",
       "       [0.0, 0.0, 1.0, 0.0, 0.0, 3, 0, 5, 0, 0, 1, 0, 0],\n",
       "       [0.0, 0.0, 1.0, 0.0, 0.0, 4, 0, 3, 0, 0, 1, 1, 0],\n",
       "       [0.0, 0.0, 1.0, 0.0, 0.0, 1, 2, 5, 4, 0, 3, 1, 1],\n",
       "       [0.0, 0.0, 1.0, 0.0, 0.0, 3, 1, 3, 0, 0, 1, 0, 0],\n",
       "       [0.0, 0.0, 1.0, 0.0, 0.0, 3, 2, 1, 0, 0, 2, 1, 0],\n",
       "       [0.0, 0.0, 1.0, 0.0, 0.0, 3, 0, 3, 0, 0, 2, 1, 0],\n",
       "       [0.0, 1.0, 0.0, 0.0, 0.0, 2, 2, 8, 0, 0, 2, 0, 1],\n",
       "       [0.0, 0.0, 1.0, 0.0, 0.0, 1, 2, 7, 0, 0, 1, 0, 0],\n",
       "       [0.0, 1.0, 0.0, 0.0, 0.0, 3, 2, 1, 0, 0, 1, 0, 0],\n",
       "       [0.0, 0.0, 1.0, 0.0, 0.0, 4, 0, 5, 0, 0, 3, 1, 1],\n",
       "       [0.0, 0.0, 1.0, 0.0, 0.0, 2, 2, 6, 0, 0, 1, 1, 0],\n",
       "       [0.0, 1.0, 0.0, 0.0, 0.0, 2, 2, 3, 4, 1, 2, 0, 1],\n",
       "       [0.0, 1.0, 0.0, 0.0, 0.0, 3, 2, 2, 0, 0, 2, 0, 0],\n",
       "       [0.0, 1.0, 0.0, 0.0, 0.0, 3, 0, 5, 0, 0, 3, 1, 0],\n",
       "       [0.0, 0.0, 1.0, 0.0, 0.0, 4, 0, 3, 0, 0, 2, 0, 0],\n",
       "       [0.0, 0.0, 0.0, 1.0, 0.0, 2, 2, 3, 0, 0, 1, 0, 0],\n",
       "       [1.0, 0.0, 0.0, 0.0, 0.0, 4, 0, 5, 4, 1, 2, 0, 1],\n",
       "       [0.0, 1.0, 0.0, 0.0, 0.0, 4, 0, 3, 4, 0, 2, 0, 1],\n",
       "       [0.0, 0.0, 0.0, 0.0, 1.0, 3, 2, 4, 0, 0, 2, 0, 0],\n",
       "       [0.0, 0.0, 0.0, 0.0, 1.0, 3, 0, 5, 0, 0, 1, 1, 0],\n",
       "       [0.0, 0.0, 0.0, 1.0, 0.0, 2, 2, 3, 0, 0, 2, 0, 0],\n",
       "       [0.0, 0.0, 1.0, 0.0, 0.0, 4, 0, 2, 0, 0, 1, 1, 0],\n",
       "       [0.0, 1.0, 0.0, 0.0, 0.0, 4, 0, 5, 0, 0, 2, 0, 1],\n",
       "       [0.0, 0.0, 1.0, 0.0, 0.0, 1, 2, 5, 0, 0, 2, 0, 0],\n",
       "       [0.0, 0.0, 0.0, 0.0, 1.0, 1, 2, 7, 4, 0, 3, 1, 1],\n",
       "       [1.0, 0.0, 0.0, 0.0, 0.0, 4, 0, 9, 0, 0, 1, 0, 0],\n",
       "       [0.0, 0.0, 1.0, 0.0, 0.0, 4, 0, 1, 0, 0, 1, 0, 0],\n",
       "       [0.0, 0.0, 1.0, 0.0, 0.0, 2, 2, 5, 5, 1, 3, 1, 0],\n",
       "       [0.0, 0.0, 1.0, 0.0, 0.0, 4, 0, 1, 0, 0, 1, 0, 0],\n",
       "       [0.0, 0.0, 1.0, 0.0, 0.0, 2, 2, 6, 6, 1, 2, 1, 1],\n",
       "       [0.0, 1.0, 0.0, 0.0, 0.0, 2, 2, 3, 0, 0, 1, 1, 0],\n",
       "       [0.0, 0.0, 0.0, 0.0, 1.0, 2, 2, 5, 0, 1, 3, 1, 0],\n",
       "       [0.0, 0.0, 1.0, 0.0, 0.0, 3, 2, 4, 0, 1, 2, 0, 0],\n",
       "       [0.0, 1.0, 0.0, 0.0, 0.0, 2, 2, 2, 0, 0, 2, 0, 0],\n",
       "       [0.0, 1.0, 0.0, 0.0, 0.0, 1, 2, 6, 6, 1, 3, 0, 0],\n",
       "       [0.0, 0.0, 0.0, 1.0, 0.0, 1, 2, 1, 0, 0, 2, 0, 0],\n",
       "       [0.0, 1.0, 0.0, 0.0, 0.0, 3, 0, 5, 0, 0, 1, 1, 0],\n",
       "       [0.0, 0.0, 1.0, 0.0, 0.0, 4, 0, 5, 0, 0, 2, 0, 0],\n",
       "       [0.0, 1.0, 0.0, 0.0, 0.0, 4, 0, 4, 0, 0, 2, 0, 0],\n",
       "       [0.0, 0.0, 1.0, 0.0, 0.0, 2, 2, 2, 0, 0, 2, 0, 0],\n",
       "       [0.0, 1.0, 0.0, 0.0, 0.0, 4, 0, 2, 0, 0, 2, 1, 0],\n",
       "       [0.0, 0.0, 0.0, 1.0, 0.0, 2, 2, 5, 0, 0, 2, 0, 0],\n",
       "       [0.0, 0.0, 0.0, 0.0, 1.0, 0, 2, 6, 0, 0, 2, 1, 0],\n",
       "       [0.0, 0.0, 0.0, 0.0, 1.0, 2, 2, 5, 0, 0, 3, 1, 0],\n",
       "       [0.0, 1.0, 0.0, 0.0, 0.0, 2, 2, 4, 0, 0, 2, 1, 0],\n",
       "       [0.0, 1.0, 0.0, 0.0, 0.0, 1, 2, 5, 0, 0, 3, 0, 0],\n",
       "       [0.0, 1.0, 0.0, 0.0, 0.0, 1, 2, 2, 0, 0, 1, 1, 0],\n",
       "       [1.0, 0.0, 0.0, 0.0, 0.0, 3, 0, 0, 0, 0, 1, 1, 0],\n",
       "       [0.0, 1.0, 0.0, 0.0, 0.0, 3, 0, 0, 0, 0, 1, 0, 0],\n",
       "       [0.0, 0.0, 1.0, 0.0, 0.0, 4, 0, 10, 0, 0, 3, 1, 0],\n",
       "       [1.0, 0.0, 0.0, 0.0, 0.0, 3, 2, 5, 0, 0, 1, 0, 0],\n",
       "       [0.0, 1.0, 0.0, 0.0, 0.0, 4, 0, 3, 3, 1, 3, 0, 1],\n",
       "       [0.0, 0.0, 1.0, 0.0, 0.0, 2, 2, 4, 0, 0, 2, 0, 0],\n",
       "       [0.0, 0.0, 1.0, 0.0, 0.0, 2, 2, 5, 4, 0, 2, 1, 0],\n",
       "       [0.0, 1.0, 0.0, 0.0, 0.0, 3, 2, 3, 4, 1, 2, 0, 0],\n",
       "       [1.0, 0.0, 0.0, 0.0, 0.0, 3, 0, 2, 0, 1, 2, 0, 1],\n",
       "       [0.0, 1.0, 0.0, 0.0, 0.0, 3, 2, 1, 0, 0, 3, 0, 0],\n",
       "       [0.0, 0.0, 1.0, 0.0, 0.0, 1, 2, 5, 6, 0, 2, 1, 1],\n",
       "       [0.0, 1.0, 0.0, 0.0, 0.0, 4, 0, 1, 0, 0, 1, 0, 0],\n",
       "       [0.0, 1.0, 0.0, 0.0, 0.0, 2, 2, 7, 0, 0, 2, 1, 0],\n",
       "       [0.0, 0.0, 1.0, 0.0, 0.0, 3, 0, 5, 6, 0, 3, 0, 1],\n",
       "       [0.0, 1.0, 0.0, 0.0, 0.0, 2, 2, 10, 0, 0, 2, 1, 1],\n",
       "       [0.0, 0.0, 0.0, 0.0, 1.0, 3, 0, 2, 0, 0, 2, 1, 0],\n",
       "       [0.0, 1.0, 0.0, 0.0, 0.0, 3, 0, 7, 4, 1, 2, 0, 0],\n",
       "       [0.0, 1.0, 0.0, 0.0, 0.0, 1, 2, 4, 4, 1, 3, 0, 1],\n",
       "       [0.0, 1.0, 0.0, 0.0, 0.0, 4, 0, 1, 0, 0, 2, 0, 0],\n",
       "       [0.0, 0.0, 0.0, 0.0, 1.0, 4, 1, 1, 0, 0, 1, 0, 0],\n",
       "       [0.0, 0.0, 1.0, 0.0, 0.0, 1, 2, 5, 0, 0, 2, 0, 0],\n",
       "       [0.0, 1.0, 0.0, 0.0, 0.0, 1, 2, 3, 4, 1, 2, 0, 0],\n",
       "       [0.0, 0.0, 1.0, 0.0, 0.0, 3, 0, 1, 0, 0, 1, 1, 0],\n",
       "       [0.0, 0.0, 1.0, 0.0, 0.0, 4, 0, 4, 0, 0, 3, 1, 0],\n",
       "       [0.0, 0.0, 1.0, 0.0, 0.0, 3, 0, 4, 4, 1, 3, 1, 0],\n",
       "       [0.0, 0.0, 1.0, 0.0, 0.0, 2, 2, 5, 5, 0, 2, 0, 0],\n",
       "       [0.0, 1.0, 0.0, 0.0, 0.0, 4, 0, 10, 0, 0, 2, 0, 0],\n",
       "       [0.0, 1.0, 0.0, 0.0, 0.0, 3, 2, 5, 0, 0, 3, 0, 0],\n",
       "       [0.0, 1.0, 0.0, 0.0, 0.0, 2, 0, 3, 4, 0, 3, 1, 1],\n",
       "       [0.0, 0.0, 0.0, 1.0, 0.0, 3, 0, 5, 5, 1, 2, 0, 1],\n",
       "       [0.0, 0.0, 0.0, 0.0, 1.0, 4, 0, 4, 4, 0, 2, 1, 0],\n",
       "       [1.0, 0.0, 0.0, 0.0, 0.0, 2, 2, 3, 0, 0, 2, 0, 0],\n",
       "       [0.0, 0.0, 1.0, 0.0, 0.0, 2, 2, 3, 0, 0, 2, 0, 0],\n",
       "       [0.0, 1.0, 0.0, 0.0, 0.0, 2, 2, 10, 0, 0, 2, 0, 0],\n",
       "       [1.0, 0.0, 0.0, 0.0, 0.0, 3, 0, 3, 0, 0, 2, 1, 0],\n",
       "       [0.0, 0.0, 1.0, 0.0, 0.0, 3, 0, 5, 4, 0, 3, 1, 0],\n",
       "       [0.0, 1.0, 0.0, 0.0, 0.0, 2, 0, 4, 0, 0, 2, 0, 0],\n",
       "       [0.0, 0.0, 1.0, 0.0, 0.0, 3, 2, 4, 0, 0, 1, 1, 0],\n",
       "       [0.0, 0.0, 1.0, 0.0, 0.0, 2, 2, 7, 4, 1, 3, 1, 1],\n",
       "       [0.0, 0.0, 1.0, 0.0, 0.0, 2, 2, 3, 0, 0, 2, 1, 0],\n",
       "       [0.0, 0.0, 1.0, 0.0, 0.0, 2, 2, 3, 4, 0, 2, 1, 0],\n",
       "       [0.0, 0.0, 1.0, 0.0, 0.0, 2, 2, 4, 6, 1, 3, 1, 0],\n",
       "       [0.0, 1.0, 0.0, 0.0, 0.0, 2, 2, 4, 0, 0, 2, 1, 0],\n",
       "       [0.0, 0.0, 0.0, 0.0, 1.0, 2, 2, 3, 0, 0, 1, 1, 0],\n",
       "       [0.0, 0.0, 0.0, 0.0, 1.0, 1, 2, 7, 0, 0, 2, 1, 0],\n",
       "       [0.0, 0.0, 1.0, 0.0, 0.0, 4, 0, 1, 5, 1, 3, 0, 1],\n",
       "       [0.0, 1.0, 0.0, 0.0, 0.0, 2, 2, 6, 0, 0, 1, 0, 0],\n",
       "       [0.0, 1.0, 0.0, 0.0, 0.0, 3, 0, 5, 4, 0, 3, 0, 0],\n",
       "       [0.0, 1.0, 0.0, 0.0, 0.0, 2, 2, 9, 0, 0, 1, 0, 1],\n",
       "       [0.0, 0.0, 0.0, 1.0, 0.0, 4, 0, 2, 0, 0, 1, 0, 0],\n",
       "       [0.0, 0.0, 0.0, 0.0, 1.0, 2, 2, 5, 0, 0, 3, 1, 0],\n",
       "       [0.0, 0.0, 1.0, 0.0, 0.0, 2, 2, 4, 0, 0, 3, 0, 0],\n",
       "       [0.0, 0.0, 0.0, 0.0, 1.0, 3, 0, 9, 0, 0, 2, 1, 0],\n",
       "       [0.0, 0.0, 0.0, 1.0, 0.0, 3, 2, 4, 0, 0, 2, 1, 0],\n",
       "       [0.0, 0.0, 0.0, 0.0, 1.0, 3, 2, 4, 0, 0, 2, 0, 0],\n",
       "       [0.0, 1.0, 0.0, 0.0, 0.0, 2, 2, 1, 0, 0, 2, 0, 1],\n",
       "       [0.0, 1.0, 0.0, 0.0, 0.0, 4, 0, 6, 5, 1, 3, 0, 0],\n",
       "       [0.0, 0.0, 1.0, 0.0, 0.0, 4, 0, 10, 0, 0, 2, 1, 1],\n",
       "       [0.0, 0.0, 1.0, 0.0, 0.0, 2, 2, 4, 0, 0, 2, 1, 0],\n",
       "       [1.0, 0.0, 0.0, 0.0, 0.0, 1, 2, 3, 4, 0, 2, 1, 0],\n",
       "       [0.0, 0.0, 1.0, 0.0, 0.0, 1, 2, 5, 0, 0, 1, 1, 0],\n",
       "       [0.0, 1.0, 0.0, 0.0, 0.0, 4, 1, 5, 0, 0, 1, 0, 0],\n",
       "       [0.0, 0.0, 0.0, 1.0, 0.0, 2, 2, 2, 1, 0, 3, 1, 1],\n",
       "       [0.0, 1.0, 0.0, 0.0, 0.0, 4, 0, 3, 0, 0, 3, 1, 0],\n",
       "       [0.0, 0.0, 0.0, 1.0, 0.0, 1, 2, 9, 0, 0, 2, 0, 0],\n",
       "       [0.0, 0.0, 1.0, 0.0, 0.0, 2, 2, 5, 0, 0, 3, 0, 0],\n",
       "       [0.0, 1.0, 0.0, 0.0, 0.0, 4, 0, 5, 0, 0, 3, 0, 0],\n",
       "       [0.0, 0.0, 0.0, 1.0, 0.0, 2, 2, 4, 0, 0, 1, 1, 0],\n",
       "       [0.0, 0.0, 0.0, 1.0, 0.0, 2, 2, 4, 0, 0, 1, 0, 0],\n",
       "       [0.0, 1.0, 0.0, 0.0, 0.0, 4, 0, 7, 4, 1, 3, 1, 0],\n",
       "       [0.0, 1.0, 0.0, 0.0, 0.0, 3, 0, 4, 0, 0, 2, 0, 0],\n",
       "       [0.0, 0.0, 1.0, 0.0, 0.0, 3, 2, 5, 0, 0, 3, 1, 1],\n",
       "       [0.0, 1.0, 0.0, 0.0, 0.0, 2, 0, 5, 4, 0, 3, 0, 0],\n",
       "       [0.0, 1.0, 0.0, 0.0, 0.0, 2, 2, 4, 0, 0, 1, 1, 1],\n",
       "       [0.0, 0.0, 0.0, 1.0, 0.0, 2, 0, 4, 1, 1, 3, 0, 1],\n",
       "       [0.0, 1.0, 0.0, 0.0, 0.0, 2, 2, 7, 0, 0, 1, 0, 0],\n",
       "       [0.0, 1.0, 0.0, 0.0, 0.0, 2, 2, 3, 0, 0, 2, 0, 0],\n",
       "       [0.0, 0.0, 0.0, 1.0, 0.0, 3, 0, 4, 0, 0, 1, 0, 0],\n",
       "       [0.0, 0.0, 1.0, 0.0, 0.0, 2, 2, 3, 0, 0, 2, 1, 0],\n",
       "       [0.0, 0.0, 1.0, 0.0, 0.0, 5, 0, 7, 0, 0, 1, 1, 0],\n",
       "       [0.0, 0.0, 1.0, 0.0, 0.0, 4, 0, 4, 0, 0, 3, 0, 0],\n",
       "       [0.0, 1.0, 0.0, 0.0, 0.0, 3, 2, 4, 0, 0, 2, 0, 0],\n",
       "       [0.0, 0.0, 0.0, 0.0, 1.0, 4, 0, 8, 0, 0, 1, 1, 1],\n",
       "       [0.0, 0.0, 1.0, 0.0, 0.0, 3, 0, 3, 0, 1, 2, 1, 0],\n",
       "       [0.0, 1.0, 0.0, 0.0, 0.0, 3, 0, 4, 0, 0, 1, 0, 0],\n",
       "       [0.0, 0.0, 1.0, 0.0, 0.0, 3, 0, 3, 0, 0, 3, 0, 0],\n",
       "       [0.0, 1.0, 0.0, 0.0, 0.0, 2, 2, 3, 4, 0, 2, 1, 0],\n",
       "       [0.0, 0.0, 1.0, 0.0, 0.0, 3, 0, 6, 0, 0, 2, 0, 0],\n",
       "       [0.0, 0.0, 1.0, 0.0, 0.0, 1, 2, 3, 0, 0, 3, 0, 1],\n",
       "       [0.0, 0.0, 1.0, 0.0, 0.0, 4, 0, 5, 0, 0, 1, 1, 0],\n",
       "       [0.0, 1.0, 0.0, 0.0, 0.0, 4, 0, 4, 0, 0, 3, 1, 0],\n",
       "       [0.0, 0.0, 1.0, 0.0, 0.0, 2, 0, 5, 0, 0, 2, 0, 1],\n",
       "       [0.0, 1.0, 0.0, 0.0, 0.0, 1, 2, 4, 0, 0, 2, 0, 0],\n",
       "       [0.0, 1.0, 0.0, 0.0, 0.0, 2, 2, 3, 0, 0, 2, 0, 0],\n",
       "       [0.0, 0.0, 0.0, 1.0, 0.0, 1, 2, 3, 0, 0, 2, 0, 0],\n",
       "       [0.0, 1.0, 0.0, 0.0, 0.0, 2, 2, 1, 0, 0, 2, 1, 0],\n",
       "       [0.0, 0.0, 0.0, 1.0, 0.0, 3, 2, 2, 0, 0, 2, 1, 0],\n",
       "       [0.0, 0.0, 1.0, 0.0, 0.0, 3, 2, 4, 0, 0, 1, 1, 0],\n",
       "       [0.0, 0.0, 1.0, 0.0, 0.0, 4, 0, 3, 0, 0, 2, 1, 0],\n",
       "       [0.0, 1.0, 0.0, 0.0, 0.0, 4, 0, 7, 0, 0, 2, 1, 0],\n",
       "       [0.0, 0.0, 1.0, 0.0, 0.0, 1, 1, 2, 0, 0, 3, 1, 0],\n",
       "       [0.0, 0.0, 1.0, 0.0, 0.0, 2, 2, 5, 1, 1, 3, 0, 1],\n",
       "       [0.0, 0.0, 0.0, 0.0, 1.0, 4, 0, 5, 0, 1, 2, 1, 1],\n",
       "       [0.0, 1.0, 0.0, 0.0, 0.0, 3, 0, 7, 5, 1, 3, 0, 1],\n",
       "       [0.0, 1.0, 0.0, 0.0, 0.0, 3, 0, 5, 0, 0, 3, 0, 0],\n",
       "       [1.0, 0.0, 0.0, 0.0, 0.0, 5, 0, 1, 0, 0, 2, 0, 0],\n",
       "       [0.0, 1.0, 0.0, 0.0, 0.0, 1, 2, 7, 0, 0, 2, 0, 1],\n",
       "       [0.0, 0.0, 0.0, 1.0, 0.0, 2, 2, 5, 0, 0, 2, 1, 0],\n",
       "       [0.0, 1.0, 0.0, 0.0, 0.0, 2, 2, 5, 0, 0, 1, 0, 0],\n",
       "       [0.0, 1.0, 0.0, 0.0, 0.0, 4, 0, 2, 0, 0, 2, 0, 0],\n",
       "       [0.0, 1.0, 0.0, 0.0, 0.0, 2, 2, 1, 0, 0, 2, 0, 0],\n",
       "       [0.0, 1.0, 0.0, 0.0, 0.0, 4, 0, 3, 0, 0, 1, 0, 0],\n",
       "       [0.0, 0.0, 1.0, 0.0, 0.0, 3, 0, 1, 0, 0, 1, 0, 0],\n",
       "       [0.0, 1.0, 0.0, 0.0, 0.0, 3, 2, 4, 0, 0, 1, 0, 0],\n",
       "       [0.0, 0.0, 0.0, 1.0, 0.0, 3, 0, 5, 6, 1, 3, 0, 1],\n",
       "       [0.0, 1.0, 0.0, 0.0, 0.0, 3, 0, 1, 0, 0, 2, 0, 0],\n",
       "       [0.0, 0.0, 0.0, 0.0, 1.0, 2, 2, 5, 0, 0, 1, 0, 0],\n",
       "       [0.0, 0.0, 0.0, 1.0, 0.0, 5, 0, 0, 0, 0, 1, 0, 0],\n",
       "       [0.0, 0.0, 1.0, 0.0, 0.0, 2, 2, 4, 0, 0, 3, 1, 1],\n",
       "       [0.0, 1.0, 0.0, 0.0, 0.0, 3, 2, 4, 0, 0, 3, 1, 1],\n",
       "       [0.0, 1.0, 0.0, 0.0, 0.0, 3, 0, 7, 0, 0, 2, 0, 0],\n",
       "       [0.0, 0.0, 0.0, 1.0, 0.0, 4, 0, 4, 0, 0, 3, 0, 1],\n",
       "       [0.0, 1.0, 0.0, 0.0, 0.0, 2, 2, 5, 4, 1, 2, 1, 0],\n",
       "       [0.0, 0.0, 1.0, 0.0, 0.0, 3, 0, 3, 0, 0, 2, 0, 0],\n",
       "       [0.0, 0.0, 1.0, 0.0, 0.0, 5, 0, 3, 0, 0, 3, 0, 0],\n",
       "       [1.0, 0.0, 0.0, 0.0, 0.0, 1, 2, 4, 0, 0, 1, 0, 0],\n",
       "       [0.0, 1.0, 0.0, 0.0, 0.0, 4, 0, 5, 0, 0, 2, 0, 0],\n",
       "       [0.0, 0.0, 0.0, 0.0, 1.0, 2, 2, 3, 4, 1, 2, 1, 1],\n",
       "       [0.0, 1.0, 0.0, 0.0, 0.0, 3, 0, 5, 6, 0, 3, 0, 1],\n",
       "       [1.0, 0.0, 0.0, 0.0, 0.0, 3, 0, 0, 0, 0, 2, 0, 0],\n",
       "       [0.0, 1.0, 0.0, 0.0, 0.0, 2, 2, 3, 0, 0, 3, 1, 1],\n",
       "       [0.0, 1.0, 0.0, 0.0, 0.0, 1, 2, 6, 0, 0, 3, 0, 0],\n",
       "       [0.0, 0.0, 1.0, 0.0, 0.0, 4, 0, 5, 0, 0, 1, 0, 0],\n",
       "       [0.0, 1.0, 0.0, 0.0, 0.0, 4, 0, 3, 0, 0, 1, 0, 0],\n",
       "       [0.0, 1.0, 0.0, 0.0, 0.0, 3, 0, 4, 5, 0, 3, 0, 1],\n",
       "       [0.0, 0.0, 0.0, 0.0, 1.0, 3, 2, 6, 2, 1, 3, 1, 0],\n",
       "       [0.0, 0.0, 1.0, 0.0, 0.0, 1, 2, 3, 4, 1, 2, 1, 1],\n",
       "       [0.0, 1.0, 0.0, 0.0, 0.0, 2, 2, 3, 5, 0, 2, 1, 1],\n",
       "       [0.0, 1.0, 0.0, 0.0, 0.0, 3, 0, 6, 0, 0, 3, 0, 0],\n",
       "       [0.0, 0.0, 1.0, 0.0, 0.0, 3, 2, 6, 0, 0, 2, 1, 0],\n",
       "       [0.0, 0.0, 1.0, 0.0, 0.0, 2, 2, 4, 0, 0, 2, 0, 1],\n",
       "       [0.0, 0.0, 0.0, 0.0, 1.0, 2, 2, 6, 0, 0, 2, 1, 0],\n",
       "       [0.0, 1.0, 0.0, 0.0, 0.0, 3, 2, 5, 4, 1, 2, 0, 1],\n",
       "       [0.0, 0.0, 0.0, 0.0, 1.0, 2, 2, 3, 0, 0, 2, 1, 0],\n",
       "       [0.0, 0.0, 1.0, 0.0, 0.0, 4, 0, 2, 0, 0, 3, 1, 1],\n",
       "       [0.0, 1.0, 0.0, 0.0, 0.0, 3, 0, 5, 5, 1, 2, 0, 0],\n",
       "       [0.0, 1.0, 0.0, 0.0, 0.0, 3, 2, 4, 4, 1, 2, 0, 1],\n",
       "       [0.0, 0.0, 0.0, 0.0, 1.0, 1, 2, 5, 5, 1, 2, 1, 0],\n",
       "       [0.0, 1.0, 0.0, 0.0, 0.0, 3, 2, 2, 0, 0, 2, 1, 0],\n",
       "       [0.0, 0.0, 0.0, 0.0, 1.0, 3, 0, 7, 0, 0, 3, 0, 0]], dtype=object)"
      ]
     },
     "execution_count": 25,
     "metadata": {},
     "output_type": "execute_result"
    }
   ],
   "source": [
    "X_prev"
   ]
  },
  {
   "cell_type": "markdown",
   "metadata": {
    "id": "6WY8ON2RxZ-F"
   },
   "source": [
    "### Método de amostragem Holdout"
   ]
  },
  {
   "cell_type": "code",
   "execution_count": 26,
   "metadata": {
    "id": "RF2URV2jxauQ"
   },
   "outputs": [],
   "source": [
    "X_treino, X_teste, y_treino, y_teste = train_test_split(X_prev, y_classe, test_size = 0.20, random_state = 0)"
   ]
  },
  {
   "cell_type": "code",
   "execution_count": 27,
   "metadata": {
    "colab": {
     "base_uri": "https://localhost:8080/",
     "height": 0
    },
    "id": "Qe-d9AAQEF0H",
    "outputId": "3f6826c5-dba4-465d-f4f4-adbae58d37e4"
   },
   "outputs": [
    {
     "data": {
      "text/plain": [
       "(286,)"
      ]
     },
     "execution_count": 27,
     "metadata": {},
     "output_type": "execute_result"
    }
   ],
   "source": [
    "y_classe.shape"
   ]
  },
  {
   "cell_type": "code",
   "execution_count": 28,
   "metadata": {
    "colab": {
     "base_uri": "https://localhost:8080/",
     "height": 0
    },
    "id": "czsbXqYsEGMF",
    "outputId": "ee865dbc-05a1-4b6b-bc37-f3ff08d43132"
   },
   "outputs": [
    {
     "data": {
      "text/plain": [
       "(228, 13)"
      ]
     },
     "execution_count": 28,
     "metadata": {},
     "output_type": "execute_result"
    }
   ],
   "source": [
    "X_treino.shape"
   ]
  },
  {
   "cell_type": "code",
   "execution_count": 29,
   "metadata": {
    "colab": {
     "base_uri": "https://localhost:8080/",
     "height": 0
    },
    "id": "lKwb6G9lEK9D",
    "outputId": "97f19e81-2326-4487-f61e-a0246dfe6bdd"
   },
   "outputs": [
    {
     "data": {
      "text/plain": [
       "(58, 13)"
      ]
     },
     "execution_count": 29,
     "metadata": {},
     "output_type": "execute_result"
    }
   ],
   "source": [
    "X_teste.shape"
   ]
  },
  {
   "cell_type": "markdown",
   "metadata": {
    "id": "oHzZwXa3Ujc3"
   },
   "source": [
    "### Treinamento do modelo"
   ]
  },
  {
   "cell_type": "markdown",
   "metadata": {
    "id": "6EheTQn6Ux9f"
   },
   "source": [
    "#### Árvore de Decisão"
   ]
  },
  {
   "cell_type": "code",
   "execution_count": 30,
   "metadata": {
    "colab": {
     "base_uri": "https://localhost:8080/",
     "height": 74
    },
    "id": "MKekWyA3Ux9e",
    "outputId": "aa87565a-b9f7-487a-dc32-be58a05a191e"
   },
   "outputs": [
    {
     "data": {
      "text/html": [
       "<style>#sk-container-id-1 {color: black;background-color: white;}#sk-container-id-1 pre{padding: 0;}#sk-container-id-1 div.sk-toggleable {background-color: white;}#sk-container-id-1 label.sk-toggleable__label {cursor: pointer;display: block;width: 100%;margin-bottom: 0;padding: 0.3em;box-sizing: border-box;text-align: center;}#sk-container-id-1 label.sk-toggleable__label-arrow:before {content: \"▸\";float: left;margin-right: 0.25em;color: #696969;}#sk-container-id-1 label.sk-toggleable__label-arrow:hover:before {color: black;}#sk-container-id-1 div.sk-estimator:hover label.sk-toggleable__label-arrow:before {color: black;}#sk-container-id-1 div.sk-toggleable__content {max-height: 0;max-width: 0;overflow: hidden;text-align: left;background-color: #f0f8ff;}#sk-container-id-1 div.sk-toggleable__content pre {margin: 0.2em;color: black;border-radius: 0.25em;background-color: #f0f8ff;}#sk-container-id-1 input.sk-toggleable__control:checked~div.sk-toggleable__content {max-height: 200px;max-width: 100%;overflow: auto;}#sk-container-id-1 input.sk-toggleable__control:checked~label.sk-toggleable__label-arrow:before {content: \"▾\";}#sk-container-id-1 div.sk-estimator input.sk-toggleable__control:checked~label.sk-toggleable__label {background-color: #d4ebff;}#sk-container-id-1 div.sk-label input.sk-toggleable__control:checked~label.sk-toggleable__label {background-color: #d4ebff;}#sk-container-id-1 input.sk-hidden--visually {border: 0;clip: rect(1px 1px 1px 1px);clip: rect(1px, 1px, 1px, 1px);height: 1px;margin: -1px;overflow: hidden;padding: 0;position: absolute;width: 1px;}#sk-container-id-1 div.sk-estimator {font-family: monospace;background-color: #f0f8ff;border: 1px dotted black;border-radius: 0.25em;box-sizing: border-box;margin-bottom: 0.5em;}#sk-container-id-1 div.sk-estimator:hover {background-color: #d4ebff;}#sk-container-id-1 div.sk-parallel-item::after {content: \"\";width: 100%;border-bottom: 1px solid gray;flex-grow: 1;}#sk-container-id-1 div.sk-label:hover label.sk-toggleable__label {background-color: #d4ebff;}#sk-container-id-1 div.sk-serial::before {content: \"\";position: absolute;border-left: 1px solid gray;box-sizing: border-box;top: 0;bottom: 0;left: 50%;z-index: 0;}#sk-container-id-1 div.sk-serial {display: flex;flex-direction: column;align-items: center;background-color: white;padding-right: 0.2em;padding-left: 0.2em;position: relative;}#sk-container-id-1 div.sk-item {position: relative;z-index: 1;}#sk-container-id-1 div.sk-parallel {display: flex;align-items: stretch;justify-content: center;background-color: white;position: relative;}#sk-container-id-1 div.sk-item::before, #sk-container-id-1 div.sk-parallel-item::before {content: \"\";position: absolute;border-left: 1px solid gray;box-sizing: border-box;top: 0;bottom: 0;left: 50%;z-index: -1;}#sk-container-id-1 div.sk-parallel-item {display: flex;flex-direction: column;z-index: 1;position: relative;background-color: white;}#sk-container-id-1 div.sk-parallel-item:first-child::after {align-self: flex-end;width: 50%;}#sk-container-id-1 div.sk-parallel-item:last-child::after {align-self: flex-start;width: 50%;}#sk-container-id-1 div.sk-parallel-item:only-child::after {width: 0;}#sk-container-id-1 div.sk-dashed-wrapped {border: 1px dashed gray;margin: 0 0.4em 0.5em 0.4em;box-sizing: border-box;padding-bottom: 0.4em;background-color: white;}#sk-container-id-1 div.sk-label label {font-family: monospace;font-weight: bold;display: inline-block;line-height: 1.2em;}#sk-container-id-1 div.sk-label-container {text-align: center;}#sk-container-id-1 div.sk-container {/* jupyter's `normalize.less` sets `[hidden] { display: none; }` but bootstrap.min.css set `[hidden] { display: none !important; }` so we also need the `!important` here to be able to override the default hidden behavior on the sphinx rendered scikit-learn.org. See: https://github.com/scikit-learn/scikit-learn/issues/21755 */display: inline-block !important;position: relative;}#sk-container-id-1 div.sk-text-repr-fallback {display: none;}</style><div id=\"sk-container-id-1\" class=\"sk-top-container\"><div class=\"sk-text-repr-fallback\"><pre>DecisionTreeClassifier()</pre><b>In a Jupyter environment, please rerun this cell to show the HTML representation or trust the notebook. <br />On GitHub, the HTML representation is unable to render, please try loading this page with nbviewer.org.</b></div><div class=\"sk-container\" hidden><div class=\"sk-item\"><div class=\"sk-estimator sk-toggleable\"><input class=\"sk-toggleable__control sk-hidden--visually\" id=\"sk-estimator-id-1\" type=\"checkbox\" checked><label for=\"sk-estimator-id-1\" class=\"sk-toggleable__label sk-toggleable__label-arrow\">DecisionTreeClassifier</label><div class=\"sk-toggleable__content\"><pre>DecisionTreeClassifier()</pre></div></div></div></div></div>"
      ],
      "text/plain": [
       "DecisionTreeClassifier()"
      ]
     },
     "execution_count": 30,
     "metadata": {},
     "output_type": "execute_result"
    }
   ],
   "source": [
    "AD_X_treino = X_treino\n",
    "AD_y_treino = y_treino\n",
    "\n",
    "AD_X_teste = X_teste\n",
    "AD_y_teste = y_teste\n",
    "\n",
    "AD_modelo = DecisionTreeClassifier(criterion='gini')\n",
    "AD_modelo.fit(AD_X_treino, AD_y_treino)"
   ]
  },
  {
   "cell_type": "code",
   "execution_count": 31,
   "metadata": {
    "id": "d-2MOHlrUx9f"
   },
   "outputs": [],
   "source": [
    "AD_previsoes = AD_modelo.predict(AD_X_teste)"
   ]
  },
  {
   "cell_type": "code",
   "execution_count": 32,
   "metadata": {
    "colab": {
     "base_uri": "https://localhost:8080/",
     "height": 0
    },
    "id": "R7JtRz7PUx9f",
    "outputId": "1ba6a76d-f4fc-4215-d926-8874617af4b5"
   },
   "outputs": [
    {
     "data": {
      "text/plain": [
       "0.6551724137931034"
      ]
     },
     "execution_count": 32,
     "metadata": {},
     "output_type": "execute_result"
    }
   ],
   "source": [
    "accuracy_score(AD_y_teste, AD_previsoes)"
   ]
  },
  {
   "cell_type": "code",
   "execution_count": 33,
   "metadata": {
    "colab": {
     "base_uri": "https://localhost:8080/",
     "height": 0
    },
    "id": "uz20UXHrUx9f",
    "outputId": "cc88a4b6-bebf-401e-e704-c204777d412e"
   },
   "outputs": [
    {
     "data": {
      "text/plain": [
       "array([[30,  6],\n",
       "       [14,  8]], dtype=int64)"
      ]
     },
     "execution_count": 33,
     "metadata": {},
     "output_type": "execute_result"
    }
   ],
   "source": [
    "confusion_matrix(AD_y_teste, AD_previsoes)"
   ]
  },
  {
   "cell_type": "code",
   "execution_count": 34,
   "metadata": {
    "colab": {
     "base_uri": "https://localhost:8080/",
     "height": 468
    },
    "id": "vLovkukSUx9f",
    "outputId": "124f24b1-3366-492d-c9aa-a5fc6f7ed1ef"
   },
   "outputs": [
    {
     "data": {
      "text/plain": [
       "0.6551724137931034"
      ]
     },
     "execution_count": 34,
     "metadata": {},
     "output_type": "execute_result"
    },
    {
     "data": {
      "image/png": "[encoded data removed]",
      "text/plain": [
       "<Figure size 800x550 with 1 Axes>"
      ]
     },
     "metadata": {},
     "output_type": "display_data"
    }
   ],
   "source": [
    "AD_cm = ConfusionMatrix(AD_modelo)\n",
    "AD_cm.fit(AD_X_treino, AD_y_treino)\n",
    "AD_cm.score(AD_X_teste, AD_y_teste)"
   ]
  },
  {
   "cell_type": "code",
   "execution_count": 35,
   "metadata": {
    "colab": {
     "base_uri": "https://localhost:8080/",
     "height": 0
    },
    "id": "6E7znK4YUx9f",
    "outputId": "62a7cdc4-a6ab-4cd6-d9fd-63764f9d0a31"
   },
   "outputs": [
    {
     "name": "stdout",
     "output_type": "stream",
     "text": [
      "                      precision    recall  f1-score   support\n",
      "\n",
      "no-recurrence-events       0.68      0.83      0.75        36\n",
      "   recurrence-events       0.57      0.36      0.44        22\n",
      "\n",
      "            accuracy                           0.66        58\n",
      "           macro avg       0.63      0.60      0.60        58\n",
      "        weighted avg       0.64      0.66      0.63        58\n",
      "\n"
     ]
    }
   ],
   "source": [
    "print(classification_report(AD_y_teste, AD_previsoes))"
   ]
  },
  {
   "cell_type": "code",
   "execution_count": 36,
   "metadata": {
    "colab": {
     "base_uri": "https://localhost:8080/",
     "height": 575
    },
    "id": "IfWyQH0DUx9f",
    "outputId": "e3886073-1015-4737-c9a6-d1bd55d54fff"
   },
   "outputs": [
    {
     "data": {
      "image/png": "[encoded data removed]",
      "text/plain": [
       "<Figure size 1000x1000 with 1 Axes>"
      ]
     },
     "metadata": {},
     "output_type": "display_data"
    }
   ],
   "source": [
    "AD_previsores = ['breastquadleftup', 'breastquadcentral', 'breastquadhleftlow', 'breastquadhrightup', 'breastquadhrightdown', 'age', 'menopause', 'tumorsize', 'invnodes', 'nodecaps', 'degmalig', 'breast', 'irradiat']\n",
    "\n",
    "figura, eixos = plt.subplots(nrows=1, ncols=1, figsize=(10,10))\n",
    "\n",
    "tree.plot_tree(AD_modelo, feature_names=AD_previsores, class_names = AD_modelo.classes_, filled=True);"
   ]
  },
  {
   "cell_type": "markdown",
   "metadata": {
    "id": "CC8r9A9MUx9f"
   },
   "source": [
    "#### Naive Bayes"
   ]
  },
  {
   "cell_type": "code",
   "execution_count": 37,
   "metadata": {
    "id": "nKOPdZf0Ux9f"
   },
   "outputs": [],
   "source": [
    "NB_X_treino = X_treino\n",
    "NB_y_treino = y_treino\n",
    "\n",
    "NB_X_teste = X_teste\n",
    "NB_y_teste = y_teste\n",
    "\n",
    "NB_modelo = GaussianNB()\n",
    "NB_modelo.fit(X_treino, y_treino)\n",
    "\n",
    "NB_previsoes = NB_modelo.predict(NB_X_teste)"
   ]
  },
  {
   "cell_type": "code",
   "execution_count": 38,
   "metadata": {
    "colab": {
     "base_uri": "https://localhost:8080/",
     "height": 0
    },
    "id": "Sd9W3S-HUx9g",
    "outputId": "c4420df7-2c10-4cd1-82ef-548a8495f952"
   },
   "outputs": [
    {
     "data": {
      "text/plain": [
       "0.7413793103448276"
      ]
     },
     "execution_count": 38,
     "metadata": {},
     "output_type": "execute_result"
    }
   ],
   "source": [
    "accuracy_score(NB_y_teste, NB_previsoes)"
   ]
  },
  {
   "cell_type": "code",
   "execution_count": 39,
   "metadata": {
    "colab": {
     "base_uri": "https://localhost:8080/",
     "height": 0
    },
    "id": "0S0OfU9iUx9g",
    "outputId": "10dc097c-d90f-4654-85bd-d53b110a6534"
   },
   "outputs": [
    {
     "data": {
      "text/plain": [
       "array([[31,  5],\n",
       "       [10, 12]], dtype=int64)"
      ]
     },
     "execution_count": 39,
     "metadata": {},
     "output_type": "execute_result"
    }
   ],
   "source": [
    "confusion_matrix(NB_y_teste, NB_previsoes)"
   ]
  },
  {
   "cell_type": "code",
   "execution_count": 40,
   "metadata": {
    "colab": {
     "base_uri": "https://localhost:8080/",
     "height": 468
    },
    "id": "S-I90yUEUx9g",
    "outputId": "800582be-b653-4736-d9f0-d27b69d7eb76"
   },
   "outputs": [
    {
     "data": {
      "text/plain": [
       "0.7413793103448276"
      ]
     },
     "execution_count": 40,
     "metadata": {},
     "output_type": "execute_result"
    },
    {
     "data": {
      "image/png": "[encoded data removed]",
      "text/plain": [
       "<Figure size 800x550 with 1 Axes>"
      ]
     },
     "metadata": {},
     "output_type": "display_data"
    }
   ],
   "source": [
    "NB_cm = ConfusionMatrix(NB_modelo)\n",
    "NB_cm.fit(NB_X_treino, NB_y_treino)\n",
    "NB_cm.score(NB_X_teste, NB_y_teste)"
   ]
  },
  {
   "cell_type": "code",
   "execution_count": 41,
   "metadata": {
    "colab": {
     "base_uri": "https://localhost:8080/",
     "height": 0
    },
    "id": "tHn6Fm6fUx9g",
    "outputId": "4230168b-438d-479a-a01b-a828a28201a0"
   },
   "outputs": [
    {
     "name": "stdout",
     "output_type": "stream",
     "text": [
      "                      precision    recall  f1-score   support\n",
      "\n",
      "no-recurrence-events       0.76      0.86      0.81        36\n",
      "   recurrence-events       0.71      0.55      0.62        22\n",
      "\n",
      "            accuracy                           0.74        58\n",
      "           macro avg       0.73      0.70      0.71        58\n",
      "        weighted avg       0.74      0.74      0.73        58\n",
      "\n"
     ]
    }
   ],
   "source": [
    "print(classification_report(NB_y_teste, NB_previsoes))"
   ]
  },
  {
   "cell_type": "markdown",
   "metadata": {
    "id": "9YFCWjz_Ux9g"
   },
   "source": [
    "#### Random Forest"
   ]
  },
  {
   "cell_type": "code",
   "execution_count": 42,
   "metadata": {
    "id": "Ipt8bG3uUx9g"
   },
   "outputs": [],
   "source": [
    "RF_X_treino = X_treino\n",
    "RF_y_treino = y_treino\n",
    "\n",
    "RF_X_teste = X_teste\n",
    "RF_y_teste = y_teste\n",
    "\n",
    "RF_modelo = RandomForestClassifier(n_estimators=100, max_features=6, criterion='gini', random_state = 0)\n",
    "RF_modelo.fit(RF_X_treino, RF_y_treino)\n",
    "\n",
    "RF_previsoes = RF_modelo.predict(RF_X_teste)"
   ]
  },
  {
   "cell_type": "code",
   "execution_count": 43,
   "metadata": {
    "colab": {
     "base_uri": "https://localhost:8080/",
     "height": 0
    },
    "id": "Oet4zJlHUx9g",
    "outputId": "5b351f25-f354-41e9-fe77-5a7deeea5473"
   },
   "outputs": [
    {
     "data": {
      "text/plain": [
       "0.6896551724137931"
      ]
     },
     "execution_count": 43,
     "metadata": {},
     "output_type": "execute_result"
    }
   ],
   "source": [
    "accuracy_score(RF_y_teste, RF_previsoes)"
   ]
  },
  {
   "cell_type": "code",
   "execution_count": 44,
   "metadata": {
    "colab": {
     "base_uri": "https://localhost:8080/",
     "height": 0
    },
    "id": "GRbksNV9Ux9g",
    "outputId": "9d377a0d-6109-4457-a5bc-b3abdcca9ff7"
   },
   "outputs": [
    {
     "data": {
      "text/plain": [
       "array([[32,  4],\n",
       "       [14,  8]], dtype=int64)"
      ]
     },
     "execution_count": 44,
     "metadata": {},
     "output_type": "execute_result"
    }
   ],
   "source": [
    "confusion_matrix(RF_y_teste, RF_previsoes)"
   ]
  },
  {
   "cell_type": "code",
   "execution_count": 45,
   "metadata": {
    "colab": {
     "base_uri": "https://localhost:8080/",
     "height": 468
    },
    "id": "BS474DIUUx9h",
    "outputId": "6a1556c9-7b82-4f5e-f3c5-4042245d0f3d"
   },
   "outputs": [
    {
     "data": {
      "text/plain": [
       "0.6896551724137931"
      ]
     },
     "execution_count": 45,
     "metadata": {},
     "output_type": "execute_result"
    },
    {
     "data": {
      "image/png": "[encoded data removed]",
      "text/plain": [
       "<Figure size 800x550 with 1 Axes>"
      ]
     },
     "metadata": {},
     "output_type": "display_data"
    }
   ],
   "source": [
    "RF_cm = ConfusionMatrix(RF_modelo)\n",
    "RF_cm.fit(RF_X_treino, RF_y_treino)\n",
    "RF_cm.score(RF_X_teste, RF_y_teste)"
   ]
  },
  {
   "cell_type": "code",
   "execution_count": 46,
   "metadata": {
    "colab": {
     "base_uri": "https://localhost:8080/",
     "height": 0
    },
    "id": "hBYedOFAUx9h",
    "outputId": "9c769af9-eb0d-443b-85f3-b22bd9981b0a"
   },
   "outputs": [
    {
     "name": "stdout",
     "output_type": "stream",
     "text": [
      "                      precision    recall  f1-score   support\n",
      "\n",
      "no-recurrence-events       0.70      0.89      0.78        36\n",
      "   recurrence-events       0.67      0.36      0.47        22\n",
      "\n",
      "            accuracy                           0.69        58\n",
      "           macro avg       0.68      0.63      0.63        58\n",
      "        weighted avg       0.68      0.69      0.66        58\n",
      "\n"
     ]
    }
   ],
   "source": [
    "print(classification_report(RF_y_teste, RF_previsoes))"
   ]
  },
  {
   "cell_type": "markdown",
   "metadata": {
    "id": "YoJGTPPzxwo5"
   },
   "source": [
    "### Treinamento com balanceamento dos dados usando um método undersampling"
   ]
  },
  {
   "cell_type": "code",
   "execution_count": 47,
   "metadata": {
    "id": "VIau-oC02z-K"
   },
   "outputs": [],
   "source": [
    "balanceamento_under = TomekLinks(sampling_strategy='auto')\n",
    "X_under, y_under = balanceamento_under.fit_resample(X_treino, y_treino)"
   ]
  },
  {
   "cell_type": "code",
   "execution_count": 48,
   "metadata": {
    "colab": {
     "base_uri": "https://localhost:8080/",
     "height": 0
    },
    "id": "pFv6DK0eiGa0",
    "outputId": "814cb415-3e4d-41df-93e4-ffa24e178a12"
   },
   "outputs": [
    {
     "data": {
      "text/plain": [
       "((211, 13), (211,))"
      ]
     },
     "execution_count": 48,
     "metadata": {},
     "output_type": "execute_result"
    }
   ],
   "source": [
    "X_under.shape, y_under.shape"
   ]
  },
  {
   "cell_type": "code",
   "execution_count": 49,
   "metadata": {
    "colab": {
     "base_uri": "https://localhost:8080/",
     "height": 0
    },
    "id": "3zwuEJHomoc8",
    "outputId": "28cd6e2f-83e8-424e-a7a0-82142c7e88db"
   },
   "outputs": [
    {
     "data": {
      "text/plain": [
       "(array(['no-recurrence-events', 'recurrence-events'], dtype=object),\n",
       " array([165,  63], dtype=int64))"
      ]
     },
     "execution_count": 49,
     "metadata": {},
     "output_type": "execute_result"
    }
   ],
   "source": [
    "np.unique(y_treino, return_counts=True)"
   ]
  },
  {
   "cell_type": "code",
   "execution_count": 50,
   "metadata": {
    "colab": {
     "base_uri": "https://localhost:8080/",
     "height": 0
    },
    "id": "wLEIpXF2mrO_",
    "outputId": "9c40b63c-1a50-4149-adcb-8f6b9c4255a9"
   },
   "outputs": [
    {
     "data": {
      "text/plain": [
       "(array(['no-recurrence-events', 'recurrence-events'], dtype=object),\n",
       " array([148,  63], dtype=int64))"
      ]
     },
     "execution_count": 50,
     "metadata": {},
     "output_type": "execute_result"
    }
   ],
   "source": [
    "np.unique(y_under, return_counts=True)"
   ]
  },
  {
   "cell_type": "markdown",
   "metadata": {
    "id": "eZaJJzU1hBnG"
   },
   "source": [
    "#### Árvore de Decisão"
   ]
  },
  {
   "cell_type": "code",
   "execution_count": 51,
   "metadata": {
    "colab": {
     "base_uri": "https://localhost:8080/",
     "height": 74
    },
    "id": "PZB391hrhJjJ",
    "outputId": "392bebcf-36ed-4e1e-a47c-e31c0095bc03"
   },
   "outputs": [
    {
     "data": {
      "text/html": [
       "<style>#sk-container-id-2 {color: black;background-color: white;}#sk-container-id-2 pre{padding: 0;}#sk-container-id-2 div.sk-toggleable {background-color: white;}#sk-container-id-2 label.sk-toggleable__label {cursor: pointer;display: block;width: 100%;margin-bottom: 0;padding: 0.3em;box-sizing: border-box;text-align: center;}#sk-container-id-2 label.sk-toggleable__label-arrow:before {content: \"▸\";float: left;margin-right: 0.25em;color: #696969;}#sk-container-id-2 label.sk-toggleable__label-arrow:hover:before {color: black;}#sk-container-id-2 div.sk-estimator:hover label.sk-toggleable__label-arrow:before {color: black;}#sk-container-id-2 div.sk-toggleable__content {max-height: 0;max-width: 0;overflow: hidden;text-align: left;background-color: #f0f8ff;}#sk-container-id-2 div.sk-toggleable__content pre {margin: 0.2em;color: black;border-radius: 0.25em;background-color: #f0f8ff;}#sk-container-id-2 input.sk-toggleable__control:checked~div.sk-toggleable__content {max-height: 200px;max-width: 100%;overflow: auto;}#sk-container-id-2 input.sk-toggleable__control:checked~label.sk-toggleable__label-arrow:before {content: \"▾\";}#sk-container-id-2 div.sk-estimator input.sk-toggleable__control:checked~label.sk-toggleable__label {background-color: #d4ebff;}#sk-container-id-2 div.sk-label input.sk-toggleable__control:checked~label.sk-toggleable__label {background-color: #d4ebff;}#sk-container-id-2 input.sk-hidden--visually {border: 0;clip: rect(1px 1px 1px 1px);clip: rect(1px, 1px, 1px, 1px);height: 1px;margin: -1px;overflow: hidden;padding: 0;position: absolute;width: 1px;}#sk-container-id-2 div.sk-estimator {font-family: monospace;background-color: #f0f8ff;border: 1px dotted black;border-radius: 0.25em;box-sizing: border-box;margin-bottom: 0.5em;}#sk-container-id-2 div.sk-estimator:hover {background-color: #d4ebff;}#sk-container-id-2 div.sk-parallel-item::after {content: \"\";width: 100%;border-bottom: 1px solid gray;flex-grow: 1;}#sk-container-id-2 div.sk-label:hover label.sk-toggleable__label {background-color: #d4ebff;}#sk-container-id-2 div.sk-serial::before {content: \"\";position: absolute;border-left: 1px solid gray;box-sizing: border-box;top: 0;bottom: 0;left: 50%;z-index: 0;}#sk-container-id-2 div.sk-serial {display: flex;flex-direction: column;align-items: center;background-color: white;padding-right: 0.2em;padding-left: 0.2em;position: relative;}#sk-container-id-2 div.sk-item {position: relative;z-index: 1;}#sk-container-id-2 div.sk-parallel {display: flex;align-items: stretch;justify-content: center;background-color: white;position: relative;}#sk-container-id-2 div.sk-item::before, #sk-container-id-2 div.sk-parallel-item::before {content: \"\";position: absolute;border-left: 1px solid gray;box-sizing: border-box;top: 0;bottom: 0;left: 50%;z-index: -1;}#sk-container-id-2 div.sk-parallel-item {display: flex;flex-direction: column;z-index: 1;position: relative;background-color: white;}#sk-container-id-2 div.sk-parallel-item:first-child::after {align-self: flex-end;width: 50%;}#sk-container-id-2 div.sk-parallel-item:last-child::after {align-self: flex-start;width: 50%;}#sk-container-id-2 div.sk-parallel-item:only-child::after {width: 0;}#sk-container-id-2 div.sk-dashed-wrapped {border: 1px dashed gray;margin: 0 0.4em 0.5em 0.4em;box-sizing: border-box;padding-bottom: 0.4em;background-color: white;}#sk-container-id-2 div.sk-label label {font-family: monospace;font-weight: bold;display: inline-block;line-height: 1.2em;}#sk-container-id-2 div.sk-label-container {text-align: center;}#sk-container-id-2 div.sk-container {/* jupyter's `normalize.less` sets `[hidden] { display: none; }` but bootstrap.min.css set `[hidden] { display: none !important; }` so we also need the `!important` here to be able to override the default hidden behavior on the sphinx rendered scikit-learn.org. See: https://github.com/scikit-learn/scikit-learn/issues/21755 */display: inline-block !important;position: relative;}#sk-container-id-2 div.sk-text-repr-fallback {display: none;}</style><div id=\"sk-container-id-2\" class=\"sk-top-container\"><div class=\"sk-text-repr-fallback\"><pre>DecisionTreeClassifier()</pre><b>In a Jupyter environment, please rerun this cell to show the HTML representation or trust the notebook. <br />On GitHub, the HTML representation is unable to render, please try loading this page with nbviewer.org.</b></div><div class=\"sk-container\" hidden><div class=\"sk-item\"><div class=\"sk-estimator sk-toggleable\"><input class=\"sk-toggleable__control sk-hidden--visually\" id=\"sk-estimator-id-2\" type=\"checkbox\" checked><label for=\"sk-estimator-id-2\" class=\"sk-toggleable__label sk-toggleable__label-arrow\">DecisionTreeClassifier</label><div class=\"sk-toggleable__content\"><pre>DecisionTreeClassifier()</pre></div></div></div></div></div>"
      ],
      "text/plain": [
       "DecisionTreeClassifier()"
      ]
     },
     "execution_count": 51,
     "metadata": {},
     "output_type": "execute_result"
    }
   ],
   "source": [
    "AD2_X_under = X_under\n",
    "AD2_y_under = y_under\n",
    "\n",
    "AD2_X_teste = X_teste\n",
    "AD2_y_teste = y_teste\n",
    "\n",
    "AD2_modelo = DecisionTreeClassifier(criterion='gini')\n",
    "AD2_modelo.fit(AD2_X_under, AD2_y_under)"
   ]
  },
  {
   "cell_type": "code",
   "execution_count": 52,
   "metadata": {
    "id": "RIMSUP_V3RbP"
   },
   "outputs": [],
   "source": [
    "AD2_previsoes = AD2_modelo.predict(AD2_X_teste)"
   ]
  },
  {
   "cell_type": "code",
   "execution_count": 53,
   "metadata": {
    "colab": {
     "base_uri": "https://localhost:8080/",
     "height": 0
    },
    "id": "0KL8VKZjBxLE",
    "outputId": "f5559926-5786-4190-a2fd-a2b9dbe000a4"
   },
   "outputs": [
    {
     "data": {
      "text/plain": [
       "0.5862068965517241"
      ]
     },
     "execution_count": 53,
     "metadata": {},
     "output_type": "execute_result"
    }
   ],
   "source": [
    "accuracy_score(AD2_y_teste, AD2_previsoes)"
   ]
  },
  {
   "cell_type": "code",
   "execution_count": 54,
   "metadata": {
    "colab": {
     "base_uri": "https://localhost:8080/",
     "height": 0
    },
    "id": "tBfXM62jBzgi",
    "outputId": "47f9e019-40fb-4ba1-9e77-bdbbf0bf79b5"
   },
   "outputs": [
    {
     "data": {
      "text/plain": [
       "array([[27,  9],\n",
       "       [15,  7]], dtype=int64)"
      ]
     },
     "execution_count": 54,
     "metadata": {},
     "output_type": "execute_result"
    }
   ],
   "source": [
    "confusion_matrix(AD2_y_teste, AD2_previsoes)"
   ]
  },
  {
   "cell_type": "code",
   "execution_count": 55,
   "metadata": {
    "colab": {
     "base_uri": "https://localhost:8080/",
     "height": 468
    },
    "id": "caNr_RjP3XAp",
    "outputId": "4404ca1d-146f-4b74-ad96-4c1513ad75ca"
   },
   "outputs": [
    {
     "data": {
      "text/plain": [
       "0.5862068965517241"
      ]
     },
     "execution_count": 55,
     "metadata": {},
     "output_type": "execute_result"
    },
    {
     "data": {
      "image/png": "[encoded data removed]",
      "text/plain": [
       "<Figure size 800x550 with 1 Axes>"
      ]
     },
     "metadata": {},
     "output_type": "display_data"
    }
   ],
   "source": [
    "AD2_cm = ConfusionMatrix(AD2_modelo)\n",
    "AD2_cm.fit(AD2_X_under, AD2_y_under)\n",
    "AD2_cm.score(AD2_X_teste, AD2_y_teste)"
   ]
  },
  {
   "cell_type": "code",
   "execution_count": 56,
   "metadata": {
    "colab": {
     "base_uri": "https://localhost:8080/",
     "height": 0
    },
    "id": "YQJ_3MCd3Zxl",
    "outputId": "5a1f7848-fb90-4bb8-d4bf-4cc9eb4e6f13"
   },
   "outputs": [
    {
     "name": "stdout",
     "output_type": "stream",
     "text": [
      "                      precision    recall  f1-score   support\n",
      "\n",
      "no-recurrence-events       0.64      0.75      0.69        36\n",
      "   recurrence-events       0.44      0.32      0.37        22\n",
      "\n",
      "            accuracy                           0.59        58\n",
      "           macro avg       0.54      0.53      0.53        58\n",
      "        weighted avg       0.56      0.59      0.57        58\n",
      "\n"
     ]
    }
   ],
   "source": [
    "print(classification_report(AD2_y_teste, AD2_previsoes))"
   ]
  },
  {
   "cell_type": "code",
   "execution_count": 57,
   "metadata": {
    "colab": {
     "base_uri": "https://localhost:8080/",
     "height": 575
    },
    "id": "3s2huJA95p1B",
    "outputId": "49487b78-94ce-48d3-b21a-8f1083596f3b"
   },
   "outputs": [
    {
     "data": {
      "image/png": "[encoded data removed]",
      "text/plain": [
       "<Figure size 1000x1000 with 1 Axes>"
      ]
     },
     "metadata": {},
     "output_type": "display_data"
    }
   ],
   "source": [
    "AD2_previsores = ['breastquadleftup', 'breastquadcentral', 'breastquadhleftlow', 'breastquadhrightup', 'breastquadhrightdown', 'age', 'menopause', 'tumorsize', 'invnodes', 'nodecaps', 'degmalig', 'breast', 'irradiat']\n",
    "\n",
    "figura, eixos = plt.subplots(nrows=1, ncols=1, figsize=(10,10))\n",
    "\n",
    "tree.plot_tree(AD2_modelo, feature_names=AD2_previsores, class_names = AD2_modelo.classes_, filled=True);"
   ]
  },
  {
   "cell_type": "markdown",
   "metadata": {
    "id": "geZW3CE2ZMmE"
   },
   "source": [
    "#### Naive Bayes"
   ]
  },
  {
   "cell_type": "code",
   "execution_count": 58,
   "metadata": {
    "id": "jR5X2dK4ZO1f"
   },
   "outputs": [],
   "source": [
    "NB2_X_under = X_under\n",
    "NB2_y_under = y_under\n",
    "\n",
    "NB2_X_teste = X_teste\n",
    "NB2_y_teste = y_teste\n",
    "\n",
    "NB2_modelo = GaussianNB()\n",
    "NB2_modelo.fit(NB2_X_under, NB2_y_under)\n",
    "\n",
    "NB2_previsoes = NB2_modelo.predict(NB2_X_teste)"
   ]
  },
  {
   "cell_type": "code",
   "execution_count": 59,
   "metadata": {
    "colab": {
     "base_uri": "https://localhost:8080/",
     "height": 0
    },
    "id": "4S4z5ffOHA9c",
    "outputId": "a9f6f3a0-a228-4a0b-9d35-1bee06c51d87"
   },
   "outputs": [
    {
     "data": {
      "text/plain": [
       "0.7586206896551724"
      ]
     },
     "execution_count": 59,
     "metadata": {},
     "output_type": "execute_result"
    }
   ],
   "source": [
    "accuracy_score(NB2_y_teste,NB2_previsoes)"
   ]
  },
  {
   "cell_type": "code",
   "execution_count": 60,
   "metadata": {
    "colab": {
     "base_uri": "https://localhost:8080/",
     "height": 0
    },
    "id": "8NL0P-HTHGNE",
    "outputId": "23822f34-e94a-47af-ac83-1ed9d0d0c8c6"
   },
   "outputs": [
    {
     "data": {
      "text/plain": [
       "array([[31,  5],\n",
       "       [ 9, 13]], dtype=int64)"
      ]
     },
     "execution_count": 60,
     "metadata": {},
     "output_type": "execute_result"
    }
   ],
   "source": [
    "confusion_matrix(NB2_y_teste, NB2_previsoes)"
   ]
  },
  {
   "cell_type": "code",
   "execution_count": 61,
   "metadata": {
    "colab": {
     "base_uri": "https://localhost:8080/",
     "height": 468
    },
    "id": "7iOUsVSgHG2S",
    "outputId": "837f6dbd-8c61-420f-bfa4-5f0a344ec4f8"
   },
   "outputs": [
    {
     "data": {
      "text/plain": [
       "0.7586206896551724"
      ]
     },
     "execution_count": 61,
     "metadata": {},
     "output_type": "execute_result"
    },
    {
     "data": {
      "image/png": "[encoded data removed]",
      "text/plain": [
       "<Figure size 800x550 with 1 Axes>"
      ]
     },
     "metadata": {},
     "output_type": "display_data"
    }
   ],
   "source": [
    "NB2_cm = ConfusionMatrix(NB2_modelo)\n",
    "NB2_cm.fit(NB2_X_under, NB2_y_under)\n",
    "NB2_cm.score(NB2_X_teste, NB2_y_teste)"
   ]
  },
  {
   "cell_type": "code",
   "execution_count": 62,
   "metadata": {
    "colab": {
     "base_uri": "https://localhost:8080/",
     "height": 0
    },
    "id": "cpXkt0epIs5P",
    "outputId": "13b0c88c-9496-43e1-aec0-73e9323c4dde"
   },
   "outputs": [
    {
     "name": "stdout",
     "output_type": "stream",
     "text": [
      "                      precision    recall  f1-score   support\n",
      "\n",
      "no-recurrence-events       0.78      0.86      0.82        36\n",
      "   recurrence-events       0.72      0.59      0.65        22\n",
      "\n",
      "            accuracy                           0.76        58\n",
      "           macro avg       0.75      0.73      0.73        58\n",
      "        weighted avg       0.75      0.76      0.75        58\n",
      "\n"
     ]
    }
   ],
   "source": [
    "print(classification_report(NB2_y_teste, NB2_previsoes))"
   ]
  },
  {
   "cell_type": "markdown",
   "metadata": {
    "id": "wpxpb8YuZPJc"
   },
   "source": [
    "#### Random Forest"
   ]
  },
  {
   "cell_type": "code",
   "execution_count": 63,
   "metadata": {
    "id": "iggvFbyzJHtp"
   },
   "outputs": [],
   "source": [
    "RF2_X_under = X_under\n",
    "RF2_y_under = y_under\n",
    "\n",
    "RF2_X_teste = X_teste\n",
    "RF2_y_teste = y_teste\n",
    "\n",
    "RF2_modelo = RandomForestClassifier(n_estimators=100, max_features=6, criterion='gini', random_state = 0)\n",
    "RF2_modelo.fit(RF2_X_under, RF2_y_under)\n",
    "\n",
    "RF2_previsoes = RF2_modelo.predict(RF2_X_teste)"
   ]
  },
  {
   "cell_type": "code",
   "execution_count": 64,
   "metadata": {
    "colab": {
     "base_uri": "https://localhost:8080/",
     "height": 0
    },
    "id": "TgM8NjZBJR_B",
    "outputId": "c87fb677-a510-4c19-990a-b9005f928f30"
   },
   "outputs": [
    {
     "data": {
      "text/plain": [
       "0.7413793103448276"
      ]
     },
     "execution_count": 64,
     "metadata": {},
     "output_type": "execute_result"
    }
   ],
   "source": [
    "accuracy_score(RF2_y_teste, RF2_previsoes)"
   ]
  },
  {
   "cell_type": "code",
   "execution_count": 65,
   "metadata": {
    "colab": {
     "base_uri": "https://localhost:8080/",
     "height": 0
    },
    "id": "hsHkJir3JrKN",
    "outputId": "6babe5e5-b239-4d00-c7e5-8509657b67e9"
   },
   "outputs": [
    {
     "data": {
      "text/plain": [
       "array([[32,  4],\n",
       "       [11, 11]], dtype=int64)"
      ]
     },
     "execution_count": 65,
     "metadata": {},
     "output_type": "execute_result"
    }
   ],
   "source": [
    "confusion_matrix(RF2_y_teste, RF2_previsoes)"
   ]
  },
  {
   "cell_type": "code",
   "execution_count": 66,
   "metadata": {
    "colab": {
     "base_uri": "https://localhost:8080/",
     "height": 468
    },
    "id": "yjkMEV64J09k",
    "outputId": "f704f23a-511b-49f9-c35d-3762de6ebd5f"
   },
   "outputs": [
    {
     "data": {
      "text/plain": [
       "0.7413793103448276"
      ]
     },
     "execution_count": 66,
     "metadata": {},
     "output_type": "execute_result"
    },
    {
     "data": {
      "image/png": "[encoded data removed]",
      "text/plain": [
       "<Figure size 800x550 with 1 Axes>"
      ]
     },
     "metadata": {},
     "output_type": "display_data"
    }
   ],
   "source": [
    "RF2_cm = ConfusionMatrix(RF2_modelo)\n",
    "RF2_cm.fit(RF2_X_under, RF2_y_under)\n",
    "RF2_cm.score(RF2_X_teste, RF2_y_teste)"
   ]
  },
  {
   "cell_type": "code",
   "execution_count": 67,
   "metadata": {
    "colab": {
     "base_uri": "https://localhost:8080/",
     "height": 0
    },
    "id": "c8h5eRy2J9qI",
    "outputId": "b5c009df-0e19-49bd-8a52-b2a250bdc2e0"
   },
   "outputs": [
    {
     "name": "stdout",
     "output_type": "stream",
     "text": [
      "                      precision    recall  f1-score   support\n",
      "\n",
      "no-recurrence-events       0.74      0.89      0.81        36\n",
      "   recurrence-events       0.73      0.50      0.59        22\n",
      "\n",
      "            accuracy                           0.74        58\n",
      "           macro avg       0.74      0.69      0.70        58\n",
      "        weighted avg       0.74      0.74      0.73        58\n",
      "\n"
     ]
    }
   ],
   "source": [
    "print(classification_report(RF2_y_teste, RF2_previsoes))"
   ]
  },
  {
   "cell_type": "markdown",
   "metadata": {
    "id": "yEw8PvwjOiu4"
   },
   "source": [
    "### Treinamento com balanceamento de dados usando o método oversampling"
   ]
  },
  {
   "cell_type": "code",
   "execution_count": 68,
   "metadata": {
    "id": "2kATCfZgOxov"
   },
   "outputs": [],
   "source": [
    "# Randomly over sample the minority class\n",
    "balanceamento_over = SMOTE(sampling_strategy = 'auto')\n",
    "X_over, y_over = balanceamento_over.fit_resample(X_treino, y_treino)"
   ]
  },
  {
   "cell_type": "code",
   "execution_count": 69,
   "metadata": {
    "colab": {
     "base_uri": "https://localhost:8080/",
     "height": 0
    },
    "id": "rLvjnGi7Oxow",
    "outputId": "54e0d7d1-f797-4d1e-d7d2-a16f757bdfdd"
   },
   "outputs": [
    {
     "data": {
      "text/plain": [
       "((330, 13), (330,))"
      ]
     },
     "execution_count": 69,
     "metadata": {},
     "output_type": "execute_result"
    }
   ],
   "source": [
    "X_over.shape, y_over.shape"
   ]
  },
  {
   "cell_type": "code",
   "execution_count": 70,
   "metadata": {
    "colab": {
     "base_uri": "https://localhost:8080/",
     "height": 0
    },
    "id": "O2WY6PLROxox",
    "outputId": "0473978c-1938-418c-e88d-f14f79e47ed9"
   },
   "outputs": [
    {
     "data": {
      "text/plain": [
       "(array(['no-recurrence-events', 'recurrence-events'], dtype=object),\n",
       " array([165,  63], dtype=int64))"
      ]
     },
     "execution_count": 70,
     "metadata": {},
     "output_type": "execute_result"
    }
   ],
   "source": [
    "np.unique(y_treino, return_counts=True)"
   ]
  },
  {
   "cell_type": "code",
   "execution_count": 71,
   "metadata": {
    "colab": {
     "base_uri": "https://localhost:8080/",
     "height": 0
    },
    "id": "PJnIUKLwOxox",
    "outputId": "8d975670-1d46-4674-b0d0-b2a0a9839847"
   },
   "outputs": [
    {
     "data": {
      "text/plain": [
       "(array(['no-recurrence-events', 'recurrence-events'], dtype=object),\n",
       " array([165, 165], dtype=int64))"
      ]
     },
     "execution_count": 71,
     "metadata": {},
     "output_type": "execute_result"
    }
   ],
   "source": [
    "np.unique(y_over, return_counts=True)"
   ]
  },
  {
   "cell_type": "markdown",
   "metadata": {
    "id": "gUMbeplGOxox"
   },
   "source": [
    "#### Árvore de Decisão"
   ]
  },
  {
   "cell_type": "code",
   "execution_count": 72,
   "metadata": {
    "colab": {
     "base_uri": "https://localhost:8080/",
     "height": 74
    },
    "id": "Laer_yBvOxoy",
    "outputId": "cab30a44-e8e4-4d54-988f-2799157bd14d"
   },
   "outputs": [
    {
     "data": {
      "text/html": [
       "<style>#sk-container-id-3 {color: black;background-color: white;}#sk-container-id-3 pre{padding: 0;}#sk-container-id-3 div.sk-toggleable {background-color: white;}#sk-container-id-3 label.sk-toggleable__label {cursor: pointer;display: block;width: 100%;margin-bottom: 0;padding: 0.3em;box-sizing: border-box;text-align: center;}#sk-container-id-3 label.sk-toggleable__label-arrow:before {content: \"▸\";float: left;margin-right: 0.25em;color: #696969;}#sk-container-id-3 label.sk-toggleable__label-arrow:hover:before {color: black;}#sk-container-id-3 div.sk-estimator:hover label.sk-toggleable__label-arrow:before {color: black;}#sk-container-id-3 div.sk-toggleable__content {max-height: 0;max-width: 0;overflow: hidden;text-align: left;background-color: #f0f8ff;}#sk-container-id-3 div.sk-toggleable__content pre {margin: 0.2em;color: black;border-radius: 0.25em;background-color: #f0f8ff;}#sk-container-id-3 input.sk-toggleable__control:checked~div.sk-toggleable__content {max-height: 200px;max-width: 100%;overflow: auto;}#sk-container-id-3 input.sk-toggleable__control:checked~label.sk-toggleable__label-arrow:before {content: \"▾\";}#sk-container-id-3 div.sk-estimator input.sk-toggleable__control:checked~label.sk-toggleable__label {background-color: #d4ebff;}#sk-container-id-3 div.sk-label input.sk-toggleable__control:checked~label.sk-toggleable__label {background-color: #d4ebff;}#sk-container-id-3 input.sk-hidden--visually {border: 0;clip: rect(1px 1px 1px 1px);clip: rect(1px, 1px, 1px, 1px);height: 1px;margin: -1px;overflow: hidden;padding: 0;position: absolute;width: 1px;}#sk-container-id-3 div.sk-estimator {font-family: monospace;background-color: #f0f8ff;border: 1px dotted black;border-radius: 0.25em;box-sizing: border-box;margin-bottom: 0.5em;}#sk-container-id-3 div.sk-estimator:hover {background-color: #d4ebff;}#sk-container-id-3 div.sk-parallel-item::after {content: \"\";width: 100%;border-bottom: 1px solid gray;flex-grow: 1;}#sk-container-id-3 div.sk-label:hover label.sk-toggleable__label {background-color: #d4ebff;}#sk-container-id-3 div.sk-serial::before {content: \"\";position: absolute;border-left: 1px solid gray;box-sizing: border-box;top: 0;bottom: 0;left: 50%;z-index: 0;}#sk-container-id-3 div.sk-serial {display: flex;flex-direction: column;align-items: center;background-color: white;padding-right: 0.2em;padding-left: 0.2em;position: relative;}#sk-container-id-3 div.sk-item {position: relative;z-index: 1;}#sk-container-id-3 div.sk-parallel {display: flex;align-items: stretch;justify-content: center;background-color: white;position: relative;}#sk-container-id-3 div.sk-item::before, #sk-container-id-3 div.sk-parallel-item::before {content: \"\";position: absolute;border-left: 1px solid gray;box-sizing: border-box;top: 0;bottom: 0;left: 50%;z-index: -1;}#sk-container-id-3 div.sk-parallel-item {display: flex;flex-direction: column;z-index: 1;position: relative;background-color: white;}#sk-container-id-3 div.sk-parallel-item:first-child::after {align-self: flex-end;width: 50%;}#sk-container-id-3 div.sk-parallel-item:last-child::after {align-self: flex-start;width: 50%;}#sk-container-id-3 div.sk-parallel-item:only-child::after {width: 0;}#sk-container-id-3 div.sk-dashed-wrapped {border: 1px dashed gray;margin: 0 0.4em 0.5em 0.4em;box-sizing: border-box;padding-bottom: 0.4em;background-color: white;}#sk-container-id-3 div.sk-label label {font-family: monospace;font-weight: bold;display: inline-block;line-height: 1.2em;}#sk-container-id-3 div.sk-label-container {text-align: center;}#sk-container-id-3 div.sk-container {/* jupyter's `normalize.less` sets `[hidden] { display: none; }` but bootstrap.min.css set `[hidden] { display: none !important; }` so we also need the `!important` here to be able to override the default hidden behavior on the sphinx rendered scikit-learn.org. See: https://github.com/scikit-learn/scikit-learn/issues/21755 */display: inline-block !important;position: relative;}#sk-container-id-3 div.sk-text-repr-fallback {display: none;}</style><div id=\"sk-container-id-3\" class=\"sk-top-container\"><div class=\"sk-text-repr-fallback\"><pre>DecisionTreeClassifier()</pre><b>In a Jupyter environment, please rerun this cell to show the HTML representation or trust the notebook. <br />On GitHub, the HTML representation is unable to render, please try loading this page with nbviewer.org.</b></div><div class=\"sk-container\" hidden><div class=\"sk-item\"><div class=\"sk-estimator sk-toggleable\"><input class=\"sk-toggleable__control sk-hidden--visually\" id=\"sk-estimator-id-3\" type=\"checkbox\" checked><label for=\"sk-estimator-id-3\" class=\"sk-toggleable__label sk-toggleable__label-arrow\">DecisionTreeClassifier</label><div class=\"sk-toggleable__content\"><pre>DecisionTreeClassifier()</pre></div></div></div></div></div>"
      ],
      "text/plain": [
       "DecisionTreeClassifier()"
      ]
     },
     "execution_count": 72,
     "metadata": {},
     "output_type": "execute_result"
    }
   ],
   "source": [
    "AD3_X_over = X_over\n",
    "AD3_y_over = y_over\n",
    "\n",
    "AD3_X_teste = X_teste\n",
    "AD3_y_teste = y_teste\n",
    "\n",
    "AD3_modelo = DecisionTreeClassifier(criterion = 'gini')\n",
    "AD3_modelo.fit(AD3_X_over, AD3_y_over)"
   ]
  },
  {
   "cell_type": "code",
   "execution_count": 73,
   "metadata": {
    "id": "kJpIPdANOxoy"
   },
   "outputs": [],
   "source": [
    "AD3_previsoes = AD3_modelo.predict(AD3_X_teste)"
   ]
  },
  {
   "cell_type": "code",
   "execution_count": 74,
   "metadata": {
    "colab": {
     "base_uri": "https://localhost:8080/",
     "height": 0
    },
    "id": "iVh9gIyGOxoz",
    "outputId": "b36a5a73-10f3-45d5-c926-4b0e9f98b3d3"
   },
   "outputs": [
    {
     "data": {
      "text/plain": [
       "0.6206896551724138"
      ]
     },
     "execution_count": 74,
     "metadata": {},
     "output_type": "execute_result"
    }
   ],
   "source": [
    "accuracy_score(AD3_y_teste, AD3_previsoes)"
   ]
  },
  {
   "cell_type": "code",
   "execution_count": 75,
   "metadata": {
    "colab": {
     "base_uri": "https://localhost:8080/",
     "height": 0
    },
    "id": "ebS8K4ZhOxoz",
    "outputId": "57d6c776-d491-4da5-8479-e4312efae30c"
   },
   "outputs": [
    {
     "data": {
      "text/plain": [
       "array([[25, 11],\n",
       "       [11, 11]], dtype=int64)"
      ]
     },
     "execution_count": 75,
     "metadata": {},
     "output_type": "execute_result"
    }
   ],
   "source": [
    "confusion_matrix(AD3_y_teste, AD3_previsoes)"
   ]
  },
  {
   "cell_type": "code",
   "execution_count": 76,
   "metadata": {
    "colab": {
     "base_uri": "https://localhost:8080/",
     "height": 468
    },
    "id": "DQxxppMHOxoz",
    "outputId": "926b9cc4-7de9-417f-c6fb-7e32c22bf556"
   },
   "outputs": [
    {
     "data": {
      "text/plain": [
       "0.6206896551724138"
      ]
     },
     "execution_count": 76,
     "metadata": {},
     "output_type": "execute_result"
    },
    {
     "data": {
      "image/png": "[encoded data removed]",
      "text/plain": [
       "<Figure size 800x550 with 1 Axes>"
      ]
     },
     "metadata": {},
     "output_type": "display_data"
    }
   ],
   "source": [
    "AD3_cm = ConfusionMatrix(AD3_modelo)\n",
    "AD3_cm.fit(AD3_X_over, AD3_y_over)\n",
    "AD3_cm.score(AD3_X_teste, AD3_y_teste)"
   ]
  },
  {
   "cell_type": "code",
   "execution_count": 77,
   "metadata": {
    "colab": {
     "base_uri": "https://localhost:8080/",
     "height": 0
    },
    "id": "S3JhWbsuOxo0",
    "outputId": "8ca02cde-ec4f-4118-bc3e-9691742eb20b"
   },
   "outputs": [
    {
     "name": "stdout",
     "output_type": "stream",
     "text": [
      "                      precision    recall  f1-score   support\n",
      "\n",
      "no-recurrence-events       0.69      0.69      0.69        36\n",
      "   recurrence-events       0.50      0.50      0.50        22\n",
      "\n",
      "            accuracy                           0.62        58\n",
      "           macro avg       0.60      0.60      0.60        58\n",
      "        weighted avg       0.62      0.62      0.62        58\n",
      "\n"
     ]
    }
   ],
   "source": [
    "print(classification_report(AD3_y_teste, AD3_previsoes))"
   ]
  },
  {
   "cell_type": "code",
   "execution_count": 78,
   "metadata": {
    "colab": {
     "base_uri": "https://localhost:8080/",
     "height": 575
    },
    "id": "GAhXTz-zOxo0",
    "outputId": "b1b9b2a5-7f0d-4b1a-86a4-665714c71ea9"
   },
   "outputs": [
    {
     "data": {
      "image/png": "[encoded data removed]",
      "text/plain": [
       "<Figure size 1000x1000 with 1 Axes>"
      ]
     },
     "metadata": {},
     "output_type": "display_data"
    }
   ],
   "source": [
    "AD3_previsores = ['breastquadleftup', 'breastquadcentral', 'breastquadhleftlow', 'breastquadhrightup', 'breastquadhrightdown', 'age', 'menopause', 'tumorsize', 'invnodes', 'nodecaps', 'degmalig', 'breast', 'irradiat']\n",
    "\n",
    "figura, eixos = plt.subplots(nrows=1, ncols=1, figsize=(10,10))\n",
    "\n",
    "tree.plot_tree(AD2_modelo, feature_names=AD3_previsores, class_names = AD3_modelo.classes_, filled=True);"
   ]
  },
  {
   "cell_type": "markdown",
   "metadata": {
    "id": "t4zM9HfKOxo0"
   },
   "source": [
    "#### Naive Bayes"
   ]
  },
  {
   "cell_type": "code",
   "execution_count": 79,
   "metadata": {
    "id": "Bku0x-gHOxo0"
   },
   "outputs": [],
   "source": [
    "NB3_X_over = X_over\n",
    "NB3_y_over = y_over\n",
    "\n",
    "NB3_X_teste = X_teste\n",
    "NB3_y_teste = y_teste\n",
    "\n",
    "NB3_modelo = GaussianNB()\n",
    "NB3_modelo.fit(NB3_X_over, NB3_y_over)\n",
    "\n",
    "NB3_previsoes = NB3_modelo.predict(NB3_X_teste)"
   ]
  },
  {
   "cell_type": "code",
   "execution_count": 80,
   "metadata": {
    "colab": {
     "base_uri": "https://localhost:8080/",
     "height": 0
    },
    "id": "QzYYWhF-Oxo0",
    "outputId": "3e8a00aa-f79e-431e-ad49-a4daa84aabdf"
   },
   "outputs": [
    {
     "data": {
      "text/plain": [
       "0.6724137931034483"
      ]
     },
     "execution_count": 80,
     "metadata": {},
     "output_type": "execute_result"
    }
   ],
   "source": [
    "accuracy_score(NB3_y_teste,NB3_previsoes)"
   ]
  },
  {
   "cell_type": "code",
   "execution_count": 81,
   "metadata": {
    "colab": {
     "base_uri": "https://localhost:8080/",
     "height": 0
    },
    "id": "_FU-oqIFOxo1",
    "outputId": "feababbf-7741-4991-92a1-44ee9bfd3edb"
   },
   "outputs": [
    {
     "data": {
      "text/plain": [
       "array([[25, 11],\n",
       "       [ 8, 14]], dtype=int64)"
      ]
     },
     "execution_count": 81,
     "metadata": {},
     "output_type": "execute_result"
    }
   ],
   "source": [
    "confusion_matrix(NB3_y_teste, NB3_previsoes)"
   ]
  },
  {
   "cell_type": "code",
   "execution_count": 82,
   "metadata": {
    "colab": {
     "base_uri": "https://localhost:8080/",
     "height": 468
    },
    "id": "z5G068nDOxo1",
    "outputId": "d27c6ed6-1765-4f60-8592-d3c9b0fabd22"
   },
   "outputs": [
    {
     "data": {
      "text/plain": [
       "0.6724137931034483"
      ]
     },
     "execution_count": 82,
     "metadata": {},
     "output_type": "execute_result"
    },
    {
     "data": {
      "image/png": "[encoded data removed]",
      "text/plain": [
       "<Figure size 800x550 with 1 Axes>"
      ]
     },
     "metadata": {},
     "output_type": "display_data"
    }
   ],
   "source": [
    "NB3_cm = ConfusionMatrix(NB3_modelo)\n",
    "NB3_cm.fit(NB3_X_over, NB3_y_over)\n",
    "NB3_cm.score(NB3_X_teste, NB3_y_teste)"
   ]
  },
  {
   "cell_type": "code",
   "execution_count": 83,
   "metadata": {
    "colab": {
     "base_uri": "https://localhost:8080/",
     "height": 0
    },
    "id": "1vz2YLXFOxo1",
    "outputId": "9ee38001-ebe7-4834-ffeb-bb59a61bac13"
   },
   "outputs": [
    {
     "name": "stdout",
     "output_type": "stream",
     "text": [
      "                      precision    recall  f1-score   support\n",
      "\n",
      "no-recurrence-events       0.76      0.69      0.72        36\n",
      "   recurrence-events       0.56      0.64      0.60        22\n",
      "\n",
      "            accuracy                           0.67        58\n",
      "           macro avg       0.66      0.67      0.66        58\n",
      "        weighted avg       0.68      0.67      0.68        58\n",
      "\n"
     ]
    }
   ],
   "source": [
    "print(classification_report(NB3_y_teste, NB3_previsoes))"
   ]
  },
  {
   "cell_type": "markdown",
   "metadata": {
    "id": "wuVNx1FJOxo1"
   },
   "source": [
    "#### Random Forest"
   ]
  },
  {
   "cell_type": "code",
   "execution_count": 84,
   "metadata": {
    "id": "VvtEZbFiOxo1"
   },
   "outputs": [],
   "source": [
    "RF3_X_over = X_over\n",
    "RF3_y_over = y_over\n",
    "\n",
    "RF3_X_teste = X_teste\n",
    "RF3_y_teste = y_teste\n",
    "\n",
    "RF3_modelo = RandomForestClassifier(n_estimators=100, max_features=6, criterion='gini', random_state = 0)\n",
    "RF3_modelo.fit(RF3_X_over, RF3_y_over)\n",
    "\n",
    "RF3_previsoes = RF3_modelo.predict(RF3_X_teste)"
   ]
  },
  {
   "cell_type": "code",
   "execution_count": 85,
   "metadata": {
    "colab": {
     "base_uri": "https://localhost:8080/",
     "height": 0
    },
    "id": "uIPsj2StOxo1",
    "outputId": "804d5638-0019-461a-c05e-54ed52959f26"
   },
   "outputs": [
    {
     "data": {
      "text/plain": [
       "0.7241379310344828"
      ]
     },
     "execution_count": 85,
     "metadata": {},
     "output_type": "execute_result"
    }
   ],
   "source": [
    "accuracy_score(RF3_y_teste, RF3_previsoes)"
   ]
  },
  {
   "cell_type": "code",
   "execution_count": 86,
   "metadata": {
    "colab": {
     "base_uri": "https://localhost:8080/",
     "height": 0
    },
    "id": "XUKGmlwcOxo1",
    "outputId": "6d333ca1-eda3-4347-cf58-6d9421c2914a"
   },
   "outputs": [
    {
     "data": {
      "text/plain": [
       "array([[32,  4],\n",
       "       [11, 11]], dtype=int64)"
      ]
     },
     "execution_count": 86,
     "metadata": {},
     "output_type": "execute_result"
    }
   ],
   "source": [
    "confusion_matrix(RF2_y_teste, RF2_previsoes)"
   ]
  },
  {
   "cell_type": "code",
   "execution_count": 87,
   "metadata": {
    "colab": {
     "base_uri": "https://localhost:8080/",
     "height": 468
    },
    "id": "iQj_O4RyOxo1",
    "outputId": "3a10904b-78af-40c0-c5c2-022fc74c5161"
   },
   "outputs": [
    {
     "data": {
      "text/plain": [
       "0.7241379310344828"
      ]
     },
     "execution_count": 87,
     "metadata": {},
     "output_type": "execute_result"
    },
    {
     "data": {
      "image/png": "[encoded data removed]",
      "text/plain": [
       "<Figure size 800x550 with 1 Axes>"
      ]
     },
     "metadata": {},
     "output_type": "display_data"
    }
   ],
   "source": [
    "RF3_cm = ConfusionMatrix(RF3_modelo)\n",
    "RF3_cm.fit(RF3_X_over, RF3_y_over)\n",
    "RF3_cm.score(RF3_X_teste, RF3_y_teste)"
   ]
  },
  {
   "cell_type": "code",
   "execution_count": 88,
   "metadata": {
    "colab": {
     "base_uri": "https://localhost:8080/",
     "height": 0
    },
    "id": "4uvVf3F8Oxo2",
    "outputId": "c5fd5597-350c-4924-ae5e-fc25ad9a1b46"
   },
   "outputs": [
    {
     "name": "stdout",
     "output_type": "stream",
     "text": [
      "                      precision    recall  f1-score   support\n",
      "\n",
      "no-recurrence-events       0.72      0.92      0.80        36\n",
      "   recurrence-events       0.75      0.41      0.53        22\n",
      "\n",
      "            accuracy                           0.72        58\n",
      "           macro avg       0.73      0.66      0.67        58\n",
      "        weighted avg       0.73      0.72      0.70        58\n",
      "\n"
     ]
    }
   ],
   "source": [
    "print(classification_report(RF3_y_teste, RF3_previsoes))"
   ]
  },
  {
   "cell_type": "code",
   "execution_count": null,
   "metadata": {},
   "outputs": [],
   "source": []
  }
 ],
 "metadata": {
  "colab": {
   "provenance": []
  },
  "kernelspec": {
   "display_name": "Python 3 (ipykernel)",
   "language": "python",
   "name": "python3"
  },
  "language_info": {
   "codemirror_mode": {
    "name": "ipython",
    "version": 3
   },
   "file_extension": ".py",
   "mimetype": "text/x-python",
   "name": "python",
   "nbconvert_exporter": "python",
   "pygments_lexer": "ipython3",
   "version": "3.9.16"
  }
 },
 "nbformat": 4,
 "nbformat_minor": 1
}
