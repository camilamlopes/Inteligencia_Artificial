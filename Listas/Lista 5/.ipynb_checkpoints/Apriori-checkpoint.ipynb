{
 "cells": [
  {
   "cell_type": "markdown",
   "metadata": {
    "id": "qm5lmIq9Xe-a"
   },
   "source": [
    "# **Regras de associação**\n",
    "\n",
    "### **Algoritmo Apriori**"
   ]
  },
  {
   "cell_type": "markdown",
   "metadata": {},
   "source": [
    "## Importação das bibliotecas principais"
   ]
  },
  {
   "cell_type": "code",
   "execution_count": 1,
   "metadata": {
    "id": "m3d_ivF4Bcn5"
   },
   "outputs": [],
   "source": [
    "import numpy as np\n",
    "import pandas as pd\n",
    "import matplotlib.pyplot as plt"
   ]
  },
  {
   "cell_type": "markdown",
   "metadata": {},
   "source": [
    "## Importação do Dataset"
   ]
  },
  {
   "cell_type": "code",
   "execution_count": 2,
   "metadata": {},
   "outputs": [
    {
     "name": "stderr",
     "output_type": "stream",
     "text": [
      "C:\\Users\\camil\\AppData\\Local\\Temp\\ipykernel_9972\\1529932362.py:1: FutureWarning: In a future version of pandas all arguments of read_csv except for the argument 'filepath_or_buffer' will be keyword-only.\n",
      "  base = pd.read_csv('Compras.csv', ';', encoding='cp1252')\n"
     ]
    },
    {
     "data": {
      "text/html": [
       "<div>\n",
       "<style scoped>\n",
       "    .dataframe tbody tr th:only-of-type {\n",
       "        vertical-align: middle;\n",
       "    }\n",
       "\n",
       "    .dataframe tbody tr th {\n",
       "        vertical-align: top;\n",
       "    }\n",
       "\n",
       "    .dataframe thead th {\n",
       "        text-align: right;\n",
       "    }\n",
       "</style>\n",
       "<table border=\"1\" class=\"dataframe\">\n",
       "  <thead>\n",
       "    <tr style=\"text-align: right;\">\n",
       "      <th></th>\n",
       "      <th>Leite</th>\n",
       "      <th>Café</th>\n",
       "      <th>Cerveja</th>\n",
       "      <th>Pão</th>\n",
       "      <th>Manteiga</th>\n",
       "      <th>Arroz</th>\n",
       "      <th>Feijão</th>\n",
       "    </tr>\n",
       "  </thead>\n",
       "  <tbody>\n",
       "    <tr>\n",
       "      <th>0</th>\n",
       "      <td>Não</td>\n",
       "      <td>Sim</td>\n",
       "      <td>Não</td>\n",
       "      <td>Sim</td>\n",
       "      <td>Sim</td>\n",
       "      <td>Não</td>\n",
       "      <td>Não</td>\n",
       "    </tr>\n",
       "    <tr>\n",
       "      <th>1</th>\n",
       "      <td>Sim</td>\n",
       "      <td>Não</td>\n",
       "      <td>Sim</td>\n",
       "      <td>Sim</td>\n",
       "      <td>Sim</td>\n",
       "      <td>Não</td>\n",
       "      <td>Não</td>\n",
       "    </tr>\n",
       "    <tr>\n",
       "      <th>2</th>\n",
       "      <td>Não</td>\n",
       "      <td>Sim</td>\n",
       "      <td>Não</td>\n",
       "      <td>Sim</td>\n",
       "      <td>Sim</td>\n",
       "      <td>Não</td>\n",
       "      <td>Não</td>\n",
       "    </tr>\n",
       "    <tr>\n",
       "      <th>3</th>\n",
       "      <td>Sim</td>\n",
       "      <td>Sim</td>\n",
       "      <td>Não</td>\n",
       "      <td>Sim</td>\n",
       "      <td>Sim</td>\n",
       "      <td>Não</td>\n",
       "      <td>Não</td>\n",
       "    </tr>\n",
       "    <tr>\n",
       "      <th>4</th>\n",
       "      <td>Não</td>\n",
       "      <td>Não</td>\n",
       "      <td>Sim</td>\n",
       "      <td>Não</td>\n",
       "      <td>Não</td>\n",
       "      <td>Não</td>\n",
       "      <td>Não</td>\n",
       "    </tr>\n",
       "    <tr>\n",
       "      <th>5</th>\n",
       "      <td>Não</td>\n",
       "      <td>Não</td>\n",
       "      <td>Não</td>\n",
       "      <td>Não</td>\n",
       "      <td>Sim</td>\n",
       "      <td>Não</td>\n",
       "      <td>Não</td>\n",
       "    </tr>\n",
       "    <tr>\n",
       "      <th>6</th>\n",
       "      <td>Não</td>\n",
       "      <td>Não</td>\n",
       "      <td>Não</td>\n",
       "      <td>Sim</td>\n",
       "      <td>Não</td>\n",
       "      <td>Não</td>\n",
       "      <td>Não</td>\n",
       "    </tr>\n",
       "    <tr>\n",
       "      <th>7</th>\n",
       "      <td>Não</td>\n",
       "      <td>Não</td>\n",
       "      <td>Não</td>\n",
       "      <td>Não</td>\n",
       "      <td>Não</td>\n",
       "      <td>Não</td>\n",
       "      <td>Sim</td>\n",
       "    </tr>\n",
       "    <tr>\n",
       "      <th>8</th>\n",
       "      <td>Não</td>\n",
       "      <td>Não</td>\n",
       "      <td>Não</td>\n",
       "      <td>Não</td>\n",
       "      <td>Não</td>\n",
       "      <td>Sim</td>\n",
       "      <td>Sim</td>\n",
       "    </tr>\n",
       "    <tr>\n",
       "      <th>9</th>\n",
       "      <td>Não</td>\n",
       "      <td>Não</td>\n",
       "      <td>Não</td>\n",
       "      <td>Não</td>\n",
       "      <td>Não</td>\n",
       "      <td>Sim</td>\n",
       "      <td>Não</td>\n",
       "    </tr>\n",
       "  </tbody>\n",
       "</table>\n",
       "</div>"
      ],
      "text/plain": [
       "  Leite Café Cerveja  Pão Manteiga Arroz Feijão\n",
       "0   Não  Sim     Não  Sim      Sim   Não    Não\n",
       "1   Sim  Não     Sim  Sim      Sim   Não    Não\n",
       "2   Não  Sim     Não  Sim      Sim   Não    Não\n",
       "3   Sim  Sim     Não  Sim      Sim   Não    Não\n",
       "4   Não  Não     Sim  Não      Não   Não    Não\n",
       "5   Não  Não     Não  Não      Sim   Não    Não\n",
       "6   Não  Não     Não  Sim      Não   Não    Não\n",
       "7   Não  Não     Não  Não      Não   Não    Sim\n",
       "8   Não  Não     Não  Não      Não   Sim    Sim\n",
       "9   Não  Não     Não  Não      Não   Sim    Não"
      ]
     },
     "execution_count": 2,
     "metadata": {},
     "output_type": "execute_result"
    }
   ],
   "source": [
    "base = pd.read_csv('Compras.csv', ';', encoding='cp1252')\n",
    "base"
   ]
  },
  {
   "cell_type": "markdown",
   "metadata": {},
   "source": [
    "# Quando há presença do produto"
   ]
  },
  {
   "cell_type": "markdown",
   "metadata": {},
   "source": [
    "## Preparando o dataset"
   ]
  },
  {
   "cell_type": "code",
   "execution_count": 3,
   "metadata": {},
   "outputs": [
    {
     "data": {
      "text/html": [
       "<div>\n",
       "<style scoped>\n",
       "    .dataframe tbody tr th:only-of-type {\n",
       "        vertical-align: middle;\n",
       "    }\n",
       "\n",
       "    .dataframe tbody tr th {\n",
       "        vertical-align: top;\n",
       "    }\n",
       "\n",
       "    .dataframe thead th {\n",
       "        text-align: right;\n",
       "    }\n",
       "</style>\n",
       "<table border=\"1\" class=\"dataframe\">\n",
       "  <thead>\n",
       "    <tr style=\"text-align: right;\">\n",
       "      <th></th>\n",
       "      <th>0</th>\n",
       "      <th>1</th>\n",
       "      <th>2</th>\n",
       "      <th>3</th>\n",
       "      <th>4</th>\n",
       "      <th>5</th>\n",
       "      <th>6</th>\n",
       "    </tr>\n",
       "  </thead>\n",
       "  <tbody>\n",
       "    <tr>\n",
       "      <th>0</th>\n",
       "      <td>NaN</td>\n",
       "      <td>Café</td>\n",
       "      <td>NaN</td>\n",
       "      <td>Pão</td>\n",
       "      <td>Manteiga</td>\n",
       "      <td>NaN</td>\n",
       "      <td>NaN</td>\n",
       "    </tr>\n",
       "    <tr>\n",
       "      <th>1</th>\n",
       "      <td>Leite</td>\n",
       "      <td>NaN</td>\n",
       "      <td>Cerveja</td>\n",
       "      <td>Pão</td>\n",
       "      <td>Manteiga</td>\n",
       "      <td>NaN</td>\n",
       "      <td>NaN</td>\n",
       "    </tr>\n",
       "    <tr>\n",
       "      <th>2</th>\n",
       "      <td>NaN</td>\n",
       "      <td>Café</td>\n",
       "      <td>NaN</td>\n",
       "      <td>Pão</td>\n",
       "      <td>Manteiga</td>\n",
       "      <td>NaN</td>\n",
       "      <td>NaN</td>\n",
       "    </tr>\n",
       "    <tr>\n",
       "      <th>3</th>\n",
       "      <td>Leite</td>\n",
       "      <td>Café</td>\n",
       "      <td>NaN</td>\n",
       "      <td>Pão</td>\n",
       "      <td>Manteiga</td>\n",
       "      <td>NaN</td>\n",
       "      <td>NaN</td>\n",
       "    </tr>\n",
       "    <tr>\n",
       "      <th>4</th>\n",
       "      <td>NaN</td>\n",
       "      <td>NaN</td>\n",
       "      <td>Cerveja</td>\n",
       "      <td>NaN</td>\n",
       "      <td>NaN</td>\n",
       "      <td>NaN</td>\n",
       "      <td>NaN</td>\n",
       "    </tr>\n",
       "    <tr>\n",
       "      <th>5</th>\n",
       "      <td>NaN</td>\n",
       "      <td>NaN</td>\n",
       "      <td>NaN</td>\n",
       "      <td>NaN</td>\n",
       "      <td>Manteiga</td>\n",
       "      <td>NaN</td>\n",
       "      <td>NaN</td>\n",
       "    </tr>\n",
       "    <tr>\n",
       "      <th>6</th>\n",
       "      <td>NaN</td>\n",
       "      <td>NaN</td>\n",
       "      <td>NaN</td>\n",
       "      <td>Pão</td>\n",
       "      <td>NaN</td>\n",
       "      <td>NaN</td>\n",
       "      <td>NaN</td>\n",
       "    </tr>\n",
       "    <tr>\n",
       "      <th>7</th>\n",
       "      <td>NaN</td>\n",
       "      <td>NaN</td>\n",
       "      <td>NaN</td>\n",
       "      <td>NaN</td>\n",
       "      <td>NaN</td>\n",
       "      <td>NaN</td>\n",
       "      <td>Feijão</td>\n",
       "    </tr>\n",
       "    <tr>\n",
       "      <th>8</th>\n",
       "      <td>NaN</td>\n",
       "      <td>NaN</td>\n",
       "      <td>NaN</td>\n",
       "      <td>NaN</td>\n",
       "      <td>NaN</td>\n",
       "      <td>Arroz</td>\n",
       "      <td>Feijão</td>\n",
       "    </tr>\n",
       "    <tr>\n",
       "      <th>9</th>\n",
       "      <td>NaN</td>\n",
       "      <td>NaN</td>\n",
       "      <td>NaN</td>\n",
       "      <td>NaN</td>\n",
       "      <td>NaN</td>\n",
       "      <td>Arroz</td>\n",
       "      <td>NaN</td>\n",
       "    </tr>\n",
       "  </tbody>\n",
       "</table>\n",
       "</div>"
      ],
      "text/plain": [
       "       0     1        2    3         4      5       6\n",
       "0    NaN  Café      NaN  Pão  Manteiga    NaN     NaN\n",
       "1  Leite   NaN  Cerveja  Pão  Manteiga    NaN     NaN\n",
       "2    NaN  Café      NaN  Pão  Manteiga    NaN     NaN\n",
       "3  Leite  Café      NaN  Pão  Manteiga    NaN     NaN\n",
       "4    NaN   NaN  Cerveja  NaN       NaN    NaN     NaN\n",
       "5    NaN   NaN      NaN  NaN  Manteiga    NaN     NaN\n",
       "6    NaN   NaN      NaN  Pão       NaN    NaN     NaN\n",
       "7    NaN   NaN      NaN  NaN       NaN    NaN  Feijão\n",
       "8    NaN   NaN      NaN  NaN       NaN  Arroz  Feijão\n",
       "9    NaN   NaN      NaN  NaN       NaN  Arroz     NaN"
      ]
     },
     "execution_count": 3,
     "metadata": {},
     "output_type": "execute_result"
    }
   ],
   "source": [
    "dy = base.copy()\n",
    "\n",
    "for col in dy.columns:\n",
    "    dy[col].replace(\"Sim\", col, inplace = True)\n",
    "    dy[col].replace(\"Não\", np.nan, inplace = True)\n",
    "    \n",
    "dy.columns = np.arange(len(dy.columns))\n",
    "dy"
   ]
  },
  {
   "cell_type": "markdown",
   "metadata": {},
   "source": [
    "## Dimensões do dataset"
   ]
  },
  {
   "cell_type": "code",
   "execution_count": 4,
   "metadata": {
    "colab": {
     "base_uri": "https://localhost:8080/"
    },
    "id": "oIBsczbGCxWf",
    "outputId": "73984404-3585-4e7c-8d5e-e77c36f87e81"
   },
   "outputs": [
    {
     "data": {
      "text/plain": [
       "(10, 7)"
      ]
     },
     "execution_count": 4,
     "metadata": {},
     "output_type": "execute_result"
    }
   ],
   "source": [
    "dy.shape"
   ]
  },
  {
   "cell_type": "markdown",
   "metadata": {},
   "source": [
    "## Transformando o dataset em uma lista"
   ]
  },
  {
   "cell_type": "code",
   "execution_count": 5,
   "metadata": {
    "id": "ZF8i0EdWCMjY"
   },
   "outputs": [],
   "source": [
    "# Iniciando a lista\n",
    "transacoes_dy = []\n",
    "\n",
    "# inserindo na lista de transações\n",
    "for i in range(len(dy)):\n",
    "    transacoes_dy.append([str(dy.values[i, j]) for j in range(dy.shape[1])])"
   ]
  },
  {
   "cell_type": "code",
   "execution_count": 6,
   "metadata": {
    "colab": {
     "base_uri": "https://localhost:8080/"
    },
    "id": "XH2CNc6VC3e3",
    "outputId": "04ebd6fd-6d5c-4232-ca87-866c512fcff8"
   },
   "outputs": [
    {
     "data": {
      "text/plain": [
       "[['nan', 'Café', 'nan', 'Pão', 'Manteiga', 'nan', 'nan'],\n",
       " ['Leite', 'nan', 'Cerveja', 'Pão', 'Manteiga', 'nan', 'nan'],\n",
       " ['nan', 'Café', 'nan', 'Pão', 'Manteiga', 'nan', 'nan'],\n",
       " ['Leite', 'Café', 'nan', 'Pão', 'Manteiga', 'nan', 'nan'],\n",
       " ['nan', 'nan', 'Cerveja', 'nan', 'nan', 'nan', 'nan'],\n",
       " ['nan', 'nan', 'nan', 'nan', 'Manteiga', 'nan', 'nan'],\n",
       " ['nan', 'nan', 'nan', 'Pão', 'nan', 'nan', 'nan'],\n",
       " ['nan', 'nan', 'nan', 'nan', 'nan', 'nan', 'Feijão'],\n",
       " ['nan', 'nan', 'nan', 'nan', 'nan', 'Arroz', 'Feijão'],\n",
       " ['nan', 'nan', 'nan', 'nan', 'nan', 'Arroz', 'nan']]"
      ]
     },
     "execution_count": 6,
     "metadata": {},
     "output_type": "execute_result"
    }
   ],
   "source": [
    "# visualizando a lista\n",
    "transacoes_dy"
   ]
  },
  {
   "cell_type": "code",
   "execution_count": 7,
   "metadata": {
    "colab": {
     "base_uri": "https://localhost:8080/"
    },
    "id": "jF4Ec_ryDNfw",
    "outputId": "5dc3e8ca-9554-4dd2-b894-7998cb831b1e"
   },
   "outputs": [
    {
     "data": {
      "text/plain": [
       "list"
      ]
     },
     "execution_count": 7,
     "metadata": {},
     "output_type": "execute_result"
    }
   ],
   "source": [
    "# confirmando a estrutura da variavél\n",
    "type(transacoes_dy)"
   ]
  },
  {
   "cell_type": "markdown",
   "metadata": {},
   "source": [
    "## Treinando o modelo apriori"
   ]
  },
  {
   "cell_type": "code",
   "execution_count": 8,
   "metadata": {},
   "outputs": [],
   "source": [
    "# chamando a biblioteca a ser usada\n",
    "from apyori import apriori"
   ]
  },
  {
   "cell_type": "code",
   "execution_count": 9,
   "metadata": {
    "colab": {
     "base_uri": "https://localhost:8080/"
    },
    "id": "DuX5YuabzqfQ",
    "outputId": "02c6a77b-140d-4d4c-c5ea-166abbcd7c8b"
   },
   "outputs": [
    {
     "data": {
      "text/plain": [
       "12"
      ]
     },
     "execution_count": 9,
     "metadata": {},
     "output_type": "execute_result"
    }
   ],
   "source": [
    "# treinamento do apriori\n",
    "regras_dy = apriori(transacoes_dy, min_support = 0.3, min_confidence = 0.8)\n",
    "\n",
    "# retornando uma saida não tabular\n",
    "saida_dy = list(regras_dy)\n",
    "\n",
    "# imprimindo o tamanho final\n",
    "len(saida_dy)"
   ]
  },
  {
   "cell_type": "markdown",
   "metadata": {},
   "source": [
    "## Visualizando o dataframe"
   ]
  },
  {
   "cell_type": "code",
   "execution_count": 10,
   "metadata": {
    "id": "UWDno2uo4aL0"
   },
   "outputs": [],
   "source": [
    "ant = []\n",
    "con = []\n",
    "sup = []\n",
    "cf = []\n",
    "lt = []\n",
    "\n",
    "for result in saida_dy:\n",
    "    s = result[1]\n",
    "    result_rules = result[2]\n",
    "    \n",
    "    for result_rule in result_rules:\n",
    "        a = list(result_rule[0])\n",
    "        b = list(result_rule[1])\n",
    "        c = result_rule[2]\n",
    "        l = result_rule[3]\n",
    "        \n",
    "        if 'nan' in a or 'nan' in b: continue\n",
    "        if len(a) == 0 or len(b) == 0: continue\n",
    "            \n",
    "        ant.append(a)\n",
    "        con.append(b)\n",
    "        sup.append(s)\n",
    "        cf.append(c)\n",
    "        lt.append(l)\n",
    "        \n",
    "RegrasFinais_dy = pd.DataFrame({'Antecedente': ant, 'Consequente': con, 'Suporte': sup, 'Confianca': cf, 'Lift': lt})"
   ]
  },
  {
   "cell_type": "code",
   "execution_count": 11,
   "metadata": {},
   "outputs": [
    {
     "data": {
      "text/html": [
       "<div>\n",
       "<style scoped>\n",
       "    .dataframe tbody tr th:only-of-type {\n",
       "        vertical-align: middle;\n",
       "    }\n",
       "\n",
       "    .dataframe tbody tr th {\n",
       "        vertical-align: top;\n",
       "    }\n",
       "\n",
       "    .dataframe thead th {\n",
       "        text-align: right;\n",
       "    }\n",
       "</style>\n",
       "<table border=\"1\" class=\"dataframe\">\n",
       "  <thead>\n",
       "    <tr style=\"text-align: right;\">\n",
       "      <th></th>\n",
       "      <th>Antecedente</th>\n",
       "      <th>Consequente</th>\n",
       "      <th>Suporte</th>\n",
       "      <th>Confianca</th>\n",
       "      <th>Lift</th>\n",
       "    </tr>\n",
       "  </thead>\n",
       "  <tbody>\n",
       "    <tr>\n",
       "      <th>0</th>\n",
       "      <td>[Café]</td>\n",
       "      <td>[Manteiga]</td>\n",
       "      <td>0.3</td>\n",
       "      <td>1.0</td>\n",
       "      <td>2.0</td>\n",
       "    </tr>\n",
       "    <tr>\n",
       "      <th>1</th>\n",
       "      <td>[Café]</td>\n",
       "      <td>[Pão]</td>\n",
       "      <td>0.3</td>\n",
       "      <td>1.0</td>\n",
       "      <td>2.0</td>\n",
       "    </tr>\n",
       "    <tr>\n",
       "      <th>2</th>\n",
       "      <td>[Manteiga]</td>\n",
       "      <td>[Pão]</td>\n",
       "      <td>0.4</td>\n",
       "      <td>0.8</td>\n",
       "      <td>1.6</td>\n",
       "    </tr>\n",
       "    <tr>\n",
       "      <th>3</th>\n",
       "      <td>[Pão]</td>\n",
       "      <td>[Manteiga]</td>\n",
       "      <td>0.4</td>\n",
       "      <td>0.8</td>\n",
       "      <td>1.6</td>\n",
       "    </tr>\n",
       "    <tr>\n",
       "      <th>4</th>\n",
       "      <td>[Café]</td>\n",
       "      <td>[Pão, Manteiga]</td>\n",
       "      <td>0.3</td>\n",
       "      <td>1.0</td>\n",
       "      <td>2.5</td>\n",
       "    </tr>\n",
       "    <tr>\n",
       "      <th>5</th>\n",
       "      <td>[Manteiga, Café]</td>\n",
       "      <td>[Pão]</td>\n",
       "      <td>0.3</td>\n",
       "      <td>1.0</td>\n",
       "      <td>2.0</td>\n",
       "    </tr>\n",
       "    <tr>\n",
       "      <th>6</th>\n",
       "      <td>[Pão, Café]</td>\n",
       "      <td>[Manteiga]</td>\n",
       "      <td>0.3</td>\n",
       "      <td>1.0</td>\n",
       "      <td>2.0</td>\n",
       "    </tr>\n",
       "  </tbody>\n",
       "</table>\n",
       "</div>"
      ],
      "text/plain": [
       "        Antecedente      Consequente  Suporte  Confianca  Lift\n",
       "0            [Café]       [Manteiga]      0.3        1.0   2.0\n",
       "1            [Café]            [Pão]      0.3        1.0   2.0\n",
       "2        [Manteiga]            [Pão]      0.4        0.8   1.6\n",
       "3             [Pão]       [Manteiga]      0.4        0.8   1.6\n",
       "4            [Café]  [Pão, Manteiga]      0.3        1.0   2.5\n",
       "5  [Manteiga, Café]            [Pão]      0.3        1.0   2.0\n",
       "6       [Pão, Café]       [Manteiga]      0.3        1.0   2.0"
      ]
     },
     "execution_count": 11,
     "metadata": {},
     "output_type": "execute_result"
    }
   ],
   "source": [
    "RegrasFinais_dy"
   ]
  },
  {
   "cell_type": "code",
   "execution_count": 12,
   "metadata": {},
   "outputs": [
    {
     "data": {
      "text/html": [
       "<div>\n",
       "<style scoped>\n",
       "    .dataframe tbody tr th:only-of-type {\n",
       "        vertical-align: middle;\n",
       "    }\n",
       "\n",
       "    .dataframe tbody tr th {\n",
       "        vertical-align: top;\n",
       "    }\n",
       "\n",
       "    .dataframe thead th {\n",
       "        text-align: right;\n",
       "    }\n",
       "</style>\n",
       "<table border=\"1\" class=\"dataframe\">\n",
       "  <thead>\n",
       "    <tr style=\"text-align: right;\">\n",
       "      <th></th>\n",
       "      <th>Antecedente</th>\n",
       "      <th>Suporte</th>\n",
       "    </tr>\n",
       "  </thead>\n",
       "  <tbody>\n",
       "    <tr>\n",
       "      <th>0</th>\n",
       "      <td>[Café]</td>\n",
       "      <td>0.3</td>\n",
       "    </tr>\n",
       "    <tr>\n",
       "      <th>1</th>\n",
       "      <td>[Manteiga]</td>\n",
       "      <td>0.5</td>\n",
       "    </tr>\n",
       "    <tr>\n",
       "      <th>2</th>\n",
       "      <td>[Pão]</td>\n",
       "      <td>0.5</td>\n",
       "    </tr>\n",
       "  </tbody>\n",
       "</table>\n",
       "</div>"
      ],
      "text/plain": [
       "  Antecedente  Suporte\n",
       "0      [Café]      0.3\n",
       "1  [Manteiga]      0.5\n",
       "2       [Pão]      0.5"
      ]
     },
     "execution_count": 12,
     "metadata": {},
     "output_type": "execute_result"
    }
   ],
   "source": [
    "ant = []\n",
    "sup = []\n",
    "\n",
    "for result in saida_dy:\n",
    "    s = result[1]\n",
    "    result_rules = result[2]\n",
    "    \n",
    "    for result_rule in result_rules:\n",
    "        a = list(result_rule[0])\n",
    "        b = list(result_rule[1])\n",
    "        c = result_rule[2]\n",
    "        l = result_rule[3]\n",
    "        \n",
    "        if 'nan' in a or 'nan' not in b: continue\n",
    "        if len(a) != 1 or len(b) != 1: continue\n",
    "            \n",
    "        ant.append(a)\n",
    "        con.append(b)\n",
    "        sup.append(s)\n",
    "        \n",
    "Itemset1 = pd.DataFrame({'Antecedente': ant, 'Suporte': sup})\n",
    "Itemset1"
   ]
  },
  {
   "cell_type": "code",
   "execution_count": 13,
   "metadata": {},
   "outputs": [
    {
     "data": {
      "text/html": [
       "<div>\n",
       "<style scoped>\n",
       "    .dataframe tbody tr th:only-of-type {\n",
       "        vertical-align: middle;\n",
       "    }\n",
       "\n",
       "    .dataframe tbody tr th {\n",
       "        vertical-align: top;\n",
       "    }\n",
       "\n",
       "    .dataframe thead th {\n",
       "        text-align: right;\n",
       "    }\n",
       "</style>\n",
       "<table border=\"1\" class=\"dataframe\">\n",
       "  <thead>\n",
       "    <tr style=\"text-align: right;\">\n",
       "      <th></th>\n",
       "      <th>Antecedente</th>\n",
       "      <th>Suporte</th>\n",
       "    </tr>\n",
       "  </thead>\n",
       "  <tbody>\n",
       "    <tr>\n",
       "      <th>0</th>\n",
       "      <td>[Manteiga, Café]</td>\n",
       "      <td>0.3</td>\n",
       "    </tr>\n",
       "    <tr>\n",
       "      <th>1</th>\n",
       "      <td>[Pão, Café]</td>\n",
       "      <td>0.3</td>\n",
       "    </tr>\n",
       "    <tr>\n",
       "      <th>2</th>\n",
       "      <td>[Pão, Manteiga]</td>\n",
       "      <td>0.4</td>\n",
       "    </tr>\n",
       "  </tbody>\n",
       "</table>\n",
       "</div>"
      ],
      "text/plain": [
       "        Antecedente  Suporte\n",
       "0  [Manteiga, Café]      0.3\n",
       "1       [Pão, Café]      0.3\n",
       "2   [Pão, Manteiga]      0.4"
      ]
     },
     "execution_count": 13,
     "metadata": {},
     "output_type": "execute_result"
    }
   ],
   "source": [
    "ant = []\n",
    "con = []\n",
    "sup = []\n",
    "\n",
    "for result in saida_dy:\n",
    "    s = result[1]\n",
    "    result_rules = result[2]\n",
    "    \n",
    "    for result_rule in result_rules:\n",
    "        a = list(result_rule[0])\n",
    "        b = list(result_rule[1])\n",
    "        c = result_rule[2]\n",
    "        l = result_rule[3]\n",
    "        \n",
    "        if 'nan' in a or 'nan' not in b: continue\n",
    "        if len(a) != 2 or len(b) != 1: continue\n",
    "            \n",
    "        ant.append(a)\n",
    "        con.append(b)\n",
    "        sup.append(s)\n",
    "        \n",
    "Itemset2 = pd.DataFrame({'Antecedente': ant, 'Suporte': sup})\n",
    "Itemset2"
   ]
  },
  {
   "cell_type": "code",
   "execution_count": 14,
   "metadata": {},
   "outputs": [
    {
     "data": {
      "text/html": [
       "<div>\n",
       "<style scoped>\n",
       "    .dataframe tbody tr th:only-of-type {\n",
       "        vertical-align: middle;\n",
       "    }\n",
       "\n",
       "    .dataframe tbody tr th {\n",
       "        vertical-align: top;\n",
       "    }\n",
       "\n",
       "    .dataframe thead th {\n",
       "        text-align: right;\n",
       "    }\n",
       "</style>\n",
       "<table border=\"1\" class=\"dataframe\">\n",
       "  <thead>\n",
       "    <tr style=\"text-align: right;\">\n",
       "      <th></th>\n",
       "      <th>Antecedente</th>\n",
       "      <th>Suporte</th>\n",
       "    </tr>\n",
       "  </thead>\n",
       "  <tbody>\n",
       "    <tr>\n",
       "      <th>0</th>\n",
       "      <td>[Pão, Manteiga, Café]</td>\n",
       "      <td>0.3</td>\n",
       "    </tr>\n",
       "  </tbody>\n",
       "</table>\n",
       "</div>"
      ],
      "text/plain": [
       "             Antecedente  Suporte\n",
       "0  [Pão, Manteiga, Café]      0.3"
      ]
     },
     "execution_count": 14,
     "metadata": {},
     "output_type": "execute_result"
    }
   ],
   "source": [
    "ant = []\n",
    "con = []\n",
    "sup = []\n",
    "\n",
    "for result in saida_dy:\n",
    "    s = result[1]\n",
    "    result_rules = result[2]\n",
    "    \n",
    "    for result_rule in result_rules:\n",
    "        a = list(result_rule[0])\n",
    "        b = list(result_rule[1])\n",
    "        c = result_rule[2]\n",
    "        l = result_rule[3]\n",
    "        \n",
    "        if 'nan' in a or 'nan' not in b: continue\n",
    "        if len(a) != 3 or len(b) != 1: continue\n",
    "            \n",
    "        ant.append(a)\n",
    "        con.append(b)\n",
    "        sup.append(s)\n",
    "        \n",
    "Itemset3 = pd.DataFrame({'Antecedente': ant, 'Suporte': sup})\n",
    "Itemset3"
   ]
  },
  {
   "cell_type": "markdown",
   "metadata": {},
   "source": [
    "# Quando não há presença do produto"
   ]
  },
  {
   "cell_type": "markdown",
   "metadata": {},
   "source": [
    "## Preparando o dataset"
   ]
  },
  {
   "cell_type": "code",
   "execution_count": 15,
   "metadata": {},
   "outputs": [
    {
     "data": {
      "text/html": [
       "<div>\n",
       "<style scoped>\n",
       "    .dataframe tbody tr th:only-of-type {\n",
       "        vertical-align: middle;\n",
       "    }\n",
       "\n",
       "    .dataframe tbody tr th {\n",
       "        vertical-align: top;\n",
       "    }\n",
       "\n",
       "    .dataframe thead th {\n",
       "        text-align: right;\n",
       "    }\n",
       "</style>\n",
       "<table border=\"1\" class=\"dataframe\">\n",
       "  <thead>\n",
       "    <tr style=\"text-align: right;\">\n",
       "      <th></th>\n",
       "      <th>0</th>\n",
       "      <th>1</th>\n",
       "      <th>2</th>\n",
       "      <th>3</th>\n",
       "      <th>4</th>\n",
       "      <th>5</th>\n",
       "      <th>6</th>\n",
       "    </tr>\n",
       "  </thead>\n",
       "  <tbody>\n",
       "    <tr>\n",
       "      <th>0</th>\n",
       "      <td>~Leite</td>\n",
       "      <td>Café</td>\n",
       "      <td>~Cerveja</td>\n",
       "      <td>Pão</td>\n",
       "      <td>Manteiga</td>\n",
       "      <td>~Arroz</td>\n",
       "      <td>~Feijão</td>\n",
       "    </tr>\n",
       "    <tr>\n",
       "      <th>1</th>\n",
       "      <td>Leite</td>\n",
       "      <td>~Café</td>\n",
       "      <td>Cerveja</td>\n",
       "      <td>Pão</td>\n",
       "      <td>Manteiga</td>\n",
       "      <td>~Arroz</td>\n",
       "      <td>~Feijão</td>\n",
       "    </tr>\n",
       "    <tr>\n",
       "      <th>2</th>\n",
       "      <td>~Leite</td>\n",
       "      <td>Café</td>\n",
       "      <td>~Cerveja</td>\n",
       "      <td>Pão</td>\n",
       "      <td>Manteiga</td>\n",
       "      <td>~Arroz</td>\n",
       "      <td>~Feijão</td>\n",
       "    </tr>\n",
       "    <tr>\n",
       "      <th>3</th>\n",
       "      <td>Leite</td>\n",
       "      <td>Café</td>\n",
       "      <td>~Cerveja</td>\n",
       "      <td>Pão</td>\n",
       "      <td>Manteiga</td>\n",
       "      <td>~Arroz</td>\n",
       "      <td>~Feijão</td>\n",
       "    </tr>\n",
       "    <tr>\n",
       "      <th>4</th>\n",
       "      <td>~Leite</td>\n",
       "      <td>~Café</td>\n",
       "      <td>Cerveja</td>\n",
       "      <td>~Pão</td>\n",
       "      <td>~Manteiga</td>\n",
       "      <td>~Arroz</td>\n",
       "      <td>~Feijão</td>\n",
       "    </tr>\n",
       "    <tr>\n",
       "      <th>5</th>\n",
       "      <td>~Leite</td>\n",
       "      <td>~Café</td>\n",
       "      <td>~Cerveja</td>\n",
       "      <td>~Pão</td>\n",
       "      <td>Manteiga</td>\n",
       "      <td>~Arroz</td>\n",
       "      <td>~Feijão</td>\n",
       "    </tr>\n",
       "    <tr>\n",
       "      <th>6</th>\n",
       "      <td>~Leite</td>\n",
       "      <td>~Café</td>\n",
       "      <td>~Cerveja</td>\n",
       "      <td>Pão</td>\n",
       "      <td>~Manteiga</td>\n",
       "      <td>~Arroz</td>\n",
       "      <td>~Feijão</td>\n",
       "    </tr>\n",
       "    <tr>\n",
       "      <th>7</th>\n",
       "      <td>~Leite</td>\n",
       "      <td>~Café</td>\n",
       "      <td>~Cerveja</td>\n",
       "      <td>~Pão</td>\n",
       "      <td>~Manteiga</td>\n",
       "      <td>~Arroz</td>\n",
       "      <td>Feijão</td>\n",
       "    </tr>\n",
       "    <tr>\n",
       "      <th>8</th>\n",
       "      <td>~Leite</td>\n",
       "      <td>~Café</td>\n",
       "      <td>~Cerveja</td>\n",
       "      <td>~Pão</td>\n",
       "      <td>~Manteiga</td>\n",
       "      <td>Arroz</td>\n",
       "      <td>Feijão</td>\n",
       "    </tr>\n",
       "    <tr>\n",
       "      <th>9</th>\n",
       "      <td>~Leite</td>\n",
       "      <td>~Café</td>\n",
       "      <td>~Cerveja</td>\n",
       "      <td>~Pão</td>\n",
       "      <td>~Manteiga</td>\n",
       "      <td>Arroz</td>\n",
       "      <td>~Feijão</td>\n",
       "    </tr>\n",
       "  </tbody>\n",
       "</table>\n",
       "</div>"
      ],
      "text/plain": [
       "        0      1         2     3          4       5        6\n",
       "0  ~Leite   Café  ~Cerveja   Pão   Manteiga  ~Arroz  ~Feijão\n",
       "1   Leite  ~Café   Cerveja   Pão   Manteiga  ~Arroz  ~Feijão\n",
       "2  ~Leite   Café  ~Cerveja   Pão   Manteiga  ~Arroz  ~Feijão\n",
       "3   Leite   Café  ~Cerveja   Pão   Manteiga  ~Arroz  ~Feijão\n",
       "4  ~Leite  ~Café   Cerveja  ~Pão  ~Manteiga  ~Arroz  ~Feijão\n",
       "5  ~Leite  ~Café  ~Cerveja  ~Pão   Manteiga  ~Arroz  ~Feijão\n",
       "6  ~Leite  ~Café  ~Cerveja   Pão  ~Manteiga  ~Arroz  ~Feijão\n",
       "7  ~Leite  ~Café  ~Cerveja  ~Pão  ~Manteiga  ~Arroz   Feijão\n",
       "8  ~Leite  ~Café  ~Cerveja  ~Pão  ~Manteiga   Arroz   Feijão\n",
       "9  ~Leite  ~Café  ~Cerveja  ~Pão  ~Manteiga   Arroz  ~Feijão"
      ]
     },
     "execution_count": 15,
     "metadata": {},
     "output_type": "execute_result"
    }
   ],
   "source": [
    "dn = base.copy()\n",
    "\n",
    "for col in dn.columns:\n",
    "    dn[col].replace('Sim', col, inplace = True)\n",
    "    dn[col].replace('Não', ('~' + col), inplace = True)\n",
    "    \n",
    "dn.columns = np.arange(len(dn.columns))\n",
    "dn"
   ]
  },
  {
   "cell_type": "markdown",
   "metadata": {},
   "source": [
    "## Dimensões do dataset"
   ]
  },
  {
   "cell_type": "code",
   "execution_count": 16,
   "metadata": {},
   "outputs": [
    {
     "data": {
      "text/plain": [
       "(10, 7)"
      ]
     },
     "execution_count": 16,
     "metadata": {},
     "output_type": "execute_result"
    }
   ],
   "source": [
    "base.shape"
   ]
  },
  {
   "cell_type": "markdown",
   "metadata": {},
   "source": [
    "## Transformando o dataset em uma lista"
   ]
  },
  {
   "cell_type": "code",
   "execution_count": 17,
   "metadata": {
    "id": "ZF8i0EdWCMjY"
   },
   "outputs": [],
   "source": [
    "# Iniciando a lista\n",
    "transacoes = []\n",
    "\n",
    "# inserindo na lista de transações\n",
    "for i in range(len(dn)):\n",
    "    transacoes.append([str(dn.values[i, j]) for j in range(dn.shape[1])])"
   ]
  },
  {
   "cell_type": "code",
   "execution_count": 18,
   "metadata": {
    "colab": {
     "base_uri": "https://localhost:8080/"
    },
    "id": "XH2CNc6VC3e3",
    "outputId": "04ebd6fd-6d5c-4232-ca87-866c512fcff8"
   },
   "outputs": [
    {
     "data": {
      "text/plain": [
       "[['~Leite', 'Café', '~Cerveja', 'Pão', 'Manteiga', '~Arroz', '~Feijão'],\n",
       " ['Leite', '~Café', 'Cerveja', 'Pão', 'Manteiga', '~Arroz', '~Feijão'],\n",
       " ['~Leite', 'Café', '~Cerveja', 'Pão', 'Manteiga', '~Arroz', '~Feijão'],\n",
       " ['Leite', 'Café', '~Cerveja', 'Pão', 'Manteiga', '~Arroz', '~Feijão'],\n",
       " ['~Leite', '~Café', 'Cerveja', '~Pão', '~Manteiga', '~Arroz', '~Feijão'],\n",
       " ['~Leite', '~Café', '~Cerveja', '~Pão', 'Manteiga', '~Arroz', '~Feijão'],\n",
       " ['~Leite', '~Café', '~Cerveja', 'Pão', '~Manteiga', '~Arroz', '~Feijão'],\n",
       " ['~Leite', '~Café', '~Cerveja', '~Pão', '~Manteiga', '~Arroz', 'Feijão'],\n",
       " ['~Leite', '~Café', '~Cerveja', '~Pão', '~Manteiga', 'Arroz', 'Feijão'],\n",
       " ['~Leite', '~Café', '~Cerveja', '~Pão', '~Manteiga', 'Arroz', '~Feijão']]"
      ]
     },
     "execution_count": 18,
     "metadata": {},
     "output_type": "execute_result"
    }
   ],
   "source": [
    "# visualizando a lista\n",
    "transacoes"
   ]
  },
  {
   "cell_type": "code",
   "execution_count": 19,
   "metadata": {
    "colab": {
     "base_uri": "https://localhost:8080/"
    },
    "id": "jF4Ec_ryDNfw",
    "outputId": "5dc3e8ca-9554-4dd2-b894-7998cb831b1e"
   },
   "outputs": [
    {
     "data": {
      "text/plain": [
       "list"
      ]
     },
     "execution_count": 19,
     "metadata": {},
     "output_type": "execute_result"
    }
   ],
   "source": [
    "# confirmando a estrutura da variavél\n",
    "type(transacoes)"
   ]
  },
  {
   "cell_type": "markdown",
   "metadata": {},
   "source": [
    "## Treinando o modelo apriori"
   ]
  },
  {
   "cell_type": "code",
   "execution_count": 20,
   "metadata": {},
   "outputs": [],
   "source": [
    "# chamando a biblioteca a ser usada\n",
    "from apyori import apriori"
   ]
  },
  {
   "cell_type": "code",
   "execution_count": 21,
   "metadata": {
    "colab": {
     "base_uri": "https://localhost:8080/"
    },
    "id": "DuX5YuabzqfQ",
    "outputId": "02c6a77b-140d-4d4c-c5ea-166abbcd7c8b",
    "scrolled": false
   },
   "outputs": [
    {
     "name": "stdout",
     "output_type": "stream",
     "text": [
      "117\n"
     ]
    }
   ],
   "source": [
    "# treinamento do apriori\n",
    "regras = apriori(transacoes, min_support = 0.3, min_confidence = 0.8)\n",
    "\n",
    "# retornando uma saida não tabular\n",
    "saida = list(regras)\n",
    "\n",
    "# imprimindo o tamanho final\n",
    "print(len(saida))"
   ]
  },
  {
   "cell_type": "markdown",
   "metadata": {},
   "source": [
    "## Visualizando o dataframe"
   ]
  },
  {
   "cell_type": "code",
   "execution_count": 22,
   "metadata": {
    "id": "UWDno2uo4aL0"
   },
   "outputs": [],
   "source": [
    "Antecedente = []\n",
    "Consequente = []\n",
    "suporte = []\n",
    "confianca = []\n",
    "lift = []\n",
    "\n",
    "for resultado in saida:\n",
    "    s = resultado[1]\n",
    "    result_rules = resultado[2]\n",
    "    \n",
    "    for result_rule in result_rules:\n",
    "        a = list(result_rule[0])\n",
    "        b = list(result_rule[1])\n",
    "        c = result_rule[2]\n",
    "        l = result_rule[3]\n",
    "        \n",
    "        \n",
    "        if len(a) == 0 or len(b) == 0: continue\n",
    "        elif any('~' not in item for item in a) or any('~' in item for item in b): continue\n",
    "            \n",
    "        Antecedente.append(a)\n",
    "        Consequente.append(b)\n",
    "        suporte.append(s)\n",
    "        confianca.append(c)\n",
    "        lift.append(l)\n",
    "        \n",
    "RegrasFinais = pd.DataFrame({'Antecedente': Antecedente, 'Consequente': Consequente, 'Suporte': suporte, 'Confianca': confianca, 'Lift': lift})"
   ]
  },
  {
   "cell_type": "code",
   "execution_count": 23,
   "metadata": {
    "colab": {
     "base_uri": "https://localhost:8080/",
     "height": 959
    },
    "id": "QW7wcZbe431-",
    "outputId": "4034cc1b-c464-498d-e722-0acd0f868550",
    "scrolled": true
   },
   "outputs": [
    {
     "data": {
      "text/html": [
       "<div>\n",
       "<style scoped>\n",
       "    .dataframe tbody tr th:only-of-type {\n",
       "        vertical-align: middle;\n",
       "    }\n",
       "\n",
       "    .dataframe tbody tr th {\n",
       "        vertical-align: top;\n",
       "    }\n",
       "\n",
       "    .dataframe thead th {\n",
       "        text-align: right;\n",
       "    }\n",
       "</style>\n",
       "<table border=\"1\" class=\"dataframe\">\n",
       "  <thead>\n",
       "    <tr style=\"text-align: right;\">\n",
       "      <th></th>\n",
       "      <th>Antecedente</th>\n",
       "      <th>Consequente</th>\n",
       "      <th>Suporte</th>\n",
       "      <th>Confianca</th>\n",
       "      <th>Lift</th>\n",
       "    </tr>\n",
       "  </thead>\n",
       "  <tbody>\n",
       "    <tr>\n",
       "      <th>0</th>\n",
       "      <td>[~Feijão, ~Arroz, ~Cerveja]</td>\n",
       "      <td>[Manteiga]</td>\n",
       "      <td>0.4</td>\n",
       "      <td>0.8</td>\n",
       "      <td>1.6</td>\n",
       "    </tr>\n",
       "    <tr>\n",
       "      <th>1</th>\n",
       "      <td>[~Feijão, ~Arroz, ~Cerveja]</td>\n",
       "      <td>[Pão]</td>\n",
       "      <td>0.4</td>\n",
       "      <td>0.8</td>\n",
       "      <td>1.6</td>\n",
       "    </tr>\n",
       "  </tbody>\n",
       "</table>\n",
       "</div>"
      ],
      "text/plain": [
       "                   Antecedente Consequente  Suporte  Confianca  Lift\n",
       "0  [~Feijão, ~Arroz, ~Cerveja]  [Manteiga]      0.4        0.8   1.6\n",
       "1  [~Feijão, ~Arroz, ~Cerveja]       [Pão]      0.4        0.8   1.6"
      ]
     },
     "execution_count": 23,
     "metadata": {},
     "output_type": "execute_result"
    }
   ],
   "source": [
    "RegrasFinais"
   ]
  }
 ],
 "metadata": {
  "colab": {
   "collapsed_sections": [],
   "provenance": []
  },
  "kernelspec": {
   "display_name": "Python 3 (ipykernel)",
   "language": "python",
   "name": "python3"
  },
  "language_info": {
   "codemirror_mode": {
    "name": "ipython",
    "version": 3
   },
   "file_extension": ".py",
   "mimetype": "text/x-python",
   "name": "python",
   "nbconvert_exporter": "python",
   "pygments_lexer": "ipython3",
   "version": "3.9.16"
  }
 },
 "nbformat": 4,
 "nbformat_minor": 1
}
