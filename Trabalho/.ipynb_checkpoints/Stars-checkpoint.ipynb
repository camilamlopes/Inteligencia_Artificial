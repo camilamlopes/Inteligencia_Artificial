{
 "cells": [
  {
   "cell_type": "markdown",
   "id": "f87b6ff8",
   "metadata": {},
   "source": [
    "# Importação de Bibliotecas"
   ]
  },
  {
   "cell_type": "code",
   "execution_count": 3,
   "id": "2fa33c53",
   "metadata": {},
   "outputs": [],
   "source": [
    "# Sistema\n",
    "import sys\n",
    "\n",
    "# Data processing\n",
    "import numpy as np\n",
    "import pandas as pd\n",
    "from sklearn.preprocessing import LabelEncoder\n",
    "from sklearn.preprocessing import OneHotEncoder\n",
    "\n",
    "# Data visualization\n",
    "import pickle\n",
    "import seaborn as sns\n",
    "import plotly.express as px\n",
    "import matplotlib.pyplot as plt\n",
    "\n",
    "# Model and performance\n",
    "from sklearn.compose import ColumnTransformer\n",
    "from sklearn.model_selection import GridSearchCV\n",
    "from yellowbrick.classifier import ConfusionMatrix\n",
    "from sklearn.metrics import accuracy_score, confusion_matrix, classification_report\n",
    "\n",
    "# Oversampling and under sampling\n",
    "from imblearn.under_sampling import TomekLinks\n",
    "from imblearn.over_sampling import SMOTE"
   ]
  },
  {
   "cell_type": "markdown",
   "id": "0461d5c6",
   "metadata": {},
   "source": [
    "# Abrindo o arquivo dos dados"
   ]
  },
  {
   "cell_type": "code",
   "execution_count": 22,
   "id": "2a131dbc",
   "metadata": {},
   "outputs": [
    {
     "name": "stderr",
     "output_type": "stream",
     "text": [
      "C:\\Users\\camil\\AppData\\Local\\Temp\\ipykernel_14412\\1891188213.py:1: FutureWarning: In a future version of pandas all arguments of read_csv except for the argument 'filepath_or_buffer' will be keyword-only.\n",
      "  base = pd.read_csv('Star_dataset.csv', ',')\n"
     ]
    },
    {
     "data": {
      "text/html": [
       "<div>\n",
       "<style scoped>\n",
       "    .dataframe tbody tr th:only-of-type {\n",
       "        vertical-align: middle;\n",
       "    }\n",
       "\n",
       "    .dataframe tbody tr th {\n",
       "        vertical-align: top;\n",
       "    }\n",
       "\n",
       "    .dataframe thead th {\n",
       "        text-align: right;\n",
       "    }\n",
       "</style>\n",
       "<table border=\"1\" class=\"dataframe\">\n",
       "  <thead>\n",
       "    <tr style=\"text-align: right;\">\n",
       "      <th></th>\n",
       "      <th>Temperature (K)</th>\n",
       "      <th>Luminosity(L/Lo)</th>\n",
       "      <th>Radius(R/Ro)</th>\n",
       "      <th>Absolute magnitude(Mv)</th>\n",
       "      <th>Star type</th>\n",
       "      <th>Star color</th>\n",
       "      <th>Spectral Class</th>\n",
       "    </tr>\n",
       "  </thead>\n",
       "  <tbody>\n",
       "    <tr>\n",
       "      <th>0</th>\n",
       "      <td>3068</td>\n",
       "      <td>0.002400</td>\n",
       "      <td>0.1700</td>\n",
       "      <td>16.12</td>\n",
       "      <td>0</td>\n",
       "      <td>Red</td>\n",
       "      <td>M</td>\n",
       "    </tr>\n",
       "    <tr>\n",
       "      <th>1</th>\n",
       "      <td>3042</td>\n",
       "      <td>0.000500</td>\n",
       "      <td>0.1542</td>\n",
       "      <td>16.60</td>\n",
       "      <td>0</td>\n",
       "      <td>Red</td>\n",
       "      <td>M</td>\n",
       "    </tr>\n",
       "    <tr>\n",
       "      <th>2</th>\n",
       "      <td>2600</td>\n",
       "      <td>0.000300</td>\n",
       "      <td>0.1020</td>\n",
       "      <td>18.70</td>\n",
       "      <td>0</td>\n",
       "      <td>Red</td>\n",
       "      <td>M</td>\n",
       "    </tr>\n",
       "    <tr>\n",
       "      <th>3</th>\n",
       "      <td>2800</td>\n",
       "      <td>0.000200</td>\n",
       "      <td>0.1600</td>\n",
       "      <td>16.65</td>\n",
       "      <td>0</td>\n",
       "      <td>Red</td>\n",
       "      <td>M</td>\n",
       "    </tr>\n",
       "    <tr>\n",
       "      <th>4</th>\n",
       "      <td>1939</td>\n",
       "      <td>0.000138</td>\n",
       "      <td>0.1030</td>\n",
       "      <td>20.06</td>\n",
       "      <td>0</td>\n",
       "      <td>Red</td>\n",
       "      <td>M</td>\n",
       "    </tr>\n",
       "  </tbody>\n",
       "</table>\n",
       "</div>"
      ],
      "text/plain": [
       "   Temperature (K)  Luminosity(L/Lo)  Radius(R/Ro)  Absolute magnitude(Mv)  \\\n",
       "0             3068          0.002400        0.1700                   16.12   \n",
       "1             3042          0.000500        0.1542                   16.60   \n",
       "2             2600          0.000300        0.1020                   18.70   \n",
       "3             2800          0.000200        0.1600                   16.65   \n",
       "4             1939          0.000138        0.1030                   20.06   \n",
       "\n",
       "   Star type Star color Spectral Class  \n",
       "0          0        Red              M  \n",
       "1          0        Red              M  \n",
       "2          0        Red              M  \n",
       "3          0        Red              M  \n",
       "4          0        Red              M  "
      ]
     },
     "execution_count": 22,
     "metadata": {},
     "output_type": "execute_result"
    }
   ],
   "source": [
    "base = pd.read_csv('Star_dataset.csv', ',')\n",
    "base.head()"
   ]
  },
  {
   "cell_type": "markdown",
   "id": "13204975",
   "metadata": {},
   "source": [
    "## Dimensões do dataset"
   ]
  },
  {
   "cell_type": "code",
   "execution_count": 18,
   "id": "7b650aa1",
   "metadata": {},
   "outputs": [
    {
     "name": "stdout",
     "output_type": "stream",
     "text": [
      "Number of columns: 7\n",
      "Number of rows: 240\n"
     ]
    }
   ],
   "source": [
    "print(f'Number of columns: {base.shape[1]}')\n",
    "print(f'Number of rows: {base.shape[0]}')"
   ]
  },
  {
   "cell_type": "markdown",
   "id": "02b7ed14",
   "metadata": {},
   "source": [
    "## Informação dos dados"
   ]
  },
  {
   "cell_type": "code",
   "execution_count": 19,
   "id": "62a7c084",
   "metadata": {},
   "outputs": [
    {
     "name": "stdout",
     "output_type": "stream",
     "text": [
      "<class 'pandas.core.frame.DataFrame'>\n",
      "RangeIndex: 240 entries, 0 to 239\n",
      "Data columns (total 7 columns):\n",
      " #   Column                  Non-Null Count  Dtype  \n",
      "---  ------                  --------------  -----  \n",
      " 0   Temperature (K)         240 non-null    int64  \n",
      " 1   Luminosity(L/Lo)        240 non-null    float64\n",
      " 2   Radius(R/Ro)            240 non-null    float64\n",
      " 3   Absolute magnitude(Mv)  240 non-null    float64\n",
      " 4   Star type               240 non-null    int64  \n",
      " 5   Star color              240 non-null    object \n",
      " 6   Spectral Class          240 non-null    object \n",
      "dtypes: float64(3), int64(2), object(2)\n",
      "memory usage: 13.2+ KB\n"
     ]
    }
   ],
   "source": [
    "base.info()"
   ]
  },
  {
   "cell_type": "markdown",
   "id": "385187e0",
   "metadata": {},
   "source": [
    "## Renomeando os atributos"
   ]
  },
  {
   "cell_type": "code",
   "execution_count": 23,
   "id": "2bf8294c",
   "metadata": {},
   "outputs": [
    {
     "data": {
      "text/html": [
       "<div>\n",
       "<style scoped>\n",
       "    .dataframe tbody tr th:only-of-type {\n",
       "        vertical-align: middle;\n",
       "    }\n",
       "\n",
       "    .dataframe tbody tr th {\n",
       "        vertical-align: top;\n",
       "    }\n",
       "\n",
       "    .dataframe thead th {\n",
       "        text-align: right;\n",
       "    }\n",
       "</style>\n",
       "<table border=\"1\" class=\"dataframe\">\n",
       "  <thead>\n",
       "    <tr style=\"text-align: right;\">\n",
       "      <th></th>\n",
       "      <th>Temperature</th>\n",
       "      <th>Luminosity</th>\n",
       "      <th>Radius</th>\n",
       "      <th>Absolute_magnitude</th>\n",
       "      <th>Type</th>\n",
       "      <th>Star_color</th>\n",
       "      <th>Spectral_class</th>\n",
       "    </tr>\n",
       "  </thead>\n",
       "  <tbody>\n",
       "    <tr>\n",
       "      <th>0</th>\n",
       "      <td>3068</td>\n",
       "      <td>0.002400</td>\n",
       "      <td>0.1700</td>\n",
       "      <td>16.12</td>\n",
       "      <td>0</td>\n",
       "      <td>Red</td>\n",
       "      <td>M</td>\n",
       "    </tr>\n",
       "    <tr>\n",
       "      <th>1</th>\n",
       "      <td>3042</td>\n",
       "      <td>0.000500</td>\n",
       "      <td>0.1542</td>\n",
       "      <td>16.60</td>\n",
       "      <td>0</td>\n",
       "      <td>Red</td>\n",
       "      <td>M</td>\n",
       "    </tr>\n",
       "    <tr>\n",
       "      <th>2</th>\n",
       "      <td>2600</td>\n",
       "      <td>0.000300</td>\n",
       "      <td>0.1020</td>\n",
       "      <td>18.70</td>\n",
       "      <td>0</td>\n",
       "      <td>Red</td>\n",
       "      <td>M</td>\n",
       "    </tr>\n",
       "    <tr>\n",
       "      <th>3</th>\n",
       "      <td>2800</td>\n",
       "      <td>0.000200</td>\n",
       "      <td>0.1600</td>\n",
       "      <td>16.65</td>\n",
       "      <td>0</td>\n",
       "      <td>Red</td>\n",
       "      <td>M</td>\n",
       "    </tr>\n",
       "    <tr>\n",
       "      <th>4</th>\n",
       "      <td>1939</td>\n",
       "      <td>0.000138</td>\n",
       "      <td>0.1030</td>\n",
       "      <td>20.06</td>\n",
       "      <td>0</td>\n",
       "      <td>Red</td>\n",
       "      <td>M</td>\n",
       "    </tr>\n",
       "    <tr>\n",
       "      <th>...</th>\n",
       "      <td>...</td>\n",
       "      <td>...</td>\n",
       "      <td>...</td>\n",
       "      <td>...</td>\n",
       "      <td>...</td>\n",
       "      <td>...</td>\n",
       "      <td>...</td>\n",
       "    </tr>\n",
       "    <tr>\n",
       "      <th>235</th>\n",
       "      <td>38940</td>\n",
       "      <td>374830.000000</td>\n",
       "      <td>1356.0000</td>\n",
       "      <td>-9.93</td>\n",
       "      <td>5</td>\n",
       "      <td>Blue</td>\n",
       "      <td>O</td>\n",
       "    </tr>\n",
       "    <tr>\n",
       "      <th>236</th>\n",
       "      <td>30839</td>\n",
       "      <td>834042.000000</td>\n",
       "      <td>1194.0000</td>\n",
       "      <td>-10.63</td>\n",
       "      <td>5</td>\n",
       "      <td>Blue</td>\n",
       "      <td>O</td>\n",
       "    </tr>\n",
       "    <tr>\n",
       "      <th>237</th>\n",
       "      <td>8829</td>\n",
       "      <td>537493.000000</td>\n",
       "      <td>1423.0000</td>\n",
       "      <td>-10.73</td>\n",
       "      <td>5</td>\n",
       "      <td>White</td>\n",
       "      <td>A</td>\n",
       "    </tr>\n",
       "    <tr>\n",
       "      <th>238</th>\n",
       "      <td>9235</td>\n",
       "      <td>404940.000000</td>\n",
       "      <td>1112.0000</td>\n",
       "      <td>-11.23</td>\n",
       "      <td>5</td>\n",
       "      <td>White</td>\n",
       "      <td>A</td>\n",
       "    </tr>\n",
       "    <tr>\n",
       "      <th>239</th>\n",
       "      <td>37882</td>\n",
       "      <td>294903.000000</td>\n",
       "      <td>1783.0000</td>\n",
       "      <td>-7.80</td>\n",
       "      <td>5</td>\n",
       "      <td>Blue</td>\n",
       "      <td>O</td>\n",
       "    </tr>\n",
       "  </tbody>\n",
       "</table>\n",
       "<p>240 rows × 7 columns</p>\n",
       "</div>"
      ],
      "text/plain": [
       "     Temperature     Luminosity     Radius  Absolute_magnitude  Type  \\\n",
       "0           3068       0.002400     0.1700               16.12     0   \n",
       "1           3042       0.000500     0.1542               16.60     0   \n",
       "2           2600       0.000300     0.1020               18.70     0   \n",
       "3           2800       0.000200     0.1600               16.65     0   \n",
       "4           1939       0.000138     0.1030               20.06     0   \n",
       "..           ...            ...        ...                 ...   ...   \n",
       "235        38940  374830.000000  1356.0000               -9.93     5   \n",
       "236        30839  834042.000000  1194.0000              -10.63     5   \n",
       "237         8829  537493.000000  1423.0000              -10.73     5   \n",
       "238         9235  404940.000000  1112.0000              -11.23     5   \n",
       "239        37882  294903.000000  1783.0000               -7.80     5   \n",
       "\n",
       "    Star_color Spectral_class  \n",
       "0          Red              M  \n",
       "1          Red              M  \n",
       "2          Red              M  \n",
       "3          Red              M  \n",
       "4          Red              M  \n",
       "..         ...            ...  \n",
       "235       Blue              O  \n",
       "236       Blue              O  \n",
       "237      White              A  \n",
       "238      White              A  \n",
       "239       Blue              O  \n",
       "\n",
       "[240 rows x 7 columns]"
      ]
     },
     "execution_count": 23,
     "metadata": {},
     "output_type": "execute_result"
    }
   ],
   "source": [
    "base.rename(columns={\"Temperature (K)\": \"Temperature\"}, inplace=True)\n",
    "base.rename(columns={\"Luminosity(L/Lo)\": \"Luminosity\"}, inplace=True)\n",
    "base.rename(columns={\"Radius(R/Ro)\": \"Radius\"}, inplace=True)\n",
    "base.rename(columns={\"Absolute magnitude(Mv)\": \"Absolute_magnitude\"}, inplace=True)\n",
    "base.rename(columns={\"Star type\": \"Type\"}, inplace=True)\n",
    "base.rename(columns={\"Star color\": \"Star_color\"}, inplace=True)\n",
    "base.rename(columns={\"Spectral Class\": \"Spectral_class\"}, inplace=True)\n",
    "base"
   ]
  },
  {
   "cell_type": "markdown",
   "id": "7afba0de",
   "metadata": {},
   "source": [
    "# Análise Exploratória"
   ]
  },
  {
   "cell_type": "markdown",
   "id": "35bec5e3",
   "metadata": {},
   "source": [
    "## Classe Tipo"
   ]
  },
  {
   "cell_type": "code",
   "execution_count": 88,
   "id": "10a322d1",
   "metadata": {},
   "outputs": [
    {
     "data": {
      "image/png": "[encoded data removed]",
      "text/plain": [
       "<Figure size 800x550 with 1 Axes>"
      ]
     },
     "metadata": {},
     "output_type": "display_data"
    }
   ],
   "source": [
    "sns.set()\n",
    "\n",
    "np.unique(base['Type'], return_counts=True), sns.countplot(x = base['Type']);"
   ]
  },
  {
   "cell_type": "markdown",
   "id": "ed173a7e",
   "metadata": {},
   "source": [
    "## Temperatura"
   ]
  },
  {
   "cell_type": "markdown",
   "id": "641f97dd",
   "metadata": {},
   "source": [
    "### Average, median and mode"
   ]
  },
  {
   "cell_type": "code",
   "execution_count": 13,
   "id": "a9cf5896",
   "metadata": {},
   "outputs": [
    {
     "data": {
      "text/html": [
       "<div>\n",
       "<style scoped>\n",
       "    .dataframe tbody tr th:only-of-type {\n",
       "        vertical-align: middle;\n",
       "    }\n",
       "\n",
       "    .dataframe tbody tr th {\n",
       "        vertical-align: top;\n",
       "    }\n",
       "\n",
       "    .dataframe thead th {\n",
       "        text-align: right;\n",
       "    }\n",
       "</style>\n",
       "<table border=\"1\" class=\"dataframe\">\n",
       "  <thead>\n",
       "    <tr style=\"text-align: right;\">\n",
       "      <th></th>\n",
       "      <th>Average</th>\n",
       "      <th>Median</th>\n",
       "      <th>Mode</th>\n",
       "    </tr>\n",
       "  </thead>\n",
       "  <tbody>\n",
       "    <tr>\n",
       "      <th>Values</th>\n",
       "      <td>10497.4625</td>\n",
       "      <td>5776.0</td>\n",
       "      <td>3600</td>\n",
       "    </tr>\n",
       "  </tbody>\n",
       "</table>\n",
       "</div>"
      ],
      "text/plain": [
       "           Average  Median  Mode\n",
       "Values  10497.4625  5776.0  3600"
      ]
     },
     "execution_count": 13,
     "metadata": {},
     "output_type": "execute_result"
    }
   ],
   "source": [
    "pd.DataFrame({'Average': base['Temperature'].mean(),\n",
    "              'Median': base['Temperature'].median(),\n",
    "              'Mode': base['Temperature'].mode()[0]},\n",
    "             index= ['Values'])"
   ]
  },
  {
   "cell_type": "markdown",
   "id": "ec664bc0",
   "metadata": {},
   "source": [
    "### Mean absolute deviation, variance and standard deviation"
   ]
  },
  {
   "cell_type": "code",
   "execution_count": 16,
   "id": "5da95722",
   "metadata": {},
   "outputs": [
    {
     "data": {
      "text/html": [
       "<div>\n",
       "<style scoped>\n",
       "    .dataframe tbody tr th:only-of-type {\n",
       "        vertical-align: middle;\n",
       "    }\n",
       "\n",
       "    .dataframe tbody tr th {\n",
       "        vertical-align: top;\n",
       "    }\n",
       "\n",
       "    .dataframe thead th {\n",
       "        text-align: right;\n",
       "    }\n",
       "</style>\n",
       "<table border=\"1\" class=\"dataframe\">\n",
       "  <thead>\n",
       "    <tr style=\"text-align: right;\">\n",
       "      <th></th>\n",
       "      <th>Mean absolute deviation</th>\n",
       "      <th>Variance</th>\n",
       "      <th>Standard deviation</th>\n",
       "    </tr>\n",
       "  </thead>\n",
       "  <tbody>\n",
       "    <tr>\n",
       "      <th>Values</th>\n",
       "      <td>7707.765312</td>\n",
       "      <td>9.124882e+07</td>\n",
       "      <td>9552.425037</td>\n",
       "    </tr>\n",
       "  </tbody>\n",
       "</table>\n",
       "</div>"
      ],
      "text/plain": [
       "        Mean absolute deviation      Variance  Standard deviation\n",
       "Values              7707.765312  9.124882e+07         9552.425037"
      ]
     },
     "execution_count": 16,
     "metadata": {},
     "output_type": "execute_result"
    }
   ],
   "source": [
    "pd.DataFrame({'Mean absolute deviation': (base['Temperature'] - base['Temperature'].mean()).abs().mean(),\n",
    "              'Variance': base['Temperature'].var(),\n",
    "              'Standard deviation': base['Temperature'].std()},\n",
    "             index= ['Values'])"
   ]
  },
  {
   "cell_type": "markdown",
   "id": "b993aefe",
   "metadata": {},
   "source": [
    "### Quartis"
   ]
  },
  {
   "cell_type": "code",
   "execution_count": 17,
   "id": "9e4961a3",
   "metadata": {},
   "outputs": [
    {
     "data": {
      "text/html": [
       "<div>\n",
       "<style scoped>\n",
       "    .dataframe tbody tr th:only-of-type {\n",
       "        vertical-align: middle;\n",
       "    }\n",
       "\n",
       "    .dataframe tbody tr th {\n",
       "        vertical-align: top;\n",
       "    }\n",
       "\n",
       "    .dataframe thead th {\n",
       "        text-align: right;\n",
       "    }\n",
       "</style>\n",
       "<table border=\"1\" class=\"dataframe\">\n",
       "  <thead>\n",
       "    <tr style=\"text-align: right;\">\n",
       "      <th></th>\n",
       "      <th>Temperature</th>\n",
       "    </tr>\n",
       "  </thead>\n",
       "  <tbody>\n",
       "    <tr>\n",
       "      <th>25%</th>\n",
       "      <td>3344.25</td>\n",
       "    </tr>\n",
       "    <tr>\n",
       "      <th>50%</th>\n",
       "      <td>5776.00</td>\n",
       "    </tr>\n",
       "    <tr>\n",
       "      <th>75%</th>\n",
       "      <td>15055.50</td>\n",
       "    </tr>\n",
       "  </tbody>\n",
       "</table>\n",
       "</div>"
      ],
      "text/plain": [
       "     Temperature\n",
       "25%      3344.25\n",
       "50%      5776.00\n",
       "75%     15055.50"
      ]
     },
     "execution_count": 17,
     "metadata": {},
     "output_type": "execute_result"
    }
   ],
   "source": [
    "pd.DataFrame(base['Temperature'].describe()[['25%', '50%', '75%']])"
   ]
  },
  {
   "cell_type": "markdown",
   "id": "36dcd491",
   "metadata": {},
   "source": [
    "### Histogram"
   ]
  },
  {
   "cell_type": "code",
   "execution_count": 67,
   "id": "3485aa28",
   "metadata": {},
   "outputs": [
    {
     "data": {
      "image/png": "[encoded data removed]",
      "text/plain": [
       "<Figure size 1000x800 with 1 Axes>"
      ]
     },
     "metadata": {},
     "output_type": "display_data"
    }
   ],
   "source": [
    "sns.set()\n",
    "\n",
    "plt.figure(figsize= (10, 8))\n",
    "ax = sns.histplot(data = base, x = 'Temperature', kde = True, color = 'royalblue')\n",
    "ax.set_title(\"Stars' temperatures histogram\", fontsize= 16)\n",
    "plt.xlabel('Temperature (K)')\n",
    "plt.show()"
   ]
  },
  {
   "cell_type": "markdown",
   "id": "fcd5e290",
   "metadata": {},
   "source": [
    "### Boxplot"
   ]
  },
  {
   "cell_type": "code",
   "execution_count": 82,
   "id": "46d38c73",
   "metadata": {},
   "outputs": [
    {
     "data": {
      "image/png": "[encoded data removed]",
      "text/plain": [
       "<Figure size 1000x800 with 1 Axes>"
      ]
     },
     "metadata": {},
     "output_type": "display_data"
    }
   ],
   "source": [
    "sns.set()\n",
    "\n",
    "plt.figure(figsize= (10, 8))\n",
    "ax = sns.boxplot(data = base, y = 'Temperature', color = 'RoyalBlue')\n",
    "ax.set_title(\"Stars' temperature boxplot\", fontsize= 16)\n",
    "plt.xlabel('Temperature (K)')\n",
    "plt.show()"
   ]
  },
  {
   "cell_type": "markdown",
   "id": "3de855a8",
   "metadata": {},
   "source": [
    "#### ▸Outliers"
   ]
  },
  {
   "cell_type": "code",
   "execution_count": 22,
   "id": "8e82ddbb",
   "metadata": {},
   "outputs": [],
   "source": [
    "upper_fence_temperature = base['Temperature'].quantile(0.75) + (1.5 * (base['Temperature'].quantile(0.75) - base['Temperature'].quantile(0.25)))"
   ]
  },
  {
   "cell_type": "code",
   "execution_count": 24,
   "id": "a8bb7db4",
   "metadata": {},
   "outputs": [
    {
     "data": {
      "text/plain": [
       "Type\n",
       "3       4\n",
       "4       4\n",
       "5       3\n",
       "dtype: int64"
      ]
     },
     "execution_count": 24,
     "metadata": {},
     "output_type": "execute_result"
    }
   ],
   "source": [
    "base.query('Temperature > @upper_fence_temperature').value_counts(['Type'])"
   ]
  },
  {
   "cell_type": "markdown",
   "id": "4f681a5e",
   "metadata": {},
   "source": [
    "## Luminosidade"
   ]
  },
  {
   "cell_type": "markdown",
   "id": "9d1c2949",
   "metadata": {},
   "source": [
    "### Average, median and mode"
   ]
  },
  {
   "cell_type": "code",
   "execution_count": 25,
   "id": "e899e5a2",
   "metadata": {},
   "outputs": [
    {
     "data": {
      "text/html": [
       "<div>\n",
       "<style scoped>\n",
       "    .dataframe tbody tr th:only-of-type {\n",
       "        vertical-align: middle;\n",
       "    }\n",
       "\n",
       "    .dataframe tbody tr th {\n",
       "        vertical-align: top;\n",
       "    }\n",
       "\n",
       "    .dataframe thead th {\n",
       "        text-align: right;\n",
       "    }\n",
       "</style>\n",
       "<table border=\"1\" class=\"dataframe\">\n",
       "  <thead>\n",
       "    <tr style=\"text-align: right;\">\n",
       "      <th></th>\n",
       "      <th>Average</th>\n",
       "      <th>Median</th>\n",
       "      <th>Mode</th>\n",
       "    </tr>\n",
       "  </thead>\n",
       "  <tbody>\n",
       "    <tr>\n",
       "      <th>Values</th>\n",
       "      <td>107188.361635</td>\n",
       "      <td>0.0705</td>\n",
       "      <td>200000.0</td>\n",
       "    </tr>\n",
       "  </tbody>\n",
       "</table>\n",
       "</div>"
      ],
      "text/plain": [
       "              Average  Median      Mode\n",
       "Values  107188.361635  0.0705  200000.0"
      ]
     },
     "execution_count": 25,
     "metadata": {},
     "output_type": "execute_result"
    }
   ],
   "source": [
    "pd.DataFrame({'Average': base['Luminosity'].mean(),\n",
    "              'Median': base['Luminosity'].median(),\n",
    "              'Mode': base['Luminosity'].mode()[0]},\n",
    "             index= ['Values'])"
   ]
  },
  {
   "cell_type": "markdown",
   "id": "55d04cbf",
   "metadata": {},
   "source": [
    "### Mean absolute deviation, variance and standard deviation"
   ]
  },
  {
   "cell_type": "code",
   "execution_count": 26,
   "id": "355a420e",
   "metadata": {},
   "outputs": [
    {
     "data": {
      "text/html": [
       "<div>\n",
       "<style scoped>\n",
       "    .dataframe tbody tr th:only-of-type {\n",
       "        vertical-align: middle;\n",
       "    }\n",
       "\n",
       "    .dataframe tbody tr th {\n",
       "        vertical-align: top;\n",
       "    }\n",
       "\n",
       "    .dataframe thead th {\n",
       "        text-align: right;\n",
       "    }\n",
       "</style>\n",
       "<table border=\"1\" class=\"dataframe\">\n",
       "  <thead>\n",
       "    <tr style=\"text-align: right;\">\n",
       "      <th></th>\n",
       "      <th>Mean absolute deviation</th>\n",
       "      <th>Variance</th>\n",
       "      <th>Standard deviation</th>\n",
       "    </tr>\n",
       "  </thead>\n",
       "  <tbody>\n",
       "    <tr>\n",
       "      <th>Values</th>\n",
       "      <td>136913.238522</td>\n",
       "      <td>3.219593e+10</td>\n",
       "      <td>179432.24494</td>\n",
       "    </tr>\n",
       "  </tbody>\n",
       "</table>\n",
       "</div>"
      ],
      "text/plain": [
       "        Mean absolute deviation      Variance  Standard deviation\n",
       "Values            136913.238522  3.219593e+10        179432.24494"
      ]
     },
     "execution_count": 26,
     "metadata": {},
     "output_type": "execute_result"
    }
   ],
   "source": [
    "pd.DataFrame({'Mean absolute deviation': (base['Luminosity'] - base['Luminosity'].mean()).abs().mean(),\n",
    "              'Variance': base['Luminosity'].var(),\n",
    "              'Standard deviation': base['Luminosity'].std()},\n",
    "             index= ['Values'])"
   ]
  },
  {
   "cell_type": "markdown",
   "id": "0b2e42d1",
   "metadata": {},
   "source": [
    "### Quartis"
   ]
  },
  {
   "cell_type": "code",
   "execution_count": 27,
   "id": "c7261faf",
   "metadata": {},
   "outputs": [
    {
     "data": {
      "text/html": [
       "<div>\n",
       "<style scoped>\n",
       "    .dataframe tbody tr th:only-of-type {\n",
       "        vertical-align: middle;\n",
       "    }\n",
       "\n",
       "    .dataframe tbody tr th {\n",
       "        vertical-align: top;\n",
       "    }\n",
       "\n",
       "    .dataframe thead th {\n",
       "        text-align: right;\n",
       "    }\n",
       "</style>\n",
       "<table border=\"1\" class=\"dataframe\">\n",
       "  <thead>\n",
       "    <tr style=\"text-align: right;\">\n",
       "      <th></th>\n",
       "      <th>Luminosity</th>\n",
       "    </tr>\n",
       "  </thead>\n",
       "  <tbody>\n",
       "    <tr>\n",
       "      <th>25%</th>\n",
       "      <td>0.000865</td>\n",
       "    </tr>\n",
       "    <tr>\n",
       "      <th>50%</th>\n",
       "      <td>0.070500</td>\n",
       "    </tr>\n",
       "    <tr>\n",
       "      <th>75%</th>\n",
       "      <td>198050.000000</td>\n",
       "    </tr>\n",
       "  </tbody>\n",
       "</table>\n",
       "</div>"
      ],
      "text/plain": [
       "        Luminosity\n",
       "25%       0.000865\n",
       "50%       0.070500\n",
       "75%  198050.000000"
      ]
     },
     "execution_count": 27,
     "metadata": {},
     "output_type": "execute_result"
    }
   ],
   "source": [
    "pd.DataFrame(base['Luminosity'].describe()[['25%', '50%', '75%']])"
   ]
  },
  {
   "cell_type": "markdown",
   "id": "a784d6e3",
   "metadata": {},
   "source": [
    "### Histogram"
   ]
  },
  {
   "cell_type": "code",
   "execution_count": 69,
   "id": "6182da21",
   "metadata": {},
   "outputs": [
    {
     "data": {
      "image/png": "[encoded data removed]",
      "text/plain": [
       "<Figure size 1000x800 with 1 Axes>"
      ]
     },
     "metadata": {},
     "output_type": "display_data"
    }
   ],
   "source": [
    "sns.set()\n",
    "\n",
    "plt.figure(figsize= (10, 8))\n",
    "ax = sns.histplot(data = base, x = 'Luminosity', kde= True)\n",
    "ax.set_title(\"Stars' luminosity histogram\", fontsize= 16)\n",
    "plt.xlabel('Luminosity (L/Lo)')\n",
    "plt.show()"
   ]
  },
  {
   "cell_type": "markdown",
   "id": "e45cc924",
   "metadata": {},
   "source": [
    "### Boxplot"
   ]
  },
  {
   "cell_type": "code",
   "execution_count": 83,
   "id": "e9555218",
   "metadata": {},
   "outputs": [
    {
     "data": {
      "image/png": "[encoded data removed]",
      "text/plain": [
       "<Figure size 1000x800 with 1 Axes>"
      ]
     },
     "metadata": {},
     "output_type": "display_data"
    }
   ],
   "source": [
    "sns.set()\n",
    "\n",
    "plt.figure(figsize= (10, 8))\n",
    "ax = sns.boxplot(data = base, y = 'Luminosity', color = 'RoyalBlue')\n",
    "ax.set_title(\"Stars' luminosity boxplot\", fontsize= 16)\n",
    "plt.xlabel('Luminosity (L/Lo)')\n",
    "plt.show()"
   ]
  },
  {
   "cell_type": "markdown",
   "id": "13713632",
   "metadata": {},
   "source": [
    "#### ▸Outliers"
   ]
  },
  {
   "cell_type": "code",
   "execution_count": 31,
   "id": "b1303321",
   "metadata": {},
   "outputs": [
    {
     "data": {
      "text/plain": [
       "Type\n",
       "5       7\n",
       "4       5\n",
       "dtype: int64"
      ]
     },
     "execution_count": 31,
     "metadata": {},
     "output_type": "execute_result"
    }
   ],
   "source": [
    "upper_fence_luminosity = base['Luminosity'].quantile(0.75) + (1.5 * (base['Luminosity'].quantile(0.75) - base['Luminosity'].quantile(0.25)))\n",
    "\n",
    "base.query('Luminosity > @upper_fence_luminosity').value_counts(['Type'])"
   ]
  },
  {
   "cell_type": "markdown",
   "id": "6166b4d2",
   "metadata": {},
   "source": [
    "## Raio"
   ]
  },
  {
   "cell_type": "markdown",
   "id": "def868b7",
   "metadata": {},
   "source": [
    "### Average, median and mode"
   ]
  },
  {
   "cell_type": "code",
   "execution_count": 32,
   "id": "e4e4102d",
   "metadata": {},
   "outputs": [
    {
     "data": {
      "text/html": [
       "<div>\n",
       "<style scoped>\n",
       "    .dataframe tbody tr th:only-of-type {\n",
       "        vertical-align: middle;\n",
       "    }\n",
       "\n",
       "    .dataframe tbody tr th {\n",
       "        vertical-align: top;\n",
       "    }\n",
       "\n",
       "    .dataframe thead th {\n",
       "        text-align: right;\n",
       "    }\n",
       "</style>\n",
       "<table border=\"1\" class=\"dataframe\">\n",
       "  <thead>\n",
       "    <tr style=\"text-align: right;\">\n",
       "      <th></th>\n",
       "      <th>Average</th>\n",
       "      <th>Median</th>\n",
       "      <th>Mode</th>\n",
       "    </tr>\n",
       "  </thead>\n",
       "  <tbody>\n",
       "    <tr>\n",
       "      <th>Values</th>\n",
       "      <td>237.157781</td>\n",
       "      <td>0.7625</td>\n",
       "      <td>0.11</td>\n",
       "    </tr>\n",
       "  </tbody>\n",
       "</table>\n",
       "</div>"
      ],
      "text/plain": [
       "           Average  Median  Mode\n",
       "Values  237.157781  0.7625  0.11"
      ]
     },
     "execution_count": 32,
     "metadata": {},
     "output_type": "execute_result"
    }
   ],
   "source": [
    "pd.DataFrame({'Average': base['Radius'].mean(),\n",
    "              'Median': base['Radius'].median(),\n",
    "              'Mode': base['Radius'].mode()[0]},\n",
    "             index= ['Values'])"
   ]
  },
  {
   "cell_type": "markdown",
   "id": "2c624dd7",
   "metadata": {},
   "source": [
    "### Mean absolute deviation, variance and standard deviation"
   ]
  },
  {
   "cell_type": "code",
   "execution_count": 33,
   "id": "e55097a0",
   "metadata": {},
   "outputs": [
    {
     "data": {
      "text/html": [
       "<div>\n",
       "<style scoped>\n",
       "    .dataframe tbody tr th:only-of-type {\n",
       "        vertical-align: middle;\n",
       "    }\n",
       "\n",
       "    .dataframe tbody tr th {\n",
       "        vertical-align: top;\n",
       "    }\n",
       "\n",
       "    .dataframe thead th {\n",
       "        text-align: right;\n",
       "    }\n",
       "</style>\n",
       "<table border=\"1\" class=\"dataframe\">\n",
       "  <thead>\n",
       "    <tr style=\"text-align: right;\">\n",
       "      <th></th>\n",
       "      <th>Mean absolute deviation</th>\n",
       "      <th>Variance</th>\n",
       "      <th>Standard deviation</th>\n",
       "    </tr>\n",
       "  </thead>\n",
       "  <tbody>\n",
       "    <tr>\n",
       "      <th>Values</th>\n",
       "      <td>376.579906</td>\n",
       "      <td>267450.083621</td>\n",
       "      <td>517.155763</td>\n",
       "    </tr>\n",
       "  </tbody>\n",
       "</table>\n",
       "</div>"
      ],
      "text/plain": [
       "        Mean absolute deviation       Variance  Standard deviation\n",
       "Values               376.579906  267450.083621          517.155763"
      ]
     },
     "execution_count": 33,
     "metadata": {},
     "output_type": "execute_result"
    }
   ],
   "source": [
    "pd.DataFrame({'Mean absolute deviation': (base['Radius'] - base['Radius'].mean()).abs().mean(),\n",
    "              'Variance': base['Radius'].var(),\n",
    "              'Standard deviation': base['Radius'].std()},\n",
    "             index= ['Values'])"
   ]
  },
  {
   "cell_type": "markdown",
   "id": "35fd3cc5",
   "metadata": {},
   "source": [
    "### Quartis"
   ]
  },
  {
   "cell_type": "code",
   "execution_count": 34,
   "id": "43fae6ba",
   "metadata": {},
   "outputs": [
    {
     "data": {
      "text/html": [
       "<div>\n",
       "<style scoped>\n",
       "    .dataframe tbody tr th:only-of-type {\n",
       "        vertical-align: middle;\n",
       "    }\n",
       "\n",
       "    .dataframe tbody tr th {\n",
       "        vertical-align: top;\n",
       "    }\n",
       "\n",
       "    .dataframe thead th {\n",
       "        text-align: right;\n",
       "    }\n",
       "</style>\n",
       "<table border=\"1\" class=\"dataframe\">\n",
       "  <thead>\n",
       "    <tr style=\"text-align: right;\">\n",
       "      <th></th>\n",
       "      <th>Radius</th>\n",
       "    </tr>\n",
       "  </thead>\n",
       "  <tbody>\n",
       "    <tr>\n",
       "      <th>25%</th>\n",
       "      <td>0.10275</td>\n",
       "    </tr>\n",
       "    <tr>\n",
       "      <th>50%</th>\n",
       "      <td>0.76250</td>\n",
       "    </tr>\n",
       "    <tr>\n",
       "      <th>75%</th>\n",
       "      <td>42.75000</td>\n",
       "    </tr>\n",
       "  </tbody>\n",
       "</table>\n",
       "</div>"
      ],
      "text/plain": [
       "       Radius\n",
       "25%   0.10275\n",
       "50%   0.76250\n",
       "75%  42.75000"
      ]
     },
     "execution_count": 34,
     "metadata": {},
     "output_type": "execute_result"
    }
   ],
   "source": [
    "pd.DataFrame(base['Radius'].describe()[['25%', '50%', '75%']])"
   ]
  },
  {
   "cell_type": "markdown",
   "id": "a476a0a5",
   "metadata": {},
   "source": [
    "### Histogram"
   ]
  },
  {
   "cell_type": "code",
   "execution_count": 71,
   "id": "f856785d",
   "metadata": {},
   "outputs": [
    {
     "data": {
      "image/png": "[encoded data removed]",
      "text/plain": [
       "<Figure size 1000x800 with 1 Axes>"
      ]
     },
     "metadata": {},
     "output_type": "display_data"
    }
   ],
   "source": [
    "sns.set()\n",
    "\n",
    "plt.figure(figsize= (10, 8))\n",
    "ax = sns.histplot(data = base, x = 'Radius', kde= True)\n",
    "ax.set_title(\"Stars' radius histogram\", fontsize= 16)\n",
    "plt.xlabel('Radius (R/Ro)')\n",
    "plt.show()"
   ]
  },
  {
   "cell_type": "markdown",
   "id": "8217d074",
   "metadata": {},
   "source": [
    "### Boxplot"
   ]
  },
  {
   "cell_type": "code",
   "execution_count": 84,
   "id": "3a05c253",
   "metadata": {},
   "outputs": [
    {
     "data": {
      "image/png": "[encoded data removed]",
      "text/plain": [
       "<Figure size 1000x800 with 1 Axes>"
      ]
     },
     "metadata": {},
     "output_type": "display_data"
    }
   ],
   "source": [
    "sns.set()\n",
    "\n",
    "plt.figure(figsize= (10, 8))\n",
    "ax = sns.boxplot(data = base, y = 'Radius', color = 'RoyalBlue')\n",
    "ax.set_title(\"Stars' radius boxplot\", fontsize= 16)\n",
    "plt.xlabel('Radius (R/Ro)')\n",
    "plt.show()"
   ]
  },
  {
   "cell_type": "markdown",
   "id": "19b25638",
   "metadata": {},
   "source": [
    "#### ▸Outliers"
   ]
  },
  {
   "cell_type": "code",
   "execution_count": 38,
   "id": "7ff5c28c",
   "metadata": {},
   "outputs": [
    {
     "data": {
      "text/plain": [
       "Type\n",
       "5       40\n",
       "dtype: int64"
      ]
     },
     "execution_count": 38,
     "metadata": {},
     "output_type": "execute_result"
    }
   ],
   "source": [
    "upper_fence_radius = base['Radius'].quantile(0.75) + (1.5 * (base['Radius'].quantile(0.75) - base['Radius'].quantile(0.25)))\n",
    "\n",
    "base.query('Radius > @upper_fence_radius').value_counts(['Type'])"
   ]
  },
  {
   "cell_type": "markdown",
   "id": "506fd0ea",
   "metadata": {},
   "source": [
    "## Magnitude Absoluta"
   ]
  },
  {
   "cell_type": "markdown",
   "id": "eb0520fd",
   "metadata": {},
   "source": [
    "### Average, median and mode"
   ]
  },
  {
   "cell_type": "code",
   "execution_count": 39,
   "id": "963d909a",
   "metadata": {},
   "outputs": [
    {
     "data": {
      "text/html": [
       "<div>\n",
       "<style scoped>\n",
       "    .dataframe tbody tr th:only-of-type {\n",
       "        vertical-align: middle;\n",
       "    }\n",
       "\n",
       "    .dataframe tbody tr th {\n",
       "        vertical-align: top;\n",
       "    }\n",
       "\n",
       "    .dataframe thead th {\n",
       "        text-align: right;\n",
       "    }\n",
       "</style>\n",
       "<table border=\"1\" class=\"dataframe\">\n",
       "  <thead>\n",
       "    <tr style=\"text-align: right;\">\n",
       "      <th></th>\n",
       "      <th>Average</th>\n",
       "      <th>Median</th>\n",
       "      <th>Mode</th>\n",
       "    </tr>\n",
       "  </thead>\n",
       "  <tbody>\n",
       "    <tr>\n",
       "      <th>Values</th>\n",
       "      <td>4.382396</td>\n",
       "      <td>8.313</td>\n",
       "      <td>12.23</td>\n",
       "    </tr>\n",
       "  </tbody>\n",
       "</table>\n",
       "</div>"
      ],
      "text/plain": [
       "         Average  Median   Mode\n",
       "Values  4.382396   8.313  12.23"
      ]
     },
     "execution_count": 39,
     "metadata": {},
     "output_type": "execute_result"
    }
   ],
   "source": [
    "pd.DataFrame({'Average': base['Absolute_magnitude'].mean(),\n",
    "              'Median': base['Absolute_magnitude'].median(),\n",
    "              'Mode': base['Absolute_magnitude'].mode()[0]},\n",
    "             index= ['Values'])"
   ]
  },
  {
   "cell_type": "markdown",
   "id": "d23981f9",
   "metadata": {},
   "source": [
    "### Mean absolute deviation, variance and standard deviation"
   ]
  },
  {
   "cell_type": "code",
   "execution_count": 40,
   "id": "e49c93b6",
   "metadata": {},
   "outputs": [
    {
     "data": {
      "text/html": [
       "<div>\n",
       "<style scoped>\n",
       "    .dataframe tbody tr th:only-of-type {\n",
       "        vertical-align: middle;\n",
       "    }\n",
       "\n",
       "    .dataframe tbody tr th {\n",
       "        vertical-align: top;\n",
       "    }\n",
       "\n",
       "    .dataframe thead th {\n",
       "        text-align: right;\n",
       "    }\n",
       "</style>\n",
       "<table border=\"1\" class=\"dataframe\">\n",
       "  <thead>\n",
       "    <tr style=\"text-align: right;\">\n",
       "      <th></th>\n",
       "      <th>Mean absolute deviation</th>\n",
       "      <th>Variance</th>\n",
       "      <th>Standard deviation</th>\n",
       "    </tr>\n",
       "  </thead>\n",
       "  <tbody>\n",
       "    <tr>\n",
       "      <th>Values</th>\n",
       "      <td>9.905969</td>\n",
       "      <td>110.933816</td>\n",
       "      <td>10.532512</td>\n",
       "    </tr>\n",
       "  </tbody>\n",
       "</table>\n",
       "</div>"
      ],
      "text/plain": [
       "        Mean absolute deviation    Variance  Standard deviation\n",
       "Values                 9.905969  110.933816           10.532512"
      ]
     },
     "execution_count": 40,
     "metadata": {},
     "output_type": "execute_result"
    }
   ],
   "source": [
    "pd.DataFrame({'Mean absolute deviation': (base['Absolute_magnitude'] - base['Absolute_magnitude'].mean()).abs().mean(),\n",
    "              'Variance': base['Absolute_magnitude'].var(),\n",
    "              'Standard deviation': base['Absolute_magnitude'].std()},\n",
    "             index= ['Values'])"
   ]
  },
  {
   "cell_type": "markdown",
   "id": "115b7e78",
   "metadata": {},
   "source": [
    "### Quartis"
   ]
  },
  {
   "cell_type": "code",
   "execution_count": 41,
   "id": "02500c0b",
   "metadata": {},
   "outputs": [
    {
     "data": {
      "text/html": [
       "<div>\n",
       "<style scoped>\n",
       "    .dataframe tbody tr th:only-of-type {\n",
       "        vertical-align: middle;\n",
       "    }\n",
       "\n",
       "    .dataframe tbody tr th {\n",
       "        vertical-align: top;\n",
       "    }\n",
       "\n",
       "    .dataframe thead th {\n",
       "        text-align: right;\n",
       "    }\n",
       "</style>\n",
       "<table border=\"1\" class=\"dataframe\">\n",
       "  <thead>\n",
       "    <tr style=\"text-align: right;\">\n",
       "      <th></th>\n",
       "      <th>Absolute_magnitude</th>\n",
       "    </tr>\n",
       "  </thead>\n",
       "  <tbody>\n",
       "    <tr>\n",
       "      <th>25%</th>\n",
       "      <td>-6.2325</td>\n",
       "    </tr>\n",
       "    <tr>\n",
       "      <th>50%</th>\n",
       "      <td>8.3130</td>\n",
       "    </tr>\n",
       "    <tr>\n",
       "      <th>75%</th>\n",
       "      <td>13.6975</td>\n",
       "    </tr>\n",
       "  </tbody>\n",
       "</table>\n",
       "</div>"
      ],
      "text/plain": [
       "     Absolute_magnitude\n",
       "25%             -6.2325\n",
       "50%              8.3130\n",
       "75%             13.6975"
      ]
     },
     "execution_count": 41,
     "metadata": {},
     "output_type": "execute_result"
    }
   ],
   "source": [
    "pd.DataFrame(base['Absolute_magnitude'].describe()[['25%', '50%', '75%']])"
   ]
  },
  {
   "cell_type": "markdown",
   "id": "f2e78f89",
   "metadata": {},
   "source": [
    "### Histogram"
   ]
  },
  {
   "cell_type": "code",
   "execution_count": 73,
   "id": "e6fecddb",
   "metadata": {},
   "outputs": [
    {
     "data": {
      "image/png": "[encoded data removed]",
      "text/plain": [
       "<Figure size 1000x800 with 1 Axes>"
      ]
     },
     "metadata": {},
     "output_type": "display_data"
    }
   ],
   "source": [
    "sns.set()\n",
    "\n",
    "plt.figure(figsize= (10, 8))\n",
    "ax = sns.histplot(data = base, x = 'Absolute_magnitude', kde= True)\n",
    "ax.set_title(\"Stars' absolute magnitude histogram\")\n",
    "plt.xlabel('Absolute magnitude (Mv)')\n",
    "plt.show()"
   ]
  },
  {
   "cell_type": "markdown",
   "id": "c4eca40e",
   "metadata": {},
   "source": [
    "### Boxplot"
   ]
  },
  {
   "cell_type": "code",
   "execution_count": 85,
   "id": "f71494ec",
   "metadata": {},
   "outputs": [
    {
     "data": {
      "image/png": "[encoded data removed]",
      "text/plain": [
       "<Figure size 1000x800 with 1 Axes>"
      ]
     },
     "metadata": {},
     "output_type": "display_data"
    }
   ],
   "source": [
    "sns.set()\n",
    "\n",
    "plt.figure(figsize= (10, 8))\n",
    "ax = sns.boxplot(data = base, y = 'Absolute_magnitude', color = 'RoyalBlue')\n",
    "ax.set_title(\"Stars' absolute magnitude boxplot\", fontsize= 16)\n",
    "plt.xlabel('Absolute magnitude (Mv)')\n",
    "plt.show()"
   ]
  },
  {
   "cell_type": "markdown",
   "id": "a201bdc7",
   "metadata": {},
   "source": [
    "## Cor da Estrela"
   ]
  },
  {
   "cell_type": "code",
   "execution_count": 47,
   "id": "d3a6a34f",
   "metadata": {},
   "outputs": [
    {
     "data": {
      "text/plain": [
       "(array(['Blue', 'Blue ', 'Blue White', 'Blue white', 'Blue white ',\n",
       "        'Blue-White', 'Blue-white', 'Orange', 'Orange-Red',\n",
       "        'Pale yellow orange', 'Red', 'White', 'White-Yellow', 'Whitish',\n",
       "        'Yellowish', 'Yellowish White', 'white', 'yellow-white',\n",
       "        'yellowish'], dtype=object),\n",
       " array([ 55,   1,  10,   3,   1,   1,  26,   2,   1,   1, 112,   7,   1,\n",
       "          2,   1,   3,   3,   8,   2], dtype=int64))"
      ]
     },
     "execution_count": 47,
     "metadata": {},
     "output_type": "execute_result"
    }
   ],
   "source": [
    "np.unique(base['Star_color'], return_counts=True)"
   ]
  },
  {
   "cell_type": "code",
   "execution_count": 48,
   "id": "90d7faf8",
   "metadata": {},
   "outputs": [],
   "source": [
    "base.replace('Blue ', 'Blue', inplace = True)"
   ]
  },
  {
   "cell_type": "code",
   "execution_count": 49,
   "id": "f9e5dfea",
   "metadata": {},
   "outputs": [],
   "source": [
    "base.replace(['Blue White', 'Blue white', 'Blue white ', 'Blue-white'], 'Blue-White', inplace= True)"
   ]
  },
  {
   "cell_type": "code",
   "execution_count": 50,
   "id": "5007b12b",
   "metadata": {},
   "outputs": [],
   "source": [
    "base.replace('white', 'White', inplace= True)"
   ]
  },
  {
   "cell_type": "code",
   "execution_count": 51,
   "id": "762d513f",
   "metadata": {},
   "outputs": [],
   "source": [
    "base.replace('yellowish', 'Yellowish', inplace = True)"
   ]
  },
  {
   "cell_type": "code",
   "execution_count": 52,
   "id": "9646a99d",
   "metadata": {},
   "outputs": [],
   "source": [
    "base.replace('yellow-white', 'Yellow White', inplace = True)"
   ]
  },
  {
   "cell_type": "code",
   "execution_count": 53,
   "id": "c142a453",
   "metadata": {},
   "outputs": [
    {
     "data": {
      "text/plain": [
       "(array(['Blue', 'Blue-White', 'Orange', 'Orange-Red', 'Pale yellow orange',\n",
       "        'Red', 'White', 'White-Yellow', 'Whitish', 'Yellow White',\n",
       "        'Yellowish', 'Yellowish White'], dtype=object),\n",
       " array([ 56,  41,   2,   1,   1, 112,  10,   1,   2,   8,   3,   3],\n",
       "       dtype=int64))"
      ]
     },
     "execution_count": 53,
     "metadata": {},
     "output_type": "execute_result"
    }
   ],
   "source": [
    "np.unique(base['Star_color'], return_counts=True)"
   ]
  },
  {
   "cell_type": "code",
   "execution_count": 54,
   "id": "fe6428b1",
   "metadata": {},
   "outputs": [],
   "source": [
    "count_star_color = pd.DataFrame({'Count': base['Star_color'].value_counts(ascending= True)})"
   ]
  },
  {
   "cell_type": "code",
   "execution_count": 75,
   "id": "99408c4a",
   "metadata": {},
   "outputs": [
    {
     "data": {
      "image/png": "[encoded data removed]",
      "text/plain": [
       "<Figure size 1000x800 with 1 Axes>"
      ]
     },
     "metadata": {},
     "output_type": "display_data"
    }
   ],
   "source": [
    "sns.set()\n",
    "\n",
    "plt.figure(figsize= (10, 8))\n",
    "bars = plt.barh(count_star_color.index, count_star_color['Count'])\n",
    "\n",
    "for index, bar in enumerate(bars):\n",
    "  plt.text(bar.get_width() + 1, index - 0.1, bar.get_width())\n",
    "\n",
    "plt.title('Count of stars per star color type', fontsize= 16)\n",
    "plt.xlabel('Count')\n",
    "plt.ylabel('Star color')\n",
    "plt.xlim([0, 140])\n",
    "plt.show()"
   ]
  },
  {
   "cell_type": "markdown",
   "id": "fc09c40e",
   "metadata": {},
   "source": [
    "## Classe Espectral"
   ]
  },
  {
   "cell_type": "code",
   "execution_count": 76,
   "id": "61a1f2b5",
   "metadata": {},
   "outputs": [
    {
     "data": {
      "image/png": "[encoded data removed]",
      "text/plain": [
       "<Figure size 800x550 with 1 Axes>"
      ]
     },
     "metadata": {},
     "output_type": "display_data"
    }
   ],
   "source": [
    "sns.set()\n",
    "\n",
    "np.unique(base['Spectral_Class'], return_counts=True), sns.countplot(x = base['Spectral_Class']);"
   ]
  },
  {
   "cell_type": "markdown",
   "id": "ab7a51fb",
   "metadata": {},
   "source": [
    "# Análise de Correlação"
   ]
  },
  {
   "cell_type": "code",
   "execution_count": 13,
   "id": "a14bed3d",
   "metadata": {},
   "outputs": [
    {
     "name": "stderr",
     "output_type": "stream",
     "text": [
      "C:\\Users\\camil\\AppData\\Local\\Temp\\ipykernel_14412\\1888619018.py:1: FutureWarning: The default value of numeric_only in DataFrame.corr is deprecated. In a future version, it will default to False. Select only valid columns or specify the value of numeric_only to silence this warning.\n",
      "  corr = base.corr()\n"
     ]
    }
   ],
   "source": [
    "corr = base.corr()"
   ]
  },
  {
   "cell_type": "code",
   "execution_count": 14,
   "id": "2799c69c",
   "metadata": {},
   "outputs": [
    {
     "data": {
      "image/png": "[encoded data removed]",
      "text/plain": [
       "<Figure size 1400x800 with 2 Axes>"
      ]
     },
     "metadata": {},
     "output_type": "display_data"
    }
   ],
   "source": [
    "# correlação entre variáveis\n",
    "sns.set()\n",
    "\n",
    "plt.figure(figsize=(14,8))\n",
    "sns.set_theme(style=\"white\")\n",
    "ax = sns.heatmap(corr, annot=True, fmt='.1g', cmap = 'mako')\n",
    "ax.set_title('Análise de correlação', fontsize= 16)\n",
    "plt.show()"
   ]
  },
  {
   "cell_type": "markdown",
   "id": "b7a340ce",
   "metadata": {},
   "source": [
    "# Definindo classe alvo"
   ]
  },
  {
   "cell_type": "code",
   "execution_count": 26,
   "id": "92fb53a1",
   "metadata": {},
   "outputs": [
    {
     "data": {
      "text/plain": [
       "0      0\n",
       "1      0\n",
       "2      0\n",
       "3      0\n",
       "4      0\n",
       "      ..\n",
       "235    5\n",
       "236    5\n",
       "237    5\n",
       "238    5\n",
       "239    5\n",
       "Name: Type, Length: 240, dtype: int64"
      ]
     },
     "execution_count": 26,
     "metadata": {},
     "output_type": "execute_result"
    }
   ],
   "source": [
    "y_classe = base['Type']\n",
    "y_classe"
   ]
  },
  {
   "cell_type": "markdown",
   "id": "b94b0734",
   "metadata": {},
   "source": [
    "# Definindo os atributos"
   ]
  },
  {
   "cell_type": "code",
   "execution_count": 47,
   "id": "650d01bf",
   "metadata": {},
   "outputs": [
    {
     "data": {
      "text/html": [
       "<div>\n",
       "<style scoped>\n",
       "    .dataframe tbody tr th:only-of-type {\n",
       "        vertical-align: middle;\n",
       "    }\n",
       "\n",
       "    .dataframe tbody tr th {\n",
       "        vertical-align: top;\n",
       "    }\n",
       "\n",
       "    .dataframe thead th {\n",
       "        text-align: right;\n",
       "    }\n",
       "</style>\n",
       "<table border=\"1\" class=\"dataframe\">\n",
       "  <thead>\n",
       "    <tr style=\"text-align: right;\">\n",
       "      <th></th>\n",
       "      <th>Temperature</th>\n",
       "      <th>Luminosity</th>\n",
       "      <th>Radius</th>\n",
       "      <th>Absolute_magnitude</th>\n",
       "      <th>Star_color</th>\n",
       "      <th>Spectral_class</th>\n",
       "    </tr>\n",
       "  </thead>\n",
       "  <tbody>\n",
       "    <tr>\n",
       "      <th>0</th>\n",
       "      <td>3068</td>\n",
       "      <td>0.002400</td>\n",
       "      <td>0.1700</td>\n",
       "      <td>16.12</td>\n",
       "      <td>Red</td>\n",
       "      <td>M</td>\n",
       "    </tr>\n",
       "    <tr>\n",
       "      <th>1</th>\n",
       "      <td>3042</td>\n",
       "      <td>0.000500</td>\n",
       "      <td>0.1542</td>\n",
       "      <td>16.60</td>\n",
       "      <td>Red</td>\n",
       "      <td>M</td>\n",
       "    </tr>\n",
       "    <tr>\n",
       "      <th>2</th>\n",
       "      <td>2600</td>\n",
       "      <td>0.000300</td>\n",
       "      <td>0.1020</td>\n",
       "      <td>18.70</td>\n",
       "      <td>Red</td>\n",
       "      <td>M</td>\n",
       "    </tr>\n",
       "    <tr>\n",
       "      <th>3</th>\n",
       "      <td>2800</td>\n",
       "      <td>0.000200</td>\n",
       "      <td>0.1600</td>\n",
       "      <td>16.65</td>\n",
       "      <td>Red</td>\n",
       "      <td>M</td>\n",
       "    </tr>\n",
       "    <tr>\n",
       "      <th>4</th>\n",
       "      <td>1939</td>\n",
       "      <td>0.000138</td>\n",
       "      <td>0.1030</td>\n",
       "      <td>20.06</td>\n",
       "      <td>Red</td>\n",
       "      <td>M</td>\n",
       "    </tr>\n",
       "    <tr>\n",
       "      <th>...</th>\n",
       "      <td>...</td>\n",
       "      <td>...</td>\n",
       "      <td>...</td>\n",
       "      <td>...</td>\n",
       "      <td>...</td>\n",
       "      <td>...</td>\n",
       "    </tr>\n",
       "    <tr>\n",
       "      <th>235</th>\n",
       "      <td>38940</td>\n",
       "      <td>374830.000000</td>\n",
       "      <td>1356.0000</td>\n",
       "      <td>-9.93</td>\n",
       "      <td>Blue</td>\n",
       "      <td>O</td>\n",
       "    </tr>\n",
       "    <tr>\n",
       "      <th>236</th>\n",
       "      <td>30839</td>\n",
       "      <td>834042.000000</td>\n",
       "      <td>1194.0000</td>\n",
       "      <td>-10.63</td>\n",
       "      <td>Blue</td>\n",
       "      <td>O</td>\n",
       "    </tr>\n",
       "    <tr>\n",
       "      <th>237</th>\n",
       "      <td>8829</td>\n",
       "      <td>537493.000000</td>\n",
       "      <td>1423.0000</td>\n",
       "      <td>-10.73</td>\n",
       "      <td>White</td>\n",
       "      <td>A</td>\n",
       "    </tr>\n",
       "    <tr>\n",
       "      <th>238</th>\n",
       "      <td>9235</td>\n",
       "      <td>404940.000000</td>\n",
       "      <td>1112.0000</td>\n",
       "      <td>-11.23</td>\n",
       "      <td>White</td>\n",
       "      <td>A</td>\n",
       "    </tr>\n",
       "    <tr>\n",
       "      <th>239</th>\n",
       "      <td>37882</td>\n",
       "      <td>294903.000000</td>\n",
       "      <td>1783.0000</td>\n",
       "      <td>-7.80</td>\n",
       "      <td>Blue</td>\n",
       "      <td>O</td>\n",
       "    </tr>\n",
       "  </tbody>\n",
       "</table>\n",
       "<p>240 rows × 6 columns</p>\n",
       "</div>"
      ],
      "text/plain": [
       "     Temperature     Luminosity     Radius  Absolute_magnitude Star_color  \\\n",
       "0           3068       0.002400     0.1700               16.12        Red   \n",
       "1           3042       0.000500     0.1542               16.60        Red   \n",
       "2           2600       0.000300     0.1020               18.70        Red   \n",
       "3           2800       0.000200     0.1600               16.65        Red   \n",
       "4           1939       0.000138     0.1030               20.06        Red   \n",
       "..           ...            ...        ...                 ...        ...   \n",
       "235        38940  374830.000000  1356.0000               -9.93       Blue   \n",
       "236        30839  834042.000000  1194.0000              -10.63       Blue   \n",
       "237         8829  537493.000000  1423.0000              -10.73      White   \n",
       "238         9235  404940.000000  1112.0000              -11.23      White   \n",
       "239        37882  294903.000000  1783.0000               -7.80       Blue   \n",
       "\n",
       "    Spectral_class  \n",
       "0                M  \n",
       "1                M  \n",
       "2                M  \n",
       "3                M  \n",
       "4                M  \n",
       "..             ...  \n",
       "235              O  \n",
       "236              O  \n",
       "237              A  \n",
       "238              A  \n",
       "239              O  \n",
       "\n",
       "[240 rows x 6 columns]"
      ]
     },
     "execution_count": 47,
     "metadata": {},
     "output_type": "execute_result"
    }
   ],
   "source": [
    "X_prev = base.drop('Type', axis= 1).iloc[:, 0:6].values\n",
    "X = base.drop('Type', axis= 1)\n",
    "X"
   ]
  },
  {
   "cell_type": "markdown",
   "id": "b7bc8680",
   "metadata": {},
   "source": [
    "# Pre-processamento"
   ]
  },
  {
   "cell_type": "code",
   "execution_count": 48,
   "id": "c097069c",
   "metadata": {},
   "outputs": [],
   "source": [
    "from sklearn.model_selection import train_test_split\n",
    "\n",
    "from category_encoders.one_hot import OneHotEncoder"
   ]
  },
  {
   "cell_type": "markdown",
   "id": "cb3b92f2",
   "metadata": {},
   "source": [
    "## Classse Espectral\n",
    "Atributo ordinal"
   ]
  },
  {
   "cell_type": "code",
   "execution_count": 50,
   "id": "22bb3e55",
   "metadata": {},
   "outputs": [
    {
     "data": {
      "text/html": [
       "<div>\n",
       "<style scoped>\n",
       "    .dataframe tbody tr th:only-of-type {\n",
       "        vertical-align: middle;\n",
       "    }\n",
       "\n",
       "    .dataframe tbody tr th {\n",
       "        vertical-align: top;\n",
       "    }\n",
       "\n",
       "    .dataframe thead th {\n",
       "        text-align: right;\n",
       "    }\n",
       "</style>\n",
       "<table border=\"1\" class=\"dataframe\">\n",
       "  <thead>\n",
       "    <tr style=\"text-align: right;\">\n",
       "      <th></th>\n",
       "      <th>Temperature</th>\n",
       "      <th>Luminosity</th>\n",
       "      <th>Radius</th>\n",
       "      <th>Absolute_magnitude</th>\n",
       "      <th>Star_color</th>\n",
       "      <th>Spectral_class</th>\n",
       "    </tr>\n",
       "  </thead>\n",
       "  <tbody>\n",
       "    <tr>\n",
       "      <th>0</th>\n",
       "      <td>3068</td>\n",
       "      <td>0.002400</td>\n",
       "      <td>0.1700</td>\n",
       "      <td>16.12</td>\n",
       "      <td>Red</td>\n",
       "      <td>0</td>\n",
       "    </tr>\n",
       "    <tr>\n",
       "      <th>1</th>\n",
       "      <td>3042</td>\n",
       "      <td>0.000500</td>\n",
       "      <td>0.1542</td>\n",
       "      <td>16.60</td>\n",
       "      <td>Red</td>\n",
       "      <td>0</td>\n",
       "    </tr>\n",
       "    <tr>\n",
       "      <th>2</th>\n",
       "      <td>2600</td>\n",
       "      <td>0.000300</td>\n",
       "      <td>0.1020</td>\n",
       "      <td>18.70</td>\n",
       "      <td>Red</td>\n",
       "      <td>0</td>\n",
       "    </tr>\n",
       "    <tr>\n",
       "      <th>3</th>\n",
       "      <td>2800</td>\n",
       "      <td>0.000200</td>\n",
       "      <td>0.1600</td>\n",
       "      <td>16.65</td>\n",
       "      <td>Red</td>\n",
       "      <td>0</td>\n",
       "    </tr>\n",
       "    <tr>\n",
       "      <th>4</th>\n",
       "      <td>1939</td>\n",
       "      <td>0.000138</td>\n",
       "      <td>0.1030</td>\n",
       "      <td>20.06</td>\n",
       "      <td>Red</td>\n",
       "      <td>0</td>\n",
       "    </tr>\n",
       "    <tr>\n",
       "      <th>...</th>\n",
       "      <td>...</td>\n",
       "      <td>...</td>\n",
       "      <td>...</td>\n",
       "      <td>...</td>\n",
       "      <td>...</td>\n",
       "      <td>...</td>\n",
       "    </tr>\n",
       "    <tr>\n",
       "      <th>235</th>\n",
       "      <td>38940</td>\n",
       "      <td>374830.000000</td>\n",
       "      <td>1356.0000</td>\n",
       "      <td>-9.93</td>\n",
       "      <td>Blue</td>\n",
       "      <td>6</td>\n",
       "    </tr>\n",
       "    <tr>\n",
       "      <th>236</th>\n",
       "      <td>30839</td>\n",
       "      <td>834042.000000</td>\n",
       "      <td>1194.0000</td>\n",
       "      <td>-10.63</td>\n",
       "      <td>Blue</td>\n",
       "      <td>6</td>\n",
       "    </tr>\n",
       "    <tr>\n",
       "      <th>237</th>\n",
       "      <td>8829</td>\n",
       "      <td>537493.000000</td>\n",
       "      <td>1423.0000</td>\n",
       "      <td>-10.73</td>\n",
       "      <td>White</td>\n",
       "      <td>4</td>\n",
       "    </tr>\n",
       "    <tr>\n",
       "      <th>238</th>\n",
       "      <td>9235</td>\n",
       "      <td>404940.000000</td>\n",
       "      <td>1112.0000</td>\n",
       "      <td>-11.23</td>\n",
       "      <td>White</td>\n",
       "      <td>4</td>\n",
       "    </tr>\n",
       "    <tr>\n",
       "      <th>239</th>\n",
       "      <td>37882</td>\n",
       "      <td>294903.000000</td>\n",
       "      <td>1783.0000</td>\n",
       "      <td>-7.80</td>\n",
       "      <td>Blue</td>\n",
       "      <td>6</td>\n",
       "    </tr>\n",
       "  </tbody>\n",
       "</table>\n",
       "<p>240 rows × 6 columns</p>\n",
       "</div>"
      ],
      "text/plain": [
       "     Temperature     Luminosity     Radius  Absolute_magnitude Star_color  \\\n",
       "0           3068       0.002400     0.1700               16.12        Red   \n",
       "1           3042       0.000500     0.1542               16.60        Red   \n",
       "2           2600       0.000300     0.1020               18.70        Red   \n",
       "3           2800       0.000200     0.1600               16.65        Red   \n",
       "4           1939       0.000138     0.1030               20.06        Red   \n",
       "..           ...            ...        ...                 ...        ...   \n",
       "235        38940  374830.000000  1356.0000               -9.93       Blue   \n",
       "236        30839  834042.000000  1194.0000              -10.63       Blue   \n",
       "237         8829  537493.000000  1423.0000              -10.73      White   \n",
       "238         9235  404940.000000  1112.0000              -11.23      White   \n",
       "239        37882  294903.000000  1783.0000               -7.80       Blue   \n",
       "\n",
       "     Spectral_class  \n",
       "0                 0  \n",
       "1                 0  \n",
       "2                 0  \n",
       "3                 0  \n",
       "4                 0  \n",
       "..              ...  \n",
       "235               6  \n",
       "236               6  \n",
       "237               4  \n",
       "238               4  \n",
       "239               6  \n",
       "\n",
       "[240 rows x 6 columns]"
      ]
     },
     "execution_count": 50,
     "metadata": {},
     "output_type": "execute_result"
    }
   ],
   "source": [
    "X['Spectral_class'] = X['Spectral_class'].map({'M': 0, 'K': 1, 'G': 2, 'F': 3, 'A': 4, 'B': 5, 'O': 6})\n",
    "X"
   ]
  },
  {
   "cell_type": "code",
   "execution_count": null,
   "id": "e7201fa5",
   "metadata": {},
   "outputs": [],
   "source": [
    "## Atributos norminais\n"
   ]
  },
  {
   "cell_type": "code",
   "execution_count": 51,
   "id": "3eb55c8a",
   "metadata": {},
   "outputs": [],
   "source": [
    "one_hot = OneHotEncoder(['Star_color'], use_cat_names= True)"
   ]
  },
  {
   "cell_type": "code",
   "execution_count": 52,
   "id": "9f41af1a",
   "metadata": {},
   "outputs": [],
   "source": [
    "X = one_hot.fit_transform(X)"
   ]
  },
  {
   "cell_type": "code",
   "execution_count": 53,
   "id": "d1a7ca7e",
   "metadata": {},
   "outputs": [
    {
     "data": {
      "text/html": [
       "<div>\n",
       "<style scoped>\n",
       "    .dataframe tbody tr th:only-of-type {\n",
       "        vertical-align: middle;\n",
       "    }\n",
       "\n",
       "    .dataframe tbody tr th {\n",
       "        vertical-align: top;\n",
       "    }\n",
       "\n",
       "    .dataframe thead th {\n",
       "        text-align: right;\n",
       "    }\n",
       "</style>\n",
       "<table border=\"1\" class=\"dataframe\">\n",
       "  <thead>\n",
       "    <tr style=\"text-align: right;\">\n",
       "      <th></th>\n",
       "      <th>Temperature</th>\n",
       "      <th>Luminosity</th>\n",
       "      <th>Radius</th>\n",
       "      <th>Absolute_magnitude</th>\n",
       "      <th>Star_color_Red</th>\n",
       "      <th>Star_color_Blue White</th>\n",
       "      <th>Star_color_White</th>\n",
       "      <th>Star_color_Yellowish White</th>\n",
       "      <th>Star_color_Blue white</th>\n",
       "      <th>Star_color_Pale yellow orange</th>\n",
       "      <th>...</th>\n",
       "      <th>Star_color_Orange</th>\n",
       "      <th>Star_color_White-Yellow</th>\n",
       "      <th>Star_color_white</th>\n",
       "      <th>Star_color_Blue</th>\n",
       "      <th>Star_color_yellowish</th>\n",
       "      <th>Star_color_Yellowish</th>\n",
       "      <th>Star_color_Orange-Red</th>\n",
       "      <th>Star_color_Blue white</th>\n",
       "      <th>Star_color_Blue-White</th>\n",
       "      <th>Spectral_class</th>\n",
       "    </tr>\n",
       "  </thead>\n",
       "  <tbody>\n",
       "    <tr>\n",
       "      <th>0</th>\n",
       "      <td>3068</td>\n",
       "      <td>0.002400</td>\n",
       "      <td>0.1700</td>\n",
       "      <td>16.12</td>\n",
       "      <td>1</td>\n",
       "      <td>0</td>\n",
       "      <td>0</td>\n",
       "      <td>0</td>\n",
       "      <td>0</td>\n",
       "      <td>0</td>\n",
       "      <td>...</td>\n",
       "      <td>0</td>\n",
       "      <td>0</td>\n",
       "      <td>0</td>\n",
       "      <td>0</td>\n",
       "      <td>0</td>\n",
       "      <td>0</td>\n",
       "      <td>0</td>\n",
       "      <td>0</td>\n",
       "      <td>0</td>\n",
       "      <td>0</td>\n",
       "    </tr>\n",
       "    <tr>\n",
       "      <th>1</th>\n",
       "      <td>3042</td>\n",
       "      <td>0.000500</td>\n",
       "      <td>0.1542</td>\n",
       "      <td>16.60</td>\n",
       "      <td>1</td>\n",
       "      <td>0</td>\n",
       "      <td>0</td>\n",
       "      <td>0</td>\n",
       "      <td>0</td>\n",
       "      <td>0</td>\n",
       "      <td>...</td>\n",
       "      <td>0</td>\n",
       "      <td>0</td>\n",
       "      <td>0</td>\n",
       "      <td>0</td>\n",
       "      <td>0</td>\n",
       "      <td>0</td>\n",
       "      <td>0</td>\n",
       "      <td>0</td>\n",
       "      <td>0</td>\n",
       "      <td>0</td>\n",
       "    </tr>\n",
       "    <tr>\n",
       "      <th>2</th>\n",
       "      <td>2600</td>\n",
       "      <td>0.000300</td>\n",
       "      <td>0.1020</td>\n",
       "      <td>18.70</td>\n",
       "      <td>1</td>\n",
       "      <td>0</td>\n",
       "      <td>0</td>\n",
       "      <td>0</td>\n",
       "      <td>0</td>\n",
       "      <td>0</td>\n",
       "      <td>...</td>\n",
       "      <td>0</td>\n",
       "      <td>0</td>\n",
       "      <td>0</td>\n",
       "      <td>0</td>\n",
       "      <td>0</td>\n",
       "      <td>0</td>\n",
       "      <td>0</td>\n",
       "      <td>0</td>\n",
       "      <td>0</td>\n",
       "      <td>0</td>\n",
       "    </tr>\n",
       "    <tr>\n",
       "      <th>3</th>\n",
       "      <td>2800</td>\n",
       "      <td>0.000200</td>\n",
       "      <td>0.1600</td>\n",
       "      <td>16.65</td>\n",
       "      <td>1</td>\n",
       "      <td>0</td>\n",
       "      <td>0</td>\n",
       "      <td>0</td>\n",
       "      <td>0</td>\n",
       "      <td>0</td>\n",
       "      <td>...</td>\n",
       "      <td>0</td>\n",
       "      <td>0</td>\n",
       "      <td>0</td>\n",
       "      <td>0</td>\n",
       "      <td>0</td>\n",
       "      <td>0</td>\n",
       "      <td>0</td>\n",
       "      <td>0</td>\n",
       "      <td>0</td>\n",
       "      <td>0</td>\n",
       "    </tr>\n",
       "    <tr>\n",
       "      <th>4</th>\n",
       "      <td>1939</td>\n",
       "      <td>0.000138</td>\n",
       "      <td>0.1030</td>\n",
       "      <td>20.06</td>\n",
       "      <td>1</td>\n",
       "      <td>0</td>\n",
       "      <td>0</td>\n",
       "      <td>0</td>\n",
       "      <td>0</td>\n",
       "      <td>0</td>\n",
       "      <td>...</td>\n",
       "      <td>0</td>\n",
       "      <td>0</td>\n",
       "      <td>0</td>\n",
       "      <td>0</td>\n",
       "      <td>0</td>\n",
       "      <td>0</td>\n",
       "      <td>0</td>\n",
       "      <td>0</td>\n",
       "      <td>0</td>\n",
       "      <td>0</td>\n",
       "    </tr>\n",
       "    <tr>\n",
       "      <th>...</th>\n",
       "      <td>...</td>\n",
       "      <td>...</td>\n",
       "      <td>...</td>\n",
       "      <td>...</td>\n",
       "      <td>...</td>\n",
       "      <td>...</td>\n",
       "      <td>...</td>\n",
       "      <td>...</td>\n",
       "      <td>...</td>\n",
       "      <td>...</td>\n",
       "      <td>...</td>\n",
       "      <td>...</td>\n",
       "      <td>...</td>\n",
       "      <td>...</td>\n",
       "      <td>...</td>\n",
       "      <td>...</td>\n",
       "      <td>...</td>\n",
       "      <td>...</td>\n",
       "      <td>...</td>\n",
       "      <td>...</td>\n",
       "      <td>...</td>\n",
       "    </tr>\n",
       "    <tr>\n",
       "      <th>235</th>\n",
       "      <td>38940</td>\n",
       "      <td>374830.000000</td>\n",
       "      <td>1356.0000</td>\n",
       "      <td>-9.93</td>\n",
       "      <td>0</td>\n",
       "      <td>0</td>\n",
       "      <td>0</td>\n",
       "      <td>0</td>\n",
       "      <td>0</td>\n",
       "      <td>0</td>\n",
       "      <td>...</td>\n",
       "      <td>0</td>\n",
       "      <td>0</td>\n",
       "      <td>0</td>\n",
       "      <td>0</td>\n",
       "      <td>0</td>\n",
       "      <td>0</td>\n",
       "      <td>0</td>\n",
       "      <td>0</td>\n",
       "      <td>0</td>\n",
       "      <td>6</td>\n",
       "    </tr>\n",
       "    <tr>\n",
       "      <th>236</th>\n",
       "      <td>30839</td>\n",
       "      <td>834042.000000</td>\n",
       "      <td>1194.0000</td>\n",
       "      <td>-10.63</td>\n",
       "      <td>0</td>\n",
       "      <td>0</td>\n",
       "      <td>0</td>\n",
       "      <td>0</td>\n",
       "      <td>0</td>\n",
       "      <td>0</td>\n",
       "      <td>...</td>\n",
       "      <td>0</td>\n",
       "      <td>0</td>\n",
       "      <td>0</td>\n",
       "      <td>0</td>\n",
       "      <td>0</td>\n",
       "      <td>0</td>\n",
       "      <td>0</td>\n",
       "      <td>0</td>\n",
       "      <td>0</td>\n",
       "      <td>6</td>\n",
       "    </tr>\n",
       "    <tr>\n",
       "      <th>237</th>\n",
       "      <td>8829</td>\n",
       "      <td>537493.000000</td>\n",
       "      <td>1423.0000</td>\n",
       "      <td>-10.73</td>\n",
       "      <td>0</td>\n",
       "      <td>0</td>\n",
       "      <td>1</td>\n",
       "      <td>0</td>\n",
       "      <td>0</td>\n",
       "      <td>0</td>\n",
       "      <td>...</td>\n",
       "      <td>0</td>\n",
       "      <td>0</td>\n",
       "      <td>0</td>\n",
       "      <td>0</td>\n",
       "      <td>0</td>\n",
       "      <td>0</td>\n",
       "      <td>0</td>\n",
       "      <td>0</td>\n",
       "      <td>0</td>\n",
       "      <td>4</td>\n",
       "    </tr>\n",
       "    <tr>\n",
       "      <th>238</th>\n",
       "      <td>9235</td>\n",
       "      <td>404940.000000</td>\n",
       "      <td>1112.0000</td>\n",
       "      <td>-11.23</td>\n",
       "      <td>0</td>\n",
       "      <td>0</td>\n",
       "      <td>1</td>\n",
       "      <td>0</td>\n",
       "      <td>0</td>\n",
       "      <td>0</td>\n",
       "      <td>...</td>\n",
       "      <td>0</td>\n",
       "      <td>0</td>\n",
       "      <td>0</td>\n",
       "      <td>0</td>\n",
       "      <td>0</td>\n",
       "      <td>0</td>\n",
       "      <td>0</td>\n",
       "      <td>0</td>\n",
       "      <td>0</td>\n",
       "      <td>4</td>\n",
       "    </tr>\n",
       "    <tr>\n",
       "      <th>239</th>\n",
       "      <td>37882</td>\n",
       "      <td>294903.000000</td>\n",
       "      <td>1783.0000</td>\n",
       "      <td>-7.80</td>\n",
       "      <td>0</td>\n",
       "      <td>0</td>\n",
       "      <td>0</td>\n",
       "      <td>0</td>\n",
       "      <td>0</td>\n",
       "      <td>0</td>\n",
       "      <td>...</td>\n",
       "      <td>0</td>\n",
       "      <td>0</td>\n",
       "      <td>0</td>\n",
       "      <td>0</td>\n",
       "      <td>0</td>\n",
       "      <td>0</td>\n",
       "      <td>0</td>\n",
       "      <td>0</td>\n",
       "      <td>0</td>\n",
       "      <td>6</td>\n",
       "    </tr>\n",
       "  </tbody>\n",
       "</table>\n",
       "<p>240 rows × 24 columns</p>\n",
       "</div>"
      ],
      "text/plain": [
       "     Temperature     Luminosity     Radius  Absolute_magnitude  \\\n",
       "0           3068       0.002400     0.1700               16.12   \n",
       "1           3042       0.000500     0.1542               16.60   \n",
       "2           2600       0.000300     0.1020               18.70   \n",
       "3           2800       0.000200     0.1600               16.65   \n",
       "4           1939       0.000138     0.1030               20.06   \n",
       "..           ...            ...        ...                 ...   \n",
       "235        38940  374830.000000  1356.0000               -9.93   \n",
       "236        30839  834042.000000  1194.0000              -10.63   \n",
       "237         8829  537493.000000  1423.0000              -10.73   \n",
       "238         9235  404940.000000  1112.0000              -11.23   \n",
       "239        37882  294903.000000  1783.0000               -7.80   \n",
       "\n",
       "     Star_color_Red  Star_color_Blue White  Star_color_White  \\\n",
       "0                 1                      0                 0   \n",
       "1                 1                      0                 0   \n",
       "2                 1                      0                 0   \n",
       "3                 1                      0                 0   \n",
       "4                 1                      0                 0   \n",
       "..              ...                    ...               ...   \n",
       "235               0                      0                 0   \n",
       "236               0                      0                 0   \n",
       "237               0                      0                 1   \n",
       "238               0                      0                 1   \n",
       "239               0                      0                 0   \n",
       "\n",
       "     Star_color_Yellowish White  Star_color_Blue white  \\\n",
       "0                             0                      0   \n",
       "1                             0                      0   \n",
       "2                             0                      0   \n",
       "3                             0                      0   \n",
       "4                             0                      0   \n",
       "..                          ...                    ...   \n",
       "235                           0                      0   \n",
       "236                           0                      0   \n",
       "237                           0                      0   \n",
       "238                           0                      0   \n",
       "239                           0                      0   \n",
       "\n",
       "     Star_color_Pale yellow orange  ...  Star_color_Orange  \\\n",
       "0                                0  ...                  0   \n",
       "1                                0  ...                  0   \n",
       "2                                0  ...                  0   \n",
       "3                                0  ...                  0   \n",
       "4                                0  ...                  0   \n",
       "..                             ...  ...                ...   \n",
       "235                              0  ...                  0   \n",
       "236                              0  ...                  0   \n",
       "237                              0  ...                  0   \n",
       "238                              0  ...                  0   \n",
       "239                              0  ...                  0   \n",
       "\n",
       "     Star_color_White-Yellow  Star_color_white  Star_color_Blue   \\\n",
       "0                          0                 0                 0   \n",
       "1                          0                 0                 0   \n",
       "2                          0                 0                 0   \n",
       "3                          0                 0                 0   \n",
       "4                          0                 0                 0   \n",
       "..                       ...               ...               ...   \n",
       "235                        0                 0                 0   \n",
       "236                        0                 0                 0   \n",
       "237                        0                 0                 0   \n",
       "238                        0                 0                 0   \n",
       "239                        0                 0                 0   \n",
       "\n",
       "     Star_color_yellowish  Star_color_Yellowish  Star_color_Orange-Red  \\\n",
       "0                       0                     0                      0   \n",
       "1                       0                     0                      0   \n",
       "2                       0                     0                      0   \n",
       "3                       0                     0                      0   \n",
       "4                       0                     0                      0   \n",
       "..                    ...                   ...                    ...   \n",
       "235                     0                     0                      0   \n",
       "236                     0                     0                      0   \n",
       "237                     0                     0                      0   \n",
       "238                     0                     0                      0   \n",
       "239                     0                     0                      0   \n",
       "\n",
       "     Star_color_Blue white   Star_color_Blue-White  Spectral_class  \n",
       "0                         0                      0               0  \n",
       "1                         0                      0               0  \n",
       "2                         0                      0               0  \n",
       "3                         0                      0               0  \n",
       "4                         0                      0               0  \n",
       "..                      ...                    ...             ...  \n",
       "235                       0                      0               6  \n",
       "236                       0                      0               6  \n",
       "237                       0                      0               4  \n",
       "238                       0                      0               4  \n",
       "239                       0                      0               6  \n",
       "\n",
       "[240 rows x 24 columns]"
      ]
     },
     "execution_count": 53,
     "metadata": {},
     "output_type": "execute_result"
    }
   ],
   "source": [
    "X"
   ]
  },
  {
   "cell_type": "code",
   "execution_count": null,
   "id": "07f9bb31",
   "metadata": {},
   "outputs": [],
   "source": []
  }
 ],
 "metadata": {
  "kernelspec": {
   "display_name": "Python 3 (ipykernel)",
   "language": "python",
   "name": "python3"
  },
  "language_info": {
   "codemirror_mode": {
    "name": "ipython",
    "version": 3
   },
   "file_extension": ".py",
   "mimetype": "text/x-python",
   "name": "python",
   "nbconvert_exporter": "python",
   "pygments_lexer": "ipython3",
   "version": "3.9.16"
  }
 },
 "nbformat": 4,
 "nbformat_minor": 5
}
